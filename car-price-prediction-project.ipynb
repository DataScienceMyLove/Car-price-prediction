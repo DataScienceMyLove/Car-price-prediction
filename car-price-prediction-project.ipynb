{
 "cells": [
  {
   "cell_type": "code",
   "execution_count": 1,
   "id": "63bde385",
   "metadata": {
    "_cell_guid": "b1076dfc-b9ad-4769-8c92-a6c4dae69d19",
    "_uuid": "8f2839f25d086af736a60e9eeb907d3b93b6e0e5",
    "execution": {
     "iopub.execute_input": "2025-10-08T00:20:57.886288Z",
     "iopub.status.busy": "2025-10-08T00:20:57.885875Z",
     "iopub.status.idle": "2025-10-08T00:20:59.715236Z",
     "shell.execute_reply": "2025-10-08T00:20:59.714171Z"
    },
    "papermill": {
     "duration": 1.851423,
     "end_time": "2025-10-08T00:20:59.716624",
     "exception": false,
     "start_time": "2025-10-08T00:20:57.865201",
     "status": "completed"
    },
    "tags": []
   },
   "outputs": [
    {
     "name": "stdout",
     "output_type": "stream",
     "text": [
      "/kaggle/input/cardataset/data.csv\n"
     ]
    }
   ],
   "source": [
    "# This Python 3 environment comes with many helpful analytics libraries installed\n",
    "# It is defined by the kaggle/python Docker image: https://github.com/kaggle/docker-python\n",
    "# For example, here's several helpful packages to load\n",
    "\n",
    "import numpy as np # linear algebra\n",
    "import pandas as pd # data processing, CSV file I/O (e.g. pd.read_csv)\n",
    "\n",
    "# Input data files are available in the read-only \"../input/\" directory\n",
    "# For example, running this (by clicking run or pressing Shift+Enter) will list all files under the input directory\n",
    "\n",
    "import os\n",
    "for dirname, _, filenames in os.walk('/kaggle/input'):\n",
    "    for filename in filenames:\n",
    "        print(os.path.join(dirname, filename))\n",
    "\n",
    "# You can write up to 20GB to the current directory (/kaggle/working/) that gets preserved as output when you create a version using \"Save & Run All\" \n",
    "# You can also write temporary files to /kaggle/temp/, but they won't be saved outside of the current session"
   ]
  },
  {
   "cell_type": "code",
   "execution_count": 2,
   "id": "37c72c9a",
   "metadata": {
    "execution": {
     "iopub.execute_input": "2025-10-08T00:20:59.749030Z",
     "iopub.status.busy": "2025-10-08T00:20:59.748577Z",
     "iopub.status.idle": "2025-10-08T00:20:59.838993Z",
     "shell.execute_reply": "2025-10-08T00:20:59.838188Z"
    },
    "papermill": {
     "duration": 0.108014,
     "end_time": "2025-10-08T00:20:59.840599",
     "exception": false,
     "start_time": "2025-10-08T00:20:59.732585",
     "status": "completed"
    },
    "tags": []
   },
   "outputs": [
    {
     "data": {
      "text/html": [
       "<div>\n",
       "<style scoped>\n",
       "    .dataframe tbody tr th:only-of-type {\n",
       "        vertical-align: middle;\n",
       "    }\n",
       "\n",
       "    .dataframe tbody tr th {\n",
       "        vertical-align: top;\n",
       "    }\n",
       "\n",
       "    .dataframe thead th {\n",
       "        text-align: right;\n",
       "    }\n",
       "</style>\n",
       "<table border=\"1\" class=\"dataframe\">\n",
       "  <thead>\n",
       "    <tr style=\"text-align: right;\">\n",
       "      <th></th>\n",
       "      <th>Make</th>\n",
       "      <th>Model</th>\n",
       "      <th>Year</th>\n",
       "      <th>Engine Fuel Type</th>\n",
       "      <th>Engine HP</th>\n",
       "      <th>Engine Cylinders</th>\n",
       "      <th>Transmission Type</th>\n",
       "      <th>Driven_Wheels</th>\n",
       "      <th>Number of Doors</th>\n",
       "      <th>Market Category</th>\n",
       "      <th>Vehicle Size</th>\n",
       "      <th>Vehicle Style</th>\n",
       "      <th>highway MPG</th>\n",
       "      <th>city mpg</th>\n",
       "      <th>Popularity</th>\n",
       "      <th>MSRP</th>\n",
       "    </tr>\n",
       "  </thead>\n",
       "  <tbody>\n",
       "    <tr>\n",
       "      <th>0</th>\n",
       "      <td>BMW</td>\n",
       "      <td>1 Series M</td>\n",
       "      <td>2011</td>\n",
       "      <td>premium unleaded (required)</td>\n",
       "      <td>335.0</td>\n",
       "      <td>6.0</td>\n",
       "      <td>MANUAL</td>\n",
       "      <td>rear wheel drive</td>\n",
       "      <td>2.0</td>\n",
       "      <td>Factory Tuner,Luxury,High-Performance</td>\n",
       "      <td>Compact</td>\n",
       "      <td>Coupe</td>\n",
       "      <td>26</td>\n",
       "      <td>19</td>\n",
       "      <td>3916</td>\n",
       "      <td>46135</td>\n",
       "    </tr>\n",
       "    <tr>\n",
       "      <th>1</th>\n",
       "      <td>BMW</td>\n",
       "      <td>1 Series</td>\n",
       "      <td>2011</td>\n",
       "      <td>premium unleaded (required)</td>\n",
       "      <td>300.0</td>\n",
       "      <td>6.0</td>\n",
       "      <td>MANUAL</td>\n",
       "      <td>rear wheel drive</td>\n",
       "      <td>2.0</td>\n",
       "      <td>Luxury,Performance</td>\n",
       "      <td>Compact</td>\n",
       "      <td>Convertible</td>\n",
       "      <td>28</td>\n",
       "      <td>19</td>\n",
       "      <td>3916</td>\n",
       "      <td>40650</td>\n",
       "    </tr>\n",
       "    <tr>\n",
       "      <th>2</th>\n",
       "      <td>BMW</td>\n",
       "      <td>1 Series</td>\n",
       "      <td>2011</td>\n",
       "      <td>premium unleaded (required)</td>\n",
       "      <td>300.0</td>\n",
       "      <td>6.0</td>\n",
       "      <td>MANUAL</td>\n",
       "      <td>rear wheel drive</td>\n",
       "      <td>2.0</td>\n",
       "      <td>Luxury,High-Performance</td>\n",
       "      <td>Compact</td>\n",
       "      <td>Coupe</td>\n",
       "      <td>28</td>\n",
       "      <td>20</td>\n",
       "      <td>3916</td>\n",
       "      <td>36350</td>\n",
       "    </tr>\n",
       "    <tr>\n",
       "      <th>3</th>\n",
       "      <td>BMW</td>\n",
       "      <td>1 Series</td>\n",
       "      <td>2011</td>\n",
       "      <td>premium unleaded (required)</td>\n",
       "      <td>230.0</td>\n",
       "      <td>6.0</td>\n",
       "      <td>MANUAL</td>\n",
       "      <td>rear wheel drive</td>\n",
       "      <td>2.0</td>\n",
       "      <td>Luxury,Performance</td>\n",
       "      <td>Compact</td>\n",
       "      <td>Coupe</td>\n",
       "      <td>28</td>\n",
       "      <td>18</td>\n",
       "      <td>3916</td>\n",
       "      <td>29450</td>\n",
       "    </tr>\n",
       "    <tr>\n",
       "      <th>4</th>\n",
       "      <td>BMW</td>\n",
       "      <td>1 Series</td>\n",
       "      <td>2011</td>\n",
       "      <td>premium unleaded (required)</td>\n",
       "      <td>230.0</td>\n",
       "      <td>6.0</td>\n",
       "      <td>MANUAL</td>\n",
       "      <td>rear wheel drive</td>\n",
       "      <td>2.0</td>\n",
       "      <td>Luxury</td>\n",
       "      <td>Compact</td>\n",
       "      <td>Convertible</td>\n",
       "      <td>28</td>\n",
       "      <td>18</td>\n",
       "      <td>3916</td>\n",
       "      <td>34500</td>\n",
       "    </tr>\n",
       "    <tr>\n",
       "      <th>...</th>\n",
       "      <td>...</td>\n",
       "      <td>...</td>\n",
       "      <td>...</td>\n",
       "      <td>...</td>\n",
       "      <td>...</td>\n",
       "      <td>...</td>\n",
       "      <td>...</td>\n",
       "      <td>...</td>\n",
       "      <td>...</td>\n",
       "      <td>...</td>\n",
       "      <td>...</td>\n",
       "      <td>...</td>\n",
       "      <td>...</td>\n",
       "      <td>...</td>\n",
       "      <td>...</td>\n",
       "      <td>...</td>\n",
       "    </tr>\n",
       "    <tr>\n",
       "      <th>11909</th>\n",
       "      <td>Acura</td>\n",
       "      <td>ZDX</td>\n",
       "      <td>2012</td>\n",
       "      <td>premium unleaded (required)</td>\n",
       "      <td>300.0</td>\n",
       "      <td>6.0</td>\n",
       "      <td>AUTOMATIC</td>\n",
       "      <td>all wheel drive</td>\n",
       "      <td>4.0</td>\n",
       "      <td>Crossover,Hatchback,Luxury</td>\n",
       "      <td>Midsize</td>\n",
       "      <td>4dr Hatchback</td>\n",
       "      <td>23</td>\n",
       "      <td>16</td>\n",
       "      <td>204</td>\n",
       "      <td>46120</td>\n",
       "    </tr>\n",
       "    <tr>\n",
       "      <th>11910</th>\n",
       "      <td>Acura</td>\n",
       "      <td>ZDX</td>\n",
       "      <td>2012</td>\n",
       "      <td>premium unleaded (required)</td>\n",
       "      <td>300.0</td>\n",
       "      <td>6.0</td>\n",
       "      <td>AUTOMATIC</td>\n",
       "      <td>all wheel drive</td>\n",
       "      <td>4.0</td>\n",
       "      <td>Crossover,Hatchback,Luxury</td>\n",
       "      <td>Midsize</td>\n",
       "      <td>4dr Hatchback</td>\n",
       "      <td>23</td>\n",
       "      <td>16</td>\n",
       "      <td>204</td>\n",
       "      <td>56670</td>\n",
       "    </tr>\n",
       "    <tr>\n",
       "      <th>11911</th>\n",
       "      <td>Acura</td>\n",
       "      <td>ZDX</td>\n",
       "      <td>2012</td>\n",
       "      <td>premium unleaded (required)</td>\n",
       "      <td>300.0</td>\n",
       "      <td>6.0</td>\n",
       "      <td>AUTOMATIC</td>\n",
       "      <td>all wheel drive</td>\n",
       "      <td>4.0</td>\n",
       "      <td>Crossover,Hatchback,Luxury</td>\n",
       "      <td>Midsize</td>\n",
       "      <td>4dr Hatchback</td>\n",
       "      <td>23</td>\n",
       "      <td>16</td>\n",
       "      <td>204</td>\n",
       "      <td>50620</td>\n",
       "    </tr>\n",
       "    <tr>\n",
       "      <th>11912</th>\n",
       "      <td>Acura</td>\n",
       "      <td>ZDX</td>\n",
       "      <td>2013</td>\n",
       "      <td>premium unleaded (recommended)</td>\n",
       "      <td>300.0</td>\n",
       "      <td>6.0</td>\n",
       "      <td>AUTOMATIC</td>\n",
       "      <td>all wheel drive</td>\n",
       "      <td>4.0</td>\n",
       "      <td>Crossover,Hatchback,Luxury</td>\n",
       "      <td>Midsize</td>\n",
       "      <td>4dr Hatchback</td>\n",
       "      <td>23</td>\n",
       "      <td>16</td>\n",
       "      <td>204</td>\n",
       "      <td>50920</td>\n",
       "    </tr>\n",
       "    <tr>\n",
       "      <th>11913</th>\n",
       "      <td>Lincoln</td>\n",
       "      <td>Zephyr</td>\n",
       "      <td>2006</td>\n",
       "      <td>regular unleaded</td>\n",
       "      <td>221.0</td>\n",
       "      <td>6.0</td>\n",
       "      <td>AUTOMATIC</td>\n",
       "      <td>front wheel drive</td>\n",
       "      <td>4.0</td>\n",
       "      <td>Luxury</td>\n",
       "      <td>Midsize</td>\n",
       "      <td>Sedan</td>\n",
       "      <td>26</td>\n",
       "      <td>17</td>\n",
       "      <td>61</td>\n",
       "      <td>28995</td>\n",
       "    </tr>\n",
       "  </tbody>\n",
       "</table>\n",
       "<p>11914 rows × 16 columns</p>\n",
       "</div>"
      ],
      "text/plain": [
       "          Make       Model  Year                Engine Fuel Type  Engine HP  \\\n",
       "0          BMW  1 Series M  2011     premium unleaded (required)      335.0   \n",
       "1          BMW    1 Series  2011     premium unleaded (required)      300.0   \n",
       "2          BMW    1 Series  2011     premium unleaded (required)      300.0   \n",
       "3          BMW    1 Series  2011     premium unleaded (required)      230.0   \n",
       "4          BMW    1 Series  2011     premium unleaded (required)      230.0   \n",
       "...        ...         ...   ...                             ...        ...   \n",
       "11909    Acura         ZDX  2012     premium unleaded (required)      300.0   \n",
       "11910    Acura         ZDX  2012     premium unleaded (required)      300.0   \n",
       "11911    Acura         ZDX  2012     premium unleaded (required)      300.0   \n",
       "11912    Acura         ZDX  2013  premium unleaded (recommended)      300.0   \n",
       "11913  Lincoln      Zephyr  2006                regular unleaded      221.0   \n",
       "\n",
       "       Engine Cylinders Transmission Type      Driven_Wheels  Number of Doors  \\\n",
       "0                   6.0            MANUAL   rear wheel drive              2.0   \n",
       "1                   6.0            MANUAL   rear wheel drive              2.0   \n",
       "2                   6.0            MANUAL   rear wheel drive              2.0   \n",
       "3                   6.0            MANUAL   rear wheel drive              2.0   \n",
       "4                   6.0            MANUAL   rear wheel drive              2.0   \n",
       "...                 ...               ...                ...              ...   \n",
       "11909               6.0         AUTOMATIC    all wheel drive              4.0   \n",
       "11910               6.0         AUTOMATIC    all wheel drive              4.0   \n",
       "11911               6.0         AUTOMATIC    all wheel drive              4.0   \n",
       "11912               6.0         AUTOMATIC    all wheel drive              4.0   \n",
       "11913               6.0         AUTOMATIC  front wheel drive              4.0   \n",
       "\n",
       "                             Market Category Vehicle Size  Vehicle Style  \\\n",
       "0      Factory Tuner,Luxury,High-Performance      Compact          Coupe   \n",
       "1                         Luxury,Performance      Compact    Convertible   \n",
       "2                    Luxury,High-Performance      Compact          Coupe   \n",
       "3                         Luxury,Performance      Compact          Coupe   \n",
       "4                                     Luxury      Compact    Convertible   \n",
       "...                                      ...          ...            ...   \n",
       "11909             Crossover,Hatchback,Luxury      Midsize  4dr Hatchback   \n",
       "11910             Crossover,Hatchback,Luxury      Midsize  4dr Hatchback   \n",
       "11911             Crossover,Hatchback,Luxury      Midsize  4dr Hatchback   \n",
       "11912             Crossover,Hatchback,Luxury      Midsize  4dr Hatchback   \n",
       "11913                                 Luxury      Midsize          Sedan   \n",
       "\n",
       "       highway MPG  city mpg  Popularity   MSRP  \n",
       "0               26        19        3916  46135  \n",
       "1               28        19        3916  40650  \n",
       "2               28        20        3916  36350  \n",
       "3               28        18        3916  29450  \n",
       "4               28        18        3916  34500  \n",
       "...            ...       ...         ...    ...  \n",
       "11909           23        16         204  46120  \n",
       "11910           23        16         204  56670  \n",
       "11911           23        16         204  50620  \n",
       "11912           23        16         204  50920  \n",
       "11913           26        17          61  28995  \n",
       "\n",
       "[11914 rows x 16 columns]"
      ]
     },
     "execution_count": 2,
     "metadata": {},
     "output_type": "execute_result"
    }
   ],
   "source": [
    "df = pd.read_csv(\"/kaggle/input/cardataset/data.csv\")\n",
    "df"
   ]
  },
  {
   "cell_type": "markdown",
   "id": "a0588ab7",
   "metadata": {
    "papermill": {
     "duration": 0.015582,
     "end_time": "2025-10-08T00:20:59.872569",
     "exception": false,
     "start_time": "2025-10-08T00:20:59.856987",
     "status": "completed"
    },
    "tags": []
   },
   "source": [
    "### Data Preparation"
   ]
  },
  {
   "cell_type": "markdown",
   "id": "6f479545",
   "metadata": {
    "papermill": {
     "duration": 0.015701,
     "end_time": "2025-10-08T00:20:59.904031",
     "exception": false,
     "start_time": "2025-10-08T00:20:59.888330",
     "status": "completed"
    },
    "tags": []
   },
   "source": [
    "#### Columns\n",
    "\n"
   ]
  },
  {
   "cell_type": "code",
   "execution_count": 3,
   "id": "ef7e7985",
   "metadata": {
    "execution": {
     "iopub.execute_input": "2025-10-08T00:20:59.936515Z",
     "iopub.status.busy": "2025-10-08T00:20:59.936218Z",
     "iopub.status.idle": "2025-10-08T00:20:59.942355Z",
     "shell.execute_reply": "2025-10-08T00:20:59.941695Z"
    },
    "papermill": {
     "duration": 0.023938,
     "end_time": "2025-10-08T00:20:59.943617",
     "exception": false,
     "start_time": "2025-10-08T00:20:59.919679",
     "status": "completed"
    },
    "tags": []
   },
   "outputs": [],
   "source": [
    "df.columns = df.columns.str.lower().str.replace(\" \",\"_\")"
   ]
  },
  {
   "cell_type": "code",
   "execution_count": 4,
   "id": "6b88628b",
   "metadata": {
    "execution": {
     "iopub.execute_input": "2025-10-08T00:20:59.976544Z",
     "iopub.status.busy": "2025-10-08T00:20:59.976280Z",
     "iopub.status.idle": "2025-10-08T00:20:59.991554Z",
     "shell.execute_reply": "2025-10-08T00:20:59.990656Z"
    },
    "papermill": {
     "duration": 0.033333,
     "end_time": "2025-10-08T00:20:59.992987",
     "exception": false,
     "start_time": "2025-10-08T00:20:59.959654",
     "status": "completed"
    },
    "tags": []
   },
   "outputs": [
    {
     "data": {
      "text/html": [
       "<div>\n",
       "<style scoped>\n",
       "    .dataframe tbody tr th:only-of-type {\n",
       "        vertical-align: middle;\n",
       "    }\n",
       "\n",
       "    .dataframe tbody tr th {\n",
       "        vertical-align: top;\n",
       "    }\n",
       "\n",
       "    .dataframe thead th {\n",
       "        text-align: right;\n",
       "    }\n",
       "</style>\n",
       "<table border=\"1\" class=\"dataframe\">\n",
       "  <thead>\n",
       "    <tr style=\"text-align: right;\">\n",
       "      <th></th>\n",
       "      <th>make</th>\n",
       "      <th>model</th>\n",
       "      <th>year</th>\n",
       "      <th>engine_fuel_type</th>\n",
       "      <th>engine_hp</th>\n",
       "      <th>engine_cylinders</th>\n",
       "      <th>transmission_type</th>\n",
       "      <th>driven_wheels</th>\n",
       "      <th>number_of_doors</th>\n",
       "      <th>market_category</th>\n",
       "      <th>vehicle_size</th>\n",
       "      <th>vehicle_style</th>\n",
       "      <th>highway_mpg</th>\n",
       "      <th>city_mpg</th>\n",
       "      <th>popularity</th>\n",
       "      <th>msrp</th>\n",
       "    </tr>\n",
       "  </thead>\n",
       "  <tbody>\n",
       "    <tr>\n",
       "      <th>0</th>\n",
       "      <td>BMW</td>\n",
       "      <td>1 Series M</td>\n",
       "      <td>2011</td>\n",
       "      <td>premium unleaded (required)</td>\n",
       "      <td>335.0</td>\n",
       "      <td>6.0</td>\n",
       "      <td>MANUAL</td>\n",
       "      <td>rear wheel drive</td>\n",
       "      <td>2.0</td>\n",
       "      <td>Factory Tuner,Luxury,High-Performance</td>\n",
       "      <td>Compact</td>\n",
       "      <td>Coupe</td>\n",
       "      <td>26</td>\n",
       "      <td>19</td>\n",
       "      <td>3916</td>\n",
       "      <td>46135</td>\n",
       "    </tr>\n",
       "    <tr>\n",
       "      <th>1</th>\n",
       "      <td>BMW</td>\n",
       "      <td>1 Series</td>\n",
       "      <td>2011</td>\n",
       "      <td>premium unleaded (required)</td>\n",
       "      <td>300.0</td>\n",
       "      <td>6.0</td>\n",
       "      <td>MANUAL</td>\n",
       "      <td>rear wheel drive</td>\n",
       "      <td>2.0</td>\n",
       "      <td>Luxury,Performance</td>\n",
       "      <td>Compact</td>\n",
       "      <td>Convertible</td>\n",
       "      <td>28</td>\n",
       "      <td>19</td>\n",
       "      <td>3916</td>\n",
       "      <td>40650</td>\n",
       "    </tr>\n",
       "    <tr>\n",
       "      <th>2</th>\n",
       "      <td>BMW</td>\n",
       "      <td>1 Series</td>\n",
       "      <td>2011</td>\n",
       "      <td>premium unleaded (required)</td>\n",
       "      <td>300.0</td>\n",
       "      <td>6.0</td>\n",
       "      <td>MANUAL</td>\n",
       "      <td>rear wheel drive</td>\n",
       "      <td>2.0</td>\n",
       "      <td>Luxury,High-Performance</td>\n",
       "      <td>Compact</td>\n",
       "      <td>Coupe</td>\n",
       "      <td>28</td>\n",
       "      <td>20</td>\n",
       "      <td>3916</td>\n",
       "      <td>36350</td>\n",
       "    </tr>\n",
       "    <tr>\n",
       "      <th>3</th>\n",
       "      <td>BMW</td>\n",
       "      <td>1 Series</td>\n",
       "      <td>2011</td>\n",
       "      <td>premium unleaded (required)</td>\n",
       "      <td>230.0</td>\n",
       "      <td>6.0</td>\n",
       "      <td>MANUAL</td>\n",
       "      <td>rear wheel drive</td>\n",
       "      <td>2.0</td>\n",
       "      <td>Luxury,Performance</td>\n",
       "      <td>Compact</td>\n",
       "      <td>Coupe</td>\n",
       "      <td>28</td>\n",
       "      <td>18</td>\n",
       "      <td>3916</td>\n",
       "      <td>29450</td>\n",
       "    </tr>\n",
       "    <tr>\n",
       "      <th>4</th>\n",
       "      <td>BMW</td>\n",
       "      <td>1 Series</td>\n",
       "      <td>2011</td>\n",
       "      <td>premium unleaded (required)</td>\n",
       "      <td>230.0</td>\n",
       "      <td>6.0</td>\n",
       "      <td>MANUAL</td>\n",
       "      <td>rear wheel drive</td>\n",
       "      <td>2.0</td>\n",
       "      <td>Luxury</td>\n",
       "      <td>Compact</td>\n",
       "      <td>Convertible</td>\n",
       "      <td>28</td>\n",
       "      <td>18</td>\n",
       "      <td>3916</td>\n",
       "      <td>34500</td>\n",
       "    </tr>\n",
       "  </tbody>\n",
       "</table>\n",
       "</div>"
      ],
      "text/plain": [
       "  make       model  year             engine_fuel_type  engine_hp  \\\n",
       "0  BMW  1 Series M  2011  premium unleaded (required)      335.0   \n",
       "1  BMW    1 Series  2011  premium unleaded (required)      300.0   \n",
       "2  BMW    1 Series  2011  premium unleaded (required)      300.0   \n",
       "3  BMW    1 Series  2011  premium unleaded (required)      230.0   \n",
       "4  BMW    1 Series  2011  premium unleaded (required)      230.0   \n",
       "\n",
       "   engine_cylinders transmission_type     driven_wheels  number_of_doors  \\\n",
       "0               6.0            MANUAL  rear wheel drive              2.0   \n",
       "1               6.0            MANUAL  rear wheel drive              2.0   \n",
       "2               6.0            MANUAL  rear wheel drive              2.0   \n",
       "3               6.0            MANUAL  rear wheel drive              2.0   \n",
       "4               6.0            MANUAL  rear wheel drive              2.0   \n",
       "\n",
       "                         market_category vehicle_size vehicle_style  \\\n",
       "0  Factory Tuner,Luxury,High-Performance      Compact         Coupe   \n",
       "1                     Luxury,Performance      Compact   Convertible   \n",
       "2                Luxury,High-Performance      Compact         Coupe   \n",
       "3                     Luxury,Performance      Compact         Coupe   \n",
       "4                                 Luxury      Compact   Convertible   \n",
       "\n",
       "   highway_mpg  city_mpg  popularity   msrp  \n",
       "0           26        19        3916  46135  \n",
       "1           28        19        3916  40650  \n",
       "2           28        20        3916  36350  \n",
       "3           28        18        3916  29450  \n",
       "4           28        18        3916  34500  "
      ]
     },
     "execution_count": 4,
     "metadata": {},
     "output_type": "execute_result"
    }
   ],
   "source": [
    "df.head()"
   ]
  },
  {
   "cell_type": "markdown",
   "id": "e6bc4b4b",
   "metadata": {
    "papermill": {
     "duration": 0.015552,
     "end_time": "2025-10-08T00:21:00.086426",
     "exception": false,
     "start_time": "2025-10-08T00:21:00.070874",
     "status": "completed"
    },
    "tags": []
   },
   "source": [
    "#### Data"
   ]
  },
  {
   "cell_type": "code",
   "execution_count": 5,
   "id": "669c4526",
   "metadata": {
    "execution": {
     "iopub.execute_input": "2025-10-08T00:21:00.118906Z",
     "iopub.status.busy": "2025-10-08T00:21:00.118630Z",
     "iopub.status.idle": "2025-10-08T00:21:00.123868Z",
     "shell.execute_reply": "2025-10-08T00:21:00.123006Z"
    },
    "papermill": {
     "duration": 0.02318,
     "end_time": "2025-10-08T00:21:00.125247",
     "exception": false,
     "start_time": "2025-10-08T00:21:00.102067",
     "status": "completed"
    },
    "tags": []
   },
   "outputs": [],
   "source": [
    "str_col = list(df.dtypes[df.dtypes == object].index)"
   ]
  },
  {
   "cell_type": "code",
   "execution_count": 6,
   "id": "5fcec040",
   "metadata": {
    "execution": {
     "iopub.execute_input": "2025-10-08T00:21:00.158783Z",
     "iopub.status.busy": "2025-10-08T00:21:00.158468Z",
     "iopub.status.idle": "2025-10-08T00:21:00.226905Z",
     "shell.execute_reply": "2025-10-08T00:21:00.225929Z"
    },
    "papermill": {
     "duration": 0.087186,
     "end_time": "2025-10-08T00:21:00.228581",
     "exception": false,
     "start_time": "2025-10-08T00:21:00.141395",
     "status": "completed"
    },
    "tags": []
   },
   "outputs": [
    {
     "data": {
      "text/html": [
       "<div>\n",
       "<style scoped>\n",
       "    .dataframe tbody tr th:only-of-type {\n",
       "        vertical-align: middle;\n",
       "    }\n",
       "\n",
       "    .dataframe tbody tr th {\n",
       "        vertical-align: top;\n",
       "    }\n",
       "\n",
       "    .dataframe thead th {\n",
       "        text-align: right;\n",
       "    }\n",
       "</style>\n",
       "<table border=\"1\" class=\"dataframe\">\n",
       "  <thead>\n",
       "    <tr style=\"text-align: right;\">\n",
       "      <th></th>\n",
       "      <th>make</th>\n",
       "      <th>model</th>\n",
       "      <th>year</th>\n",
       "      <th>engine_fuel_type</th>\n",
       "      <th>engine_hp</th>\n",
       "      <th>engine_cylinders</th>\n",
       "      <th>transmission_type</th>\n",
       "      <th>driven_wheels</th>\n",
       "      <th>number_of_doors</th>\n",
       "      <th>market_category</th>\n",
       "      <th>vehicle_size</th>\n",
       "      <th>vehicle_style</th>\n",
       "      <th>highway_mpg</th>\n",
       "      <th>city_mpg</th>\n",
       "      <th>popularity</th>\n",
       "      <th>msrp</th>\n",
       "    </tr>\n",
       "  </thead>\n",
       "  <tbody>\n",
       "    <tr>\n",
       "      <th>0</th>\n",
       "      <td>bmw</td>\n",
       "      <td>1_series_m</td>\n",
       "      <td>2011</td>\n",
       "      <td>premium_unleaded_(required)</td>\n",
       "      <td>335.0</td>\n",
       "      <td>6.0</td>\n",
       "      <td>manual</td>\n",
       "      <td>rear_wheel_drive</td>\n",
       "      <td>2.0</td>\n",
       "      <td>factory_tuner,luxury,high-performance</td>\n",
       "      <td>compact</td>\n",
       "      <td>coupe</td>\n",
       "      <td>26</td>\n",
       "      <td>19</td>\n",
       "      <td>3916</td>\n",
       "      <td>46135</td>\n",
       "    </tr>\n",
       "    <tr>\n",
       "      <th>1</th>\n",
       "      <td>bmw</td>\n",
       "      <td>1_series</td>\n",
       "      <td>2011</td>\n",
       "      <td>premium_unleaded_(required)</td>\n",
       "      <td>300.0</td>\n",
       "      <td>6.0</td>\n",
       "      <td>manual</td>\n",
       "      <td>rear_wheel_drive</td>\n",
       "      <td>2.0</td>\n",
       "      <td>luxury,performance</td>\n",
       "      <td>compact</td>\n",
       "      <td>convertible</td>\n",
       "      <td>28</td>\n",
       "      <td>19</td>\n",
       "      <td>3916</td>\n",
       "      <td>40650</td>\n",
       "    </tr>\n",
       "    <tr>\n",
       "      <th>2</th>\n",
       "      <td>bmw</td>\n",
       "      <td>1_series</td>\n",
       "      <td>2011</td>\n",
       "      <td>premium_unleaded_(required)</td>\n",
       "      <td>300.0</td>\n",
       "      <td>6.0</td>\n",
       "      <td>manual</td>\n",
       "      <td>rear_wheel_drive</td>\n",
       "      <td>2.0</td>\n",
       "      <td>luxury,high-performance</td>\n",
       "      <td>compact</td>\n",
       "      <td>coupe</td>\n",
       "      <td>28</td>\n",
       "      <td>20</td>\n",
       "      <td>3916</td>\n",
       "      <td>36350</td>\n",
       "    </tr>\n",
       "    <tr>\n",
       "      <th>3</th>\n",
       "      <td>bmw</td>\n",
       "      <td>1_series</td>\n",
       "      <td>2011</td>\n",
       "      <td>premium_unleaded_(required)</td>\n",
       "      <td>230.0</td>\n",
       "      <td>6.0</td>\n",
       "      <td>manual</td>\n",
       "      <td>rear_wheel_drive</td>\n",
       "      <td>2.0</td>\n",
       "      <td>luxury,performance</td>\n",
       "      <td>compact</td>\n",
       "      <td>coupe</td>\n",
       "      <td>28</td>\n",
       "      <td>18</td>\n",
       "      <td>3916</td>\n",
       "      <td>29450</td>\n",
       "    </tr>\n",
       "    <tr>\n",
       "      <th>4</th>\n",
       "      <td>bmw</td>\n",
       "      <td>1_series</td>\n",
       "      <td>2011</td>\n",
       "      <td>premium_unleaded_(required)</td>\n",
       "      <td>230.0</td>\n",
       "      <td>6.0</td>\n",
       "      <td>manual</td>\n",
       "      <td>rear_wheel_drive</td>\n",
       "      <td>2.0</td>\n",
       "      <td>luxury</td>\n",
       "      <td>compact</td>\n",
       "      <td>convertible</td>\n",
       "      <td>28</td>\n",
       "      <td>18</td>\n",
       "      <td>3916</td>\n",
       "      <td>34500</td>\n",
       "    </tr>\n",
       "    <tr>\n",
       "      <th>...</th>\n",
       "      <td>...</td>\n",
       "      <td>...</td>\n",
       "      <td>...</td>\n",
       "      <td>...</td>\n",
       "      <td>...</td>\n",
       "      <td>...</td>\n",
       "      <td>...</td>\n",
       "      <td>...</td>\n",
       "      <td>...</td>\n",
       "      <td>...</td>\n",
       "      <td>...</td>\n",
       "      <td>...</td>\n",
       "      <td>...</td>\n",
       "      <td>...</td>\n",
       "      <td>...</td>\n",
       "      <td>...</td>\n",
       "    </tr>\n",
       "    <tr>\n",
       "      <th>11909</th>\n",
       "      <td>acura</td>\n",
       "      <td>zdx</td>\n",
       "      <td>2012</td>\n",
       "      <td>premium_unleaded_(required)</td>\n",
       "      <td>300.0</td>\n",
       "      <td>6.0</td>\n",
       "      <td>automatic</td>\n",
       "      <td>all_wheel_drive</td>\n",
       "      <td>4.0</td>\n",
       "      <td>crossover,hatchback,luxury</td>\n",
       "      <td>midsize</td>\n",
       "      <td>4dr_hatchback</td>\n",
       "      <td>23</td>\n",
       "      <td>16</td>\n",
       "      <td>204</td>\n",
       "      <td>46120</td>\n",
       "    </tr>\n",
       "    <tr>\n",
       "      <th>11910</th>\n",
       "      <td>acura</td>\n",
       "      <td>zdx</td>\n",
       "      <td>2012</td>\n",
       "      <td>premium_unleaded_(required)</td>\n",
       "      <td>300.0</td>\n",
       "      <td>6.0</td>\n",
       "      <td>automatic</td>\n",
       "      <td>all_wheel_drive</td>\n",
       "      <td>4.0</td>\n",
       "      <td>crossover,hatchback,luxury</td>\n",
       "      <td>midsize</td>\n",
       "      <td>4dr_hatchback</td>\n",
       "      <td>23</td>\n",
       "      <td>16</td>\n",
       "      <td>204</td>\n",
       "      <td>56670</td>\n",
       "    </tr>\n",
       "    <tr>\n",
       "      <th>11911</th>\n",
       "      <td>acura</td>\n",
       "      <td>zdx</td>\n",
       "      <td>2012</td>\n",
       "      <td>premium_unleaded_(required)</td>\n",
       "      <td>300.0</td>\n",
       "      <td>6.0</td>\n",
       "      <td>automatic</td>\n",
       "      <td>all_wheel_drive</td>\n",
       "      <td>4.0</td>\n",
       "      <td>crossover,hatchback,luxury</td>\n",
       "      <td>midsize</td>\n",
       "      <td>4dr_hatchback</td>\n",
       "      <td>23</td>\n",
       "      <td>16</td>\n",
       "      <td>204</td>\n",
       "      <td>50620</td>\n",
       "    </tr>\n",
       "    <tr>\n",
       "      <th>11912</th>\n",
       "      <td>acura</td>\n",
       "      <td>zdx</td>\n",
       "      <td>2013</td>\n",
       "      <td>premium_unleaded_(recommended)</td>\n",
       "      <td>300.0</td>\n",
       "      <td>6.0</td>\n",
       "      <td>automatic</td>\n",
       "      <td>all_wheel_drive</td>\n",
       "      <td>4.0</td>\n",
       "      <td>crossover,hatchback,luxury</td>\n",
       "      <td>midsize</td>\n",
       "      <td>4dr_hatchback</td>\n",
       "      <td>23</td>\n",
       "      <td>16</td>\n",
       "      <td>204</td>\n",
       "      <td>50920</td>\n",
       "    </tr>\n",
       "    <tr>\n",
       "      <th>11913</th>\n",
       "      <td>lincoln</td>\n",
       "      <td>zephyr</td>\n",
       "      <td>2006</td>\n",
       "      <td>regular_unleaded</td>\n",
       "      <td>221.0</td>\n",
       "      <td>6.0</td>\n",
       "      <td>automatic</td>\n",
       "      <td>front_wheel_drive</td>\n",
       "      <td>4.0</td>\n",
       "      <td>luxury</td>\n",
       "      <td>midsize</td>\n",
       "      <td>sedan</td>\n",
       "      <td>26</td>\n",
       "      <td>17</td>\n",
       "      <td>61</td>\n",
       "      <td>28995</td>\n",
       "    </tr>\n",
       "  </tbody>\n",
       "</table>\n",
       "<p>11914 rows × 16 columns</p>\n",
       "</div>"
      ],
      "text/plain": [
       "          make       model  year                engine_fuel_type  engine_hp  \\\n",
       "0          bmw  1_series_m  2011     premium_unleaded_(required)      335.0   \n",
       "1          bmw    1_series  2011     premium_unleaded_(required)      300.0   \n",
       "2          bmw    1_series  2011     premium_unleaded_(required)      300.0   \n",
       "3          bmw    1_series  2011     premium_unleaded_(required)      230.0   \n",
       "4          bmw    1_series  2011     premium_unleaded_(required)      230.0   \n",
       "...        ...         ...   ...                             ...        ...   \n",
       "11909    acura         zdx  2012     premium_unleaded_(required)      300.0   \n",
       "11910    acura         zdx  2012     premium_unleaded_(required)      300.0   \n",
       "11911    acura         zdx  2012     premium_unleaded_(required)      300.0   \n",
       "11912    acura         zdx  2013  premium_unleaded_(recommended)      300.0   \n",
       "11913  lincoln      zephyr  2006                regular_unleaded      221.0   \n",
       "\n",
       "       engine_cylinders transmission_type      driven_wheels  number_of_doors  \\\n",
       "0                   6.0            manual   rear_wheel_drive              2.0   \n",
       "1                   6.0            manual   rear_wheel_drive              2.0   \n",
       "2                   6.0            manual   rear_wheel_drive              2.0   \n",
       "3                   6.0            manual   rear_wheel_drive              2.0   \n",
       "4                   6.0            manual   rear_wheel_drive              2.0   \n",
       "...                 ...               ...                ...              ...   \n",
       "11909               6.0         automatic    all_wheel_drive              4.0   \n",
       "11910               6.0         automatic    all_wheel_drive              4.0   \n",
       "11911               6.0         automatic    all_wheel_drive              4.0   \n",
       "11912               6.0         automatic    all_wheel_drive              4.0   \n",
       "11913               6.0         automatic  front_wheel_drive              4.0   \n",
       "\n",
       "                             market_category vehicle_size  vehicle_style  \\\n",
       "0      factory_tuner,luxury,high-performance      compact          coupe   \n",
       "1                         luxury,performance      compact    convertible   \n",
       "2                    luxury,high-performance      compact          coupe   \n",
       "3                         luxury,performance      compact          coupe   \n",
       "4                                     luxury      compact    convertible   \n",
       "...                                      ...          ...            ...   \n",
       "11909             crossover,hatchback,luxury      midsize  4dr_hatchback   \n",
       "11910             crossover,hatchback,luxury      midsize  4dr_hatchback   \n",
       "11911             crossover,hatchback,luxury      midsize  4dr_hatchback   \n",
       "11912             crossover,hatchback,luxury      midsize  4dr_hatchback   \n",
       "11913                                 luxury      midsize          sedan   \n",
       "\n",
       "       highway_mpg  city_mpg  popularity   msrp  \n",
       "0               26        19        3916  46135  \n",
       "1               28        19        3916  40650  \n",
       "2               28        20        3916  36350  \n",
       "3               28        18        3916  29450  \n",
       "4               28        18        3916  34500  \n",
       "...            ...       ...         ...    ...  \n",
       "11909           23        16         204  46120  \n",
       "11910           23        16         204  56670  \n",
       "11911           23        16         204  50620  \n",
       "11912           23        16         204  50920  \n",
       "11913           26        17          61  28995  \n",
       "\n",
       "[11914 rows x 16 columns]"
      ]
     },
     "execution_count": 6,
     "metadata": {},
     "output_type": "execute_result"
    }
   ],
   "source": [
    "for col in str_col:\n",
    "    df[col] = df[col].str.lower().str.replace(\" \",\"_\")\n",
    "df"
   ]
  },
  {
   "cell_type": "markdown",
   "id": "baece254",
   "metadata": {
    "papermill": {
     "duration": 0.018273,
     "end_time": "2025-10-08T00:21:00.263396",
     "exception": false,
     "start_time": "2025-10-08T00:21:00.245123",
     "status": "completed"
    },
    "tags": []
   },
   "source": [
    "#### EDA"
   ]
  },
  {
   "cell_type": "code",
   "execution_count": 7,
   "id": "872b47ed",
   "metadata": {
    "execution": {
     "iopub.execute_input": "2025-10-08T00:21:00.298071Z",
     "iopub.status.busy": "2025-10-08T00:21:00.297724Z",
     "iopub.status.idle": "2025-10-08T00:21:00.327374Z",
     "shell.execute_reply": "2025-10-08T00:21:00.326424Z"
    },
    "papermill": {
     "duration": 0.048854,
     "end_time": "2025-10-08T00:21:00.329283",
     "exception": false,
     "start_time": "2025-10-08T00:21:00.280429",
     "status": "completed"
    },
    "tags": []
   },
   "outputs": [
    {
     "name": "stdout",
     "output_type": "stream",
     "text": [
      "make\n",
      "\n",
      "['bmw' 'audi' 'fiat' 'mercedes-benz' 'chrysler']\n",
      "48\n",
      "\n",
      "\n",
      "model\n",
      "\n",
      "['1_series_m' '1_series' '100' '124_spider' '190-class']\n",
      "914\n",
      "\n",
      "\n",
      "year\n",
      "\n",
      "[2011 2012 2013 1992 1993]\n",
      "28\n",
      "\n",
      "\n",
      "engine_fuel_type\n",
      "\n",
      "['premium_unleaded_(required)' 'regular_unleaded'\n",
      " 'premium_unleaded_(recommended)' 'flex-fuel_(unleaded/e85)' 'diesel']\n",
      "10\n",
      "\n",
      "\n",
      "engine_hp\n",
      "\n",
      "[335. 300. 230. 320. 172.]\n",
      "356\n",
      "\n",
      "\n",
      "engine_cylinders\n",
      "\n",
      "[ 6.  4.  5.  8. 12.]\n",
      "9\n",
      "\n",
      "\n",
      "transmission_type\n",
      "\n",
      "['manual' 'automatic' 'automated_manual' 'direct_drive' 'unknown']\n",
      "5\n",
      "\n",
      "\n",
      "driven_wheels\n",
      "\n",
      "['rear_wheel_drive' 'front_wheel_drive' 'all_wheel_drive'\n",
      " 'four_wheel_drive']\n",
      "4\n",
      "\n",
      "\n",
      "number_of_doors\n",
      "\n",
      "[ 2.  4.  3. nan]\n",
      "3\n",
      "\n",
      "\n",
      "market_category\n",
      "\n",
      "['factory_tuner,luxury,high-performance' 'luxury,performance'\n",
      " 'luxury,high-performance' 'luxury' 'performance']\n",
      "71\n",
      "\n",
      "\n",
      "vehicle_size\n",
      "\n",
      "['compact' 'midsize' 'large']\n",
      "3\n",
      "\n",
      "\n",
      "vehicle_style\n",
      "\n",
      "['coupe' 'convertible' 'sedan' 'wagon' '4dr_hatchback']\n",
      "16\n",
      "\n",
      "\n",
      "highway_mpg\n",
      "\n",
      "[26 28 27 25 24]\n",
      "59\n",
      "\n",
      "\n",
      "city_mpg\n",
      "\n",
      "[19 20 18 17 16]\n",
      "69\n",
      "\n",
      "\n",
      "popularity\n",
      "\n",
      "[3916 3105  819  617 1013]\n",
      "48\n",
      "\n",
      "\n",
      "msrp\n",
      "\n",
      "[46135 40650 36350 29450 34500]\n",
      "6049\n",
      "\n",
      "\n"
     ]
    }
   ],
   "source": [
    "for col in df.columns:\n",
    "    print(col)\n",
    "    print()\n",
    "    print(df[col].unique()[:5])\n",
    "    print((df[col].nunique()))\n",
    "    print()\n",
    "    print()\n",
    "    "
   ]
  },
  {
   "cell_type": "code",
   "execution_count": 8,
   "id": "d456c8a1",
   "metadata": {
    "execution": {
     "iopub.execute_input": "2025-10-08T00:21:00.363735Z",
     "iopub.status.busy": "2025-10-08T00:21:00.363427Z",
     "iopub.status.idle": "2025-10-08T00:21:02.178833Z",
     "shell.execute_reply": "2025-10-08T00:21:02.177908Z"
    },
    "papermill": {
     "duration": 1.834667,
     "end_time": "2025-10-08T00:21:02.180710",
     "exception": false,
     "start_time": "2025-10-08T00:21:00.346043",
     "status": "completed"
    },
    "tags": []
   },
   "outputs": [],
   "source": [
    "import matplotlib.pyplot as plt\n",
    "import seaborn as sns\n",
    "\n",
    "%matplotlib inline"
   ]
  },
  {
   "cell_type": "code",
   "execution_count": 9,
   "id": "34437d7f",
   "metadata": {
    "execution": {
     "iopub.execute_input": "2025-10-08T00:21:02.216333Z",
     "iopub.status.busy": "2025-10-08T00:21:02.215863Z",
     "iopub.status.idle": "2025-10-08T00:21:03.779868Z",
     "shell.execute_reply": "2025-10-08T00:21:03.779017Z"
    },
    "papermill": {
     "duration": 1.58326,
     "end_time": "2025-10-08T00:21:03.781362",
     "exception": false,
     "start_time": "2025-10-08T00:21:02.198102",
     "status": "completed"
    },
    "tags": []
   },
   "outputs": [
    {
     "name": "stderr",
     "output_type": "stream",
     "text": [
      "/usr/local/lib/python3.11/dist-packages/seaborn/_oldcore.py:1119: FutureWarning: use_inf_as_na option is deprecated and will be removed in a future version. Convert inf values to NaN before operating instead.\n",
      "  with pd.option_context('mode.use_inf_as_na', True):\n"
     ]
    },
    {
     "data": {
      "image/png": "[encoded data removed]",
      "text/plain": [
       "<Figure size 640x480 with 1 Axes>"
      ]
     },
     "metadata": {},
     "output_type": "display_data"
    }
   ],
   "source": [
    "sns.histplot(df.msrp,kde=True)\n",
    "plt.xlim(0, 200_000)\n",
    "plt.show()"
   ]
  },
  {
   "cell_type": "markdown",
   "id": "a4c831ee",
   "metadata": {
    "papermill": {
     "duration": 0.018282,
     "end_time": "2025-10-08T00:21:03.817506",
     "exception": false,
     "start_time": "2025-10-08T00:21:03.799224",
     "status": "completed"
    },
    "tags": []
   },
   "source": [
    "**A high part of the price distribution is between 0 and 50K. We have a right-skewed distrib**"
   ]
  },
  {
   "cell_type": "code",
   "execution_count": 10,
   "id": "53ece1f7",
   "metadata": {
    "execution": {
     "iopub.execute_input": "2025-10-08T00:21:03.852465Z",
     "iopub.status.busy": "2025-10-08T00:21:03.852165Z",
     "iopub.status.idle": "2025-10-08T00:21:03.861678Z",
     "shell.execute_reply": "2025-10-08T00:21:03.860762Z"
    },
    "papermill": {
     "duration": 0.028608,
     "end_time": "2025-10-08T00:21:03.863066",
     "exception": false,
     "start_time": "2025-10-08T00:21:03.834458",
     "status": "completed"
    },
    "tags": []
   },
   "outputs": [
    {
     "data": {
      "text/plain": [
       "count    1.191400e+04\n",
       "mean     4.059474e+04\n",
       "std      6.010910e+04\n",
       "min      2.000000e+03\n",
       "25%      2.100000e+04\n",
       "50%      2.999500e+04\n",
       "75%      4.223125e+04\n",
       "max      2.065902e+06\n",
       "Name: msrp, dtype: float64"
      ]
     },
     "execution_count": 10,
     "metadata": {},
     "output_type": "execute_result"
    }
   ],
   "source": [
    "df.msrp.describe()"
   ]
  },
  {
   "cell_type": "markdown",
   "id": "78d9aa22",
   "metadata": {
    "papermill": {
     "duration": 0.016711,
     "end_time": "2025-10-08T00:21:03.897463",
     "exception": false,
     "start_time": "2025-10-08T00:21:03.880752",
     "status": "completed"
    },
    "tags": []
   },
   "source": [
    "#### Normalization by logarithm"
   ]
  },
  {
   "cell_type": "code",
   "execution_count": 11,
   "id": "5a154e11",
   "metadata": {
    "execution": {
     "iopub.execute_input": "2025-10-08T00:21:03.932691Z",
     "iopub.status.busy": "2025-10-08T00:21:03.932291Z",
     "iopub.status.idle": "2025-10-08T00:21:03.943271Z",
     "shell.execute_reply": "2025-10-08T00:21:03.942601Z"
    },
    "papermill": {
     "duration": 0.030018,
     "end_time": "2025-10-08T00:21:03.944596",
     "exception": false,
     "start_time": "2025-10-08T00:21:03.914578",
     "status": "completed"
    },
    "tags": []
   },
   "outputs": [
    {
     "data": {
      "text/plain": [
       "0        10.739349\n",
       "1        10.612779\n",
       "2        10.500977\n",
       "3        10.290483\n",
       "4        10.448744\n",
       "           ...    \n",
       "11909    10.739024\n",
       "11910    10.945018\n",
       "11911    10.832122\n",
       "11912    10.838031\n",
       "11913    10.274913\n",
       "Name: msrp, Length: 11914, dtype: float64"
      ]
     },
     "execution_count": 11,
     "metadata": {},
     "output_type": "execute_result"
    }
   ],
   "source": [
    "price_logs = np.log1p(df.msrp)\n",
    "price_logs"
   ]
  },
  {
   "cell_type": "markdown",
   "id": "17065176",
   "metadata": {
    "papermill": {
     "duration": 0.017125,
     "end_time": "2025-10-08T00:21:03.978657",
     "exception": false,
     "start_time": "2025-10-08T00:21:03.961532",
     "status": "completed"
    },
    "tags": []
   },
   "source": [
    "The np.log1p function is the equivalent of log(1+x) because log(x<1) is negative and we want only positive value in our Series."
   ]
  },
  {
   "cell_type": "code",
   "execution_count": 12,
   "id": "6df897ea",
   "metadata": {
    "execution": {
     "iopub.execute_input": "2025-10-08T00:21:04.014072Z",
     "iopub.status.busy": "2025-10-08T00:21:04.013694Z",
     "iopub.status.idle": "2025-10-08T00:21:04.456627Z",
     "shell.execute_reply": "2025-10-08T00:21:04.455749Z"
    },
    "papermill": {
     "duration": 0.462419,
     "end_time": "2025-10-08T00:21:04.458155",
     "exception": false,
     "start_time": "2025-10-08T00:21:03.995736",
     "status": "completed"
    },
    "tags": []
   },
   "outputs": [
    {
     "name": "stderr",
     "output_type": "stream",
     "text": [
      "/usr/local/lib/python3.11/dist-packages/seaborn/_oldcore.py:1119: FutureWarning: use_inf_as_na option is deprecated and will be removed in a future version. Convert inf values to NaN before operating instead.\n",
      "  with pd.option_context('mode.use_inf_as_na', True):\n"
     ]
    },
    {
     "data": {
      "text/plain": [
       "<Axes: xlabel='msrp', ylabel='Count'>"
      ]
     },
     "execution_count": 12,
     "metadata": {},
     "output_type": "execute_result"
    },
    {
     "data": {
      "image/png": "[encoded data removed]",
      "text/plain": [
       "<Figure size 640x480 with 1 Axes>"
      ]
     },
     "metadata": {},
     "output_type": "display_data"
    }
   ],
   "source": [
    "sns.histplot(price_logs)"
   ]
  },
  {
   "cell_type": "markdown",
   "id": "14d00f32",
   "metadata": {
    "papermill": {
     "duration": 0.017149,
     "end_time": "2025-10-08T00:21:04.493021",
     "exception": false,
     "start_time": "2025-10-08T00:21:04.475872",
     "status": "completed"
    },
    "tags": []
   },
   "source": [
    "It looks like more a normal distribution which is better for modelling in ML."
   ]
  },
  {
   "cell_type": "markdown",
   "id": "eba5c879",
   "metadata": {
    "papermill": {
     "duration": 0.017289,
     "end_time": "2025-10-08T00:21:04.527649",
     "exception": false,
     "start_time": "2025-10-08T00:21:04.510360",
     "status": "completed"
    },
    "tags": []
   },
   "source": [
    "#### Missing values\n"
   ]
  },
  {
   "cell_type": "code",
   "execution_count": 13,
   "id": "ac3b71c9",
   "metadata": {
    "execution": {
     "iopub.execute_input": "2025-10-08T00:21:04.565761Z",
     "iopub.status.busy": "2025-10-08T00:21:04.564859Z",
     "iopub.status.idle": "2025-10-08T00:21:04.579422Z",
     "shell.execute_reply": "2025-10-08T00:21:04.578130Z"
    },
    "papermill": {
     "duration": 0.035129,
     "end_time": "2025-10-08T00:21:04.580878",
     "exception": false,
     "start_time": "2025-10-08T00:21:04.545749",
     "status": "completed"
    },
    "tags": []
   },
   "outputs": [
    {
     "data": {
      "text/plain": [
       "make                    0\n",
       "model                   0\n",
       "year                    0\n",
       "engine_fuel_type        3\n",
       "engine_hp              69\n",
       "engine_cylinders       30\n",
       "transmission_type       0\n",
       "driven_wheels           0\n",
       "number_of_doors         6\n",
       "market_category      3742\n",
       "vehicle_size            0\n",
       "vehicle_style           0\n",
       "highway_mpg             0\n",
       "city_mpg                0\n",
       "popularity              0\n",
       "msrp                    0\n",
       "dtype: int64"
      ]
     },
     "execution_count": 13,
     "metadata": {},
     "output_type": "execute_result"
    }
   ],
   "source": [
    "df.isnull().sum()"
   ]
  },
  {
   "cell_type": "code",
   "execution_count": 14,
   "id": "83cc57a5",
   "metadata": {
    "execution": {
     "iopub.execute_input": "2025-10-08T00:21:04.617400Z",
     "iopub.status.busy": "2025-10-08T00:21:04.617100Z",
     "iopub.status.idle": "2025-10-08T00:21:04.623697Z",
     "shell.execute_reply": "2025-10-08T00:21:04.622842Z"
    },
    "papermill": {
     "duration": 0.026475,
     "end_time": "2025-10-08T00:21:04.625146",
     "exception": false,
     "start_time": "2025-10-08T00:21:04.598671",
     "status": "completed"
    },
    "tags": []
   },
   "outputs": [
    {
     "data": {
      "text/plain": [
       "array(['factory_tuner,luxury,high-performance', 'luxury,performance',\n",
       "       'luxury,high-performance', 'luxury', 'performance'], dtype=object)"
      ]
     },
     "execution_count": 14,
     "metadata": {},
     "output_type": "execute_result"
    }
   ],
   "source": [
    "df[\"market_category\"].unique()[:5]"
   ]
  },
  {
   "cell_type": "code",
   "execution_count": 15,
   "id": "d1b3ad44",
   "metadata": {
    "execution": {
     "iopub.execute_input": "2025-10-08T00:21:04.662497Z",
     "iopub.status.busy": "2025-10-08T00:21:04.662200Z",
     "iopub.status.idle": "2025-10-08T00:21:04.675689Z",
     "shell.execute_reply": "2025-10-08T00:21:04.674781Z"
    },
    "papermill": {
     "duration": 0.033502,
     "end_time": "2025-10-08T00:21:04.677072",
     "exception": false,
     "start_time": "2025-10-08T00:21:04.643570",
     "status": "completed"
    },
    "tags": []
   },
   "outputs": [
    {
     "data": {
      "text/plain": [
       "make                    0\n",
       "model                   0\n",
       "engine_fuel_type        3\n",
       "transmission_type       0\n",
       "driven_wheels           0\n",
       "market_category      3742\n",
       "vehicle_size            0\n",
       "vehicle_style           0\n",
       "dtype: int64"
      ]
     },
     "execution_count": 15,
     "metadata": {},
     "output_type": "execute_result"
    }
   ],
   "source": [
    "df.isnull().sum()[df.dtypes == object]"
   ]
  },
  {
   "cell_type": "code",
   "execution_count": 16,
   "id": "fb88d3fd",
   "metadata": {
    "execution": {
     "iopub.execute_input": "2025-10-08T00:21:04.714562Z",
     "iopub.status.busy": "2025-10-08T00:21:04.714236Z",
     "iopub.status.idle": "2025-10-08T00:21:04.732480Z",
     "shell.execute_reply": "2025-10-08T00:21:04.731735Z"
    },
    "papermill": {
     "duration": 0.03841,
     "end_time": "2025-10-08T00:21:04.733836",
     "exception": false,
     "start_time": "2025-10-08T00:21:04.695426",
     "status": "completed"
    },
    "tags": []
   },
   "outputs": [
    {
     "data": {
      "text/html": [
       "<div>\n",
       "<style scoped>\n",
       "    .dataframe tbody tr th:only-of-type {\n",
       "        vertical-align: middle;\n",
       "    }\n",
       "\n",
       "    .dataframe tbody tr th {\n",
       "        vertical-align: top;\n",
       "    }\n",
       "\n",
       "    .dataframe thead th {\n",
       "        text-align: right;\n",
       "    }\n",
       "</style>\n",
       "<table border=\"1\" class=\"dataframe\">\n",
       "  <thead>\n",
       "    <tr style=\"text-align: right;\">\n",
       "      <th></th>\n",
       "      <th>make</th>\n",
       "      <th>model</th>\n",
       "      <th>year</th>\n",
       "      <th>engine_fuel_type</th>\n",
       "      <th>engine_hp</th>\n",
       "      <th>engine_cylinders</th>\n",
       "      <th>transmission_type</th>\n",
       "      <th>driven_wheels</th>\n",
       "      <th>number_of_doors</th>\n",
       "      <th>market_category</th>\n",
       "      <th>vehicle_size</th>\n",
       "      <th>vehicle_style</th>\n",
       "      <th>highway_mpg</th>\n",
       "      <th>city_mpg</th>\n",
       "      <th>popularity</th>\n",
       "      <th>msrp</th>\n",
       "    </tr>\n",
       "  </thead>\n",
       "  <tbody>\n",
       "    <tr>\n",
       "      <th>0</th>\n",
       "      <td>bmw</td>\n",
       "      <td>1_series_m</td>\n",
       "      <td>2011</td>\n",
       "      <td>premium_unleaded_(required)</td>\n",
       "      <td>335.0</td>\n",
       "      <td>6.0</td>\n",
       "      <td>manual</td>\n",
       "      <td>rear_wheel_drive</td>\n",
       "      <td>2.0</td>\n",
       "      <td>factory_tuner,luxury,high-performance</td>\n",
       "      <td>compact</td>\n",
       "      <td>coupe</td>\n",
       "      <td>26</td>\n",
       "      <td>19</td>\n",
       "      <td>3916</td>\n",
       "      <td>46135</td>\n",
       "    </tr>\n",
       "    <tr>\n",
       "      <th>1</th>\n",
       "      <td>bmw</td>\n",
       "      <td>1_series</td>\n",
       "      <td>2011</td>\n",
       "      <td>premium_unleaded_(required)</td>\n",
       "      <td>300.0</td>\n",
       "      <td>6.0</td>\n",
       "      <td>manual</td>\n",
       "      <td>rear_wheel_drive</td>\n",
       "      <td>2.0</td>\n",
       "      <td>luxury,performance</td>\n",
       "      <td>compact</td>\n",
       "      <td>convertible</td>\n",
       "      <td>28</td>\n",
       "      <td>19</td>\n",
       "      <td>3916</td>\n",
       "      <td>40650</td>\n",
       "    </tr>\n",
       "    <tr>\n",
       "      <th>2</th>\n",
       "      <td>bmw</td>\n",
       "      <td>1_series</td>\n",
       "      <td>2011</td>\n",
       "      <td>premium_unleaded_(required)</td>\n",
       "      <td>300.0</td>\n",
       "      <td>6.0</td>\n",
       "      <td>manual</td>\n",
       "      <td>rear_wheel_drive</td>\n",
       "      <td>2.0</td>\n",
       "      <td>luxury,high-performance</td>\n",
       "      <td>compact</td>\n",
       "      <td>coupe</td>\n",
       "      <td>28</td>\n",
       "      <td>20</td>\n",
       "      <td>3916</td>\n",
       "      <td>36350</td>\n",
       "    </tr>\n",
       "    <tr>\n",
       "      <th>3</th>\n",
       "      <td>bmw</td>\n",
       "      <td>1_series</td>\n",
       "      <td>2011</td>\n",
       "      <td>premium_unleaded_(required)</td>\n",
       "      <td>230.0</td>\n",
       "      <td>6.0</td>\n",
       "      <td>manual</td>\n",
       "      <td>rear_wheel_drive</td>\n",
       "      <td>2.0</td>\n",
       "      <td>luxury,performance</td>\n",
       "      <td>compact</td>\n",
       "      <td>coupe</td>\n",
       "      <td>28</td>\n",
       "      <td>18</td>\n",
       "      <td>3916</td>\n",
       "      <td>29450</td>\n",
       "    </tr>\n",
       "    <tr>\n",
       "      <th>4</th>\n",
       "      <td>bmw</td>\n",
       "      <td>1_series</td>\n",
       "      <td>2011</td>\n",
       "      <td>premium_unleaded_(required)</td>\n",
       "      <td>230.0</td>\n",
       "      <td>6.0</td>\n",
       "      <td>manual</td>\n",
       "      <td>rear_wheel_drive</td>\n",
       "      <td>2.0</td>\n",
       "      <td>luxury</td>\n",
       "      <td>compact</td>\n",
       "      <td>convertible</td>\n",
       "      <td>28</td>\n",
       "      <td>18</td>\n",
       "      <td>3916</td>\n",
       "      <td>34500</td>\n",
       "    </tr>\n",
       "    <tr>\n",
       "      <th>...</th>\n",
       "      <td>...</td>\n",
       "      <td>...</td>\n",
       "      <td>...</td>\n",
       "      <td>...</td>\n",
       "      <td>...</td>\n",
       "      <td>...</td>\n",
       "      <td>...</td>\n",
       "      <td>...</td>\n",
       "      <td>...</td>\n",
       "      <td>...</td>\n",
       "      <td>...</td>\n",
       "      <td>...</td>\n",
       "      <td>...</td>\n",
       "      <td>...</td>\n",
       "      <td>...</td>\n",
       "      <td>...</td>\n",
       "    </tr>\n",
       "    <tr>\n",
       "      <th>11909</th>\n",
       "      <td>acura</td>\n",
       "      <td>zdx</td>\n",
       "      <td>2012</td>\n",
       "      <td>premium_unleaded_(required)</td>\n",
       "      <td>300.0</td>\n",
       "      <td>6.0</td>\n",
       "      <td>automatic</td>\n",
       "      <td>all_wheel_drive</td>\n",
       "      <td>4.0</td>\n",
       "      <td>crossover,hatchback,luxury</td>\n",
       "      <td>midsize</td>\n",
       "      <td>4dr_hatchback</td>\n",
       "      <td>23</td>\n",
       "      <td>16</td>\n",
       "      <td>204</td>\n",
       "      <td>46120</td>\n",
       "    </tr>\n",
       "    <tr>\n",
       "      <th>11910</th>\n",
       "      <td>acura</td>\n",
       "      <td>zdx</td>\n",
       "      <td>2012</td>\n",
       "      <td>premium_unleaded_(required)</td>\n",
       "      <td>300.0</td>\n",
       "      <td>6.0</td>\n",
       "      <td>automatic</td>\n",
       "      <td>all_wheel_drive</td>\n",
       "      <td>4.0</td>\n",
       "      <td>crossover,hatchback,luxury</td>\n",
       "      <td>midsize</td>\n",
       "      <td>4dr_hatchback</td>\n",
       "      <td>23</td>\n",
       "      <td>16</td>\n",
       "      <td>204</td>\n",
       "      <td>56670</td>\n",
       "    </tr>\n",
       "    <tr>\n",
       "      <th>11911</th>\n",
       "      <td>acura</td>\n",
       "      <td>zdx</td>\n",
       "      <td>2012</td>\n",
       "      <td>premium_unleaded_(required)</td>\n",
       "      <td>300.0</td>\n",
       "      <td>6.0</td>\n",
       "      <td>automatic</td>\n",
       "      <td>all_wheel_drive</td>\n",
       "      <td>4.0</td>\n",
       "      <td>crossover,hatchback,luxury</td>\n",
       "      <td>midsize</td>\n",
       "      <td>4dr_hatchback</td>\n",
       "      <td>23</td>\n",
       "      <td>16</td>\n",
       "      <td>204</td>\n",
       "      <td>50620</td>\n",
       "    </tr>\n",
       "    <tr>\n",
       "      <th>11912</th>\n",
       "      <td>acura</td>\n",
       "      <td>zdx</td>\n",
       "      <td>2013</td>\n",
       "      <td>premium_unleaded_(recommended)</td>\n",
       "      <td>300.0</td>\n",
       "      <td>6.0</td>\n",
       "      <td>automatic</td>\n",
       "      <td>all_wheel_drive</td>\n",
       "      <td>4.0</td>\n",
       "      <td>crossover,hatchback,luxury</td>\n",
       "      <td>midsize</td>\n",
       "      <td>4dr_hatchback</td>\n",
       "      <td>23</td>\n",
       "      <td>16</td>\n",
       "      <td>204</td>\n",
       "      <td>50920</td>\n",
       "    </tr>\n",
       "    <tr>\n",
       "      <th>11913</th>\n",
       "      <td>lincoln</td>\n",
       "      <td>zephyr</td>\n",
       "      <td>2006</td>\n",
       "      <td>regular_unleaded</td>\n",
       "      <td>221.0</td>\n",
       "      <td>6.0</td>\n",
       "      <td>automatic</td>\n",
       "      <td>front_wheel_drive</td>\n",
       "      <td>4.0</td>\n",
       "      <td>luxury</td>\n",
       "      <td>midsize</td>\n",
       "      <td>sedan</td>\n",
       "      <td>26</td>\n",
       "      <td>17</td>\n",
       "      <td>61</td>\n",
       "      <td>28995</td>\n",
       "    </tr>\n",
       "  </tbody>\n",
       "</table>\n",
       "<p>11914 rows × 16 columns</p>\n",
       "</div>"
      ],
      "text/plain": [
       "          make       model  year                engine_fuel_type  engine_hp  \\\n",
       "0          bmw  1_series_m  2011     premium_unleaded_(required)      335.0   \n",
       "1          bmw    1_series  2011     premium_unleaded_(required)      300.0   \n",
       "2          bmw    1_series  2011     premium_unleaded_(required)      300.0   \n",
       "3          bmw    1_series  2011     premium_unleaded_(required)      230.0   \n",
       "4          bmw    1_series  2011     premium_unleaded_(required)      230.0   \n",
       "...        ...         ...   ...                             ...        ...   \n",
       "11909    acura         zdx  2012     premium_unleaded_(required)      300.0   \n",
       "11910    acura         zdx  2012     premium_unleaded_(required)      300.0   \n",
       "11911    acura         zdx  2012     premium_unleaded_(required)      300.0   \n",
       "11912    acura         zdx  2013  premium_unleaded_(recommended)      300.0   \n",
       "11913  lincoln      zephyr  2006                regular_unleaded      221.0   \n",
       "\n",
       "       engine_cylinders transmission_type      driven_wheels  number_of_doors  \\\n",
       "0                   6.0            manual   rear_wheel_drive              2.0   \n",
       "1                   6.0            manual   rear_wheel_drive              2.0   \n",
       "2                   6.0            manual   rear_wheel_drive              2.0   \n",
       "3                   6.0            manual   rear_wheel_drive              2.0   \n",
       "4                   6.0            manual   rear_wheel_drive              2.0   \n",
       "...                 ...               ...                ...              ...   \n",
       "11909               6.0         automatic    all_wheel_drive              4.0   \n",
       "11910               6.0         automatic    all_wheel_drive              4.0   \n",
       "11911               6.0         automatic    all_wheel_drive              4.0   \n",
       "11912               6.0         automatic    all_wheel_drive              4.0   \n",
       "11913               6.0         automatic  front_wheel_drive              4.0   \n",
       "\n",
       "                             market_category vehicle_size  vehicle_style  \\\n",
       "0      factory_tuner,luxury,high-performance      compact          coupe   \n",
       "1                         luxury,performance      compact    convertible   \n",
       "2                    luxury,high-performance      compact          coupe   \n",
       "3                         luxury,performance      compact          coupe   \n",
       "4                                     luxury      compact    convertible   \n",
       "...                                      ...          ...            ...   \n",
       "11909             crossover,hatchback,luxury      midsize  4dr_hatchback   \n",
       "11910             crossover,hatchback,luxury      midsize  4dr_hatchback   \n",
       "11911             crossover,hatchback,luxury      midsize  4dr_hatchback   \n",
       "11912             crossover,hatchback,luxury      midsize  4dr_hatchback   \n",
       "11913                                 luxury      midsize          sedan   \n",
       "\n",
       "       highway_mpg  city_mpg  popularity   msrp  \n",
       "0               26        19        3916  46135  \n",
       "1               28        19        3916  40650  \n",
       "2               28        20        3916  36350  \n",
       "3               28        18        3916  29450  \n",
       "4               28        18        3916  34500  \n",
       "...            ...       ...         ...    ...  \n",
       "11909           23        16         204  46120  \n",
       "11910           23        16         204  56670  \n",
       "11911           23        16         204  50620  \n",
       "11912           23        16         204  50920  \n",
       "11913           26        17          61  28995  \n",
       "\n",
       "[11914 rows x 16 columns]"
      ]
     },
     "execution_count": 16,
     "metadata": {},
     "output_type": "execute_result"
    }
   ],
   "source": [
    "df"
   ]
  },
  {
   "cell_type": "markdown",
   "id": "3094e052",
   "metadata": {
    "papermill": {
     "duration": 0.017924,
     "end_time": "2025-10-08T00:21:04.770608",
     "exception": false,
     "start_time": "2025-10-08T00:21:04.752684",
     "status": "completed"
    },
    "tags": []
   },
   "source": [
    "#### Train/validation/test samples"
   ]
  },
  {
   "cell_type": "code",
   "execution_count": 17,
   "id": "c8ccb820",
   "metadata": {
    "execution": {
     "iopub.execute_input": "2025-10-08T00:21:04.808522Z",
     "iopub.status.busy": "2025-10-08T00:21:04.808225Z",
     "iopub.status.idle": "2025-10-08T00:21:04.814648Z",
     "shell.execute_reply": "2025-10-08T00:21:04.813753Z"
    },
    "papermill": {
     "duration": 0.027408,
     "end_time": "2025-10-08T00:21:04.816381",
     "exception": false,
     "start_time": "2025-10-08T00:21:04.788973",
     "status": "completed"
    },
    "tags": []
   },
   "outputs": [
    {
     "data": {
      "text/plain": [
       "(11914, 11912, 7148, 2382, 2382)"
      ]
     },
     "execution_count": 17,
     "metadata": {},
     "output_type": "execute_result"
    }
   ],
   "source": [
    "train_n = int(len(df)*0.6)\n",
    "val_n = int(len(df)*0.2)\n",
    "test_n = int(len(df)*0.2)\n",
    "\n",
    "len(df) , train_n + val_n + test_n, train_n,val_n,test_n"
   ]
  },
  {
   "cell_type": "code",
   "execution_count": 18,
   "id": "ab0ccf55",
   "metadata": {
    "execution": {
     "iopub.execute_input": "2025-10-08T00:21:04.856119Z",
     "iopub.status.busy": "2025-10-08T00:21:04.854854Z",
     "iopub.status.idle": "2025-10-08T00:21:04.860321Z",
     "shell.execute_reply": "2025-10-08T00:21:04.859440Z"
    },
    "papermill": {
     "duration": 0.026161,
     "end_time": "2025-10-08T00:21:04.861969",
     "exception": false,
     "start_time": "2025-10-08T00:21:04.835808",
     "status": "completed"
    },
    "tags": []
   },
   "outputs": [],
   "source": [
    "x_train = df.iloc[:train_n]\n",
    "x_val = df.iloc[train_n: train_n +val_n]\n",
    "x_test = df.iloc[train_n + val_n:len(df)]"
   ]
  },
  {
   "cell_type": "code",
   "execution_count": 19,
   "id": "8b7a5ef3",
   "metadata": {
    "execution": {
     "iopub.execute_input": "2025-10-08T00:21:04.901440Z",
     "iopub.status.busy": "2025-10-08T00:21:04.900593Z",
     "iopub.status.idle": "2025-10-08T00:21:04.906740Z",
     "shell.execute_reply": "2025-10-08T00:21:04.905620Z"
    },
    "papermill": {
     "duration": 0.027474,
     "end_time": "2025-10-08T00:21:04.908131",
     "exception": false,
     "start_time": "2025-10-08T00:21:04.880657",
     "status": "completed"
    },
    "tags": []
   },
   "outputs": [
    {
     "data": {
      "text/plain": [
       "(7148, 2382, 2384)"
      ]
     },
     "execution_count": 19,
     "metadata": {},
     "output_type": "execute_result"
    }
   ],
   "source": [
    "len(x_train),len(x_val),len(x_test)"
   ]
  },
  {
   "cell_type": "code",
   "execution_count": 20,
   "id": "f6622dd6",
   "metadata": {
    "execution": {
     "iopub.execute_input": "2025-10-08T00:21:04.949706Z",
     "iopub.status.busy": "2025-10-08T00:21:04.949387Z",
     "iopub.status.idle": "2025-10-08T00:21:04.956164Z",
     "shell.execute_reply": "2025-10-08T00:21:04.955315Z"
    },
    "papermill": {
     "duration": 0.027972,
     "end_time": "2025-10-08T00:21:04.957540",
     "exception": false,
     "start_time": "2025-10-08T00:21:04.929568",
     "status": "completed"
    },
    "tags": []
   },
   "outputs": [
    {
     "data": {
      "text/plain": [
       "array([2735, 6720, 5878, ..., 6637, 2575, 7336])"
      ]
     },
     "execution_count": 20,
     "metadata": {},
     "output_type": "execute_result"
    }
   ],
   "source": [
    "np.random.seed(2)\n",
    "idx = np.arange(len(df))\n",
    "np.random.shuffle(idx)\n",
    "idx"
   ]
  },
  {
   "cell_type": "code",
   "execution_count": 21,
   "id": "77349a17",
   "metadata": {
    "execution": {
     "iopub.execute_input": "2025-10-08T00:21:04.997129Z",
     "iopub.status.busy": "2025-10-08T00:21:04.996500Z",
     "iopub.status.idle": "2025-10-08T00:21:05.002284Z",
     "shell.execute_reply": "2025-10-08T00:21:05.001387Z"
    },
    "papermill": {
     "duration": 0.026775,
     "end_time": "2025-10-08T00:21:05.003670",
     "exception": false,
     "start_time": "2025-10-08T00:21:04.976895",
     "status": "completed"
    },
    "tags": []
   },
   "outputs": [
    {
     "data": {
      "text/plain": [
       "(7148, 2382, 2384)"
      ]
     },
     "execution_count": 21,
     "metadata": {},
     "output_type": "execute_result"
    }
   ],
   "source": [
    "len(idx[:train_n]),len(idx[train_n: train_n +val_n]),len(idx[train_n + val_n:])"
   ]
  },
  {
   "cell_type": "code",
   "execution_count": 22,
   "id": "3e18af8f",
   "metadata": {
    "execution": {
     "iopub.execute_input": "2025-10-08T00:21:05.043286Z",
     "iopub.status.busy": "2025-10-08T00:21:05.042964Z",
     "iopub.status.idle": "2025-10-08T00:21:05.055671Z",
     "shell.execute_reply": "2025-10-08T00:21:05.054649Z"
    },
    "papermill": {
     "duration": 0.034261,
     "end_time": "2025-10-08T00:21:05.057476",
     "exception": false,
     "start_time": "2025-10-08T00:21:05.023215",
     "status": "completed"
    },
    "tags": []
   },
   "outputs": [],
   "source": [
    "x_train = df.iloc[idx[:train_n]]\n",
    "x_val = df.iloc[idx[train_n: train_n +val_n]]\n",
    "x_test = df.iloc[idx[train_n + val_n:]]\n"
   ]
  },
  {
   "cell_type": "code",
   "execution_count": 23,
   "id": "66631c9a",
   "metadata": {
    "execution": {
     "iopub.execute_input": "2025-10-08T00:21:05.096639Z",
     "iopub.status.busy": "2025-10-08T00:21:05.096336Z",
     "iopub.status.idle": "2025-10-08T00:21:05.101183Z",
     "shell.execute_reply": "2025-10-08T00:21:05.100262Z"
    },
    "papermill": {
     "duration": 0.026438,
     "end_time": "2025-10-08T00:21:05.102749",
     "exception": false,
     "start_time": "2025-10-08T00:21:05.076311",
     "status": "completed"
    },
    "tags": []
   },
   "outputs": [],
   "source": [
    "x_train.reset_index(drop = True,inplace = True)\n",
    "x_val.reset_index(drop = True,inplace = True) \n",
    "x_test.reset_index(drop = True,inplace = True)"
   ]
  },
  {
   "cell_type": "code",
   "execution_count": 24,
   "id": "88e94058",
   "metadata": {
    "execution": {
     "iopub.execute_input": "2025-10-08T00:21:05.141395Z",
     "iopub.status.busy": "2025-10-08T00:21:05.141099Z",
     "iopub.status.idle": "2025-10-08T00:21:05.159467Z",
     "shell.execute_reply": "2025-10-08T00:21:05.158513Z"
    },
    "papermill": {
     "duration": 0.039501,
     "end_time": "2025-10-08T00:21:05.161008",
     "exception": false,
     "start_time": "2025-10-08T00:21:05.121507",
     "status": "completed"
    },
    "tags": []
   },
   "outputs": [
    {
     "data": {
      "text/html": [
       "<div>\n",
       "<style scoped>\n",
       "    .dataframe tbody tr th:only-of-type {\n",
       "        vertical-align: middle;\n",
       "    }\n",
       "\n",
       "    .dataframe tbody tr th {\n",
       "        vertical-align: top;\n",
       "    }\n",
       "\n",
       "    .dataframe thead th {\n",
       "        text-align: right;\n",
       "    }\n",
       "</style>\n",
       "<table border=\"1\" class=\"dataframe\">\n",
       "  <thead>\n",
       "    <tr style=\"text-align: right;\">\n",
       "      <th></th>\n",
       "      <th>make</th>\n",
       "      <th>model</th>\n",
       "      <th>year</th>\n",
       "      <th>engine_fuel_type</th>\n",
       "      <th>engine_hp</th>\n",
       "      <th>engine_cylinders</th>\n",
       "      <th>transmission_type</th>\n",
       "      <th>driven_wheels</th>\n",
       "      <th>number_of_doors</th>\n",
       "      <th>market_category</th>\n",
       "      <th>vehicle_size</th>\n",
       "      <th>vehicle_style</th>\n",
       "      <th>highway_mpg</th>\n",
       "      <th>city_mpg</th>\n",
       "      <th>popularity</th>\n",
       "      <th>msrp</th>\n",
       "    </tr>\n",
       "  </thead>\n",
       "  <tbody>\n",
       "    <tr>\n",
       "      <th>0</th>\n",
       "      <td>chevrolet</td>\n",
       "      <td>cobalt</td>\n",
       "      <td>2008</td>\n",
       "      <td>regular_unleaded</td>\n",
       "      <td>148.0</td>\n",
       "      <td>4.0</td>\n",
       "      <td>manual</td>\n",
       "      <td>front_wheel_drive</td>\n",
       "      <td>2.0</td>\n",
       "      <td>NaN</td>\n",
       "      <td>compact</td>\n",
       "      <td>coupe</td>\n",
       "      <td>33</td>\n",
       "      <td>24</td>\n",
       "      <td>1385</td>\n",
       "      <td>14410</td>\n",
       "    </tr>\n",
       "    <tr>\n",
       "      <th>1</th>\n",
       "      <td>toyota</td>\n",
       "      <td>matrix</td>\n",
       "      <td>2012</td>\n",
       "      <td>regular_unleaded</td>\n",
       "      <td>132.0</td>\n",
       "      <td>4.0</td>\n",
       "      <td>automatic</td>\n",
       "      <td>front_wheel_drive</td>\n",
       "      <td>4.0</td>\n",
       "      <td>hatchback</td>\n",
       "      <td>compact</td>\n",
       "      <td>4dr_hatchback</td>\n",
       "      <td>32</td>\n",
       "      <td>25</td>\n",
       "      <td>2031</td>\n",
       "      <td>19685</td>\n",
       "    </tr>\n",
       "    <tr>\n",
       "      <th>2</th>\n",
       "      <td>subaru</td>\n",
       "      <td>impreza</td>\n",
       "      <td>2016</td>\n",
       "      <td>regular_unleaded</td>\n",
       "      <td>148.0</td>\n",
       "      <td>4.0</td>\n",
       "      <td>automatic</td>\n",
       "      <td>all_wheel_drive</td>\n",
       "      <td>4.0</td>\n",
       "      <td>hatchback</td>\n",
       "      <td>compact</td>\n",
       "      <td>4dr_hatchback</td>\n",
       "      <td>37</td>\n",
       "      <td>28</td>\n",
       "      <td>640</td>\n",
       "      <td>19795</td>\n",
       "    </tr>\n",
       "    <tr>\n",
       "      <th>3</th>\n",
       "      <td>volkswagen</td>\n",
       "      <td>vanagon</td>\n",
       "      <td>1991</td>\n",
       "      <td>regular_unleaded</td>\n",
       "      <td>90.0</td>\n",
       "      <td>4.0</td>\n",
       "      <td>manual</td>\n",
       "      <td>rear_wheel_drive</td>\n",
       "      <td>3.0</td>\n",
       "      <td>NaN</td>\n",
       "      <td>large</td>\n",
       "      <td>passenger_minivan</td>\n",
       "      <td>18</td>\n",
       "      <td>16</td>\n",
       "      <td>873</td>\n",
       "      <td>2000</td>\n",
       "    </tr>\n",
       "    <tr>\n",
       "      <th>4</th>\n",
       "      <td>ford</td>\n",
       "      <td>f-150</td>\n",
       "      <td>2017</td>\n",
       "      <td>flex-fuel_(unleaded/e85)</td>\n",
       "      <td>385.0</td>\n",
       "      <td>8.0</td>\n",
       "      <td>automatic</td>\n",
       "      <td>four_wheel_drive</td>\n",
       "      <td>4.0</td>\n",
       "      <td>flex_fuel</td>\n",
       "      <td>large</td>\n",
       "      <td>crew_cab_pickup</td>\n",
       "      <td>21</td>\n",
       "      <td>15</td>\n",
       "      <td>5657</td>\n",
       "      <td>56260</td>\n",
       "    </tr>\n",
       "    <tr>\n",
       "      <th>...</th>\n",
       "      <td>...</td>\n",
       "      <td>...</td>\n",
       "      <td>...</td>\n",
       "      <td>...</td>\n",
       "      <td>...</td>\n",
       "      <td>...</td>\n",
       "      <td>...</td>\n",
       "      <td>...</td>\n",
       "      <td>...</td>\n",
       "      <td>...</td>\n",
       "      <td>...</td>\n",
       "      <td>...</td>\n",
       "      <td>...</td>\n",
       "      <td>...</td>\n",
       "      <td>...</td>\n",
       "      <td>...</td>\n",
       "    </tr>\n",
       "    <tr>\n",
       "      <th>7143</th>\n",
       "      <td>lincoln</td>\n",
       "      <td>zephyr</td>\n",
       "      <td>2006</td>\n",
       "      <td>regular_unleaded</td>\n",
       "      <td>221.0</td>\n",
       "      <td>6.0</td>\n",
       "      <td>automatic</td>\n",
       "      <td>front_wheel_drive</td>\n",
       "      <td>4.0</td>\n",
       "      <td>luxury</td>\n",
       "      <td>midsize</td>\n",
       "      <td>sedan</td>\n",
       "      <td>26</td>\n",
       "      <td>17</td>\n",
       "      <td>61</td>\n",
       "      <td>28995</td>\n",
       "    </tr>\n",
       "    <tr>\n",
       "      <th>7144</th>\n",
       "      <td>cadillac</td>\n",
       "      <td>dts</td>\n",
       "      <td>2010</td>\n",
       "      <td>premium_unleaded_(recommended)</td>\n",
       "      <td>275.0</td>\n",
       "      <td>8.0</td>\n",
       "      <td>automatic</td>\n",
       "      <td>front_wheel_drive</td>\n",
       "      <td>4.0</td>\n",
       "      <td>luxury</td>\n",
       "      <td>large</td>\n",
       "      <td>sedan</td>\n",
       "      <td>23</td>\n",
       "      <td>15</td>\n",
       "      <td>1624</td>\n",
       "      <td>46280</td>\n",
       "    </tr>\n",
       "    <tr>\n",
       "      <th>7145</th>\n",
       "      <td>bmw</td>\n",
       "      <td>4_series</td>\n",
       "      <td>2015</td>\n",
       "      <td>premium_unleaded_(required)</td>\n",
       "      <td>300.0</td>\n",
       "      <td>6.0</td>\n",
       "      <td>automatic</td>\n",
       "      <td>rear_wheel_drive</td>\n",
       "      <td>2.0</td>\n",
       "      <td>luxury,performance</td>\n",
       "      <td>midsize</td>\n",
       "      <td>convertible</td>\n",
       "      <td>31</td>\n",
       "      <td>20</td>\n",
       "      <td>3916</td>\n",
       "      <td>54900</td>\n",
       "    </tr>\n",
       "    <tr>\n",
       "      <th>7146</th>\n",
       "      <td>volkswagen</td>\n",
       "      <td>beetle</td>\n",
       "      <td>2015</td>\n",
       "      <td>premium_unleaded_(recommended)</td>\n",
       "      <td>210.0</td>\n",
       "      <td>4.0</td>\n",
       "      <td>automated_manual</td>\n",
       "      <td>front_wheel_drive</td>\n",
       "      <td>2.0</td>\n",
       "      <td>hatchback,performance</td>\n",
       "      <td>compact</td>\n",
       "      <td>2dr_hatchback</td>\n",
       "      <td>30</td>\n",
       "      <td>24</td>\n",
       "      <td>873</td>\n",
       "      <td>29215</td>\n",
       "    </tr>\n",
       "    <tr>\n",
       "      <th>7147</th>\n",
       "      <td>gmc</td>\n",
       "      <td>sierra_1500</td>\n",
       "      <td>2015</td>\n",
       "      <td>flex-fuel_(unleaded/e85)</td>\n",
       "      <td>285.0</td>\n",
       "      <td>6.0</td>\n",
       "      <td>automatic</td>\n",
       "      <td>four_wheel_drive</td>\n",
       "      <td>4.0</td>\n",
       "      <td>flex_fuel</td>\n",
       "      <td>large</td>\n",
       "      <td>extended_cab_pickup</td>\n",
       "      <td>22</td>\n",
       "      <td>17</td>\n",
       "      <td>549</td>\n",
       "      <td>34675</td>\n",
       "    </tr>\n",
       "  </tbody>\n",
       "</table>\n",
       "<p>7148 rows × 16 columns</p>\n",
       "</div>"
      ],
      "text/plain": [
       "            make        model  year                engine_fuel_type  \\\n",
       "0      chevrolet       cobalt  2008                regular_unleaded   \n",
       "1         toyota       matrix  2012                regular_unleaded   \n",
       "2         subaru      impreza  2016                regular_unleaded   \n",
       "3     volkswagen      vanagon  1991                regular_unleaded   \n",
       "4           ford        f-150  2017        flex-fuel_(unleaded/e85)   \n",
       "...          ...          ...   ...                             ...   \n",
       "7143     lincoln       zephyr  2006                regular_unleaded   \n",
       "7144    cadillac          dts  2010  premium_unleaded_(recommended)   \n",
       "7145         bmw     4_series  2015     premium_unleaded_(required)   \n",
       "7146  volkswagen       beetle  2015  premium_unleaded_(recommended)   \n",
       "7147         gmc  sierra_1500  2015        flex-fuel_(unleaded/e85)   \n",
       "\n",
       "      engine_hp  engine_cylinders transmission_type      driven_wheels  \\\n",
       "0         148.0               4.0            manual  front_wheel_drive   \n",
       "1         132.0               4.0         automatic  front_wheel_drive   \n",
       "2         148.0               4.0         automatic    all_wheel_drive   \n",
       "3          90.0               4.0            manual   rear_wheel_drive   \n",
       "4         385.0               8.0         automatic   four_wheel_drive   \n",
       "...         ...               ...               ...                ...   \n",
       "7143      221.0               6.0         automatic  front_wheel_drive   \n",
       "7144      275.0               8.0         automatic  front_wheel_drive   \n",
       "7145      300.0               6.0         automatic   rear_wheel_drive   \n",
       "7146      210.0               4.0  automated_manual  front_wheel_drive   \n",
       "7147      285.0               6.0         automatic   four_wheel_drive   \n",
       "\n",
       "      number_of_doors        market_category vehicle_size  \\\n",
       "0                 2.0                    NaN      compact   \n",
       "1                 4.0              hatchback      compact   \n",
       "2                 4.0              hatchback      compact   \n",
       "3                 3.0                    NaN        large   \n",
       "4                 4.0              flex_fuel        large   \n",
       "...               ...                    ...          ...   \n",
       "7143              4.0                 luxury      midsize   \n",
       "7144              4.0                 luxury        large   \n",
       "7145              2.0     luxury,performance      midsize   \n",
       "7146              2.0  hatchback,performance      compact   \n",
       "7147              4.0              flex_fuel        large   \n",
       "\n",
       "            vehicle_style  highway_mpg  city_mpg  popularity   msrp  \n",
       "0                   coupe           33        24        1385  14410  \n",
       "1           4dr_hatchback           32        25        2031  19685  \n",
       "2           4dr_hatchback           37        28         640  19795  \n",
       "3       passenger_minivan           18        16         873   2000  \n",
       "4         crew_cab_pickup           21        15        5657  56260  \n",
       "...                   ...          ...       ...         ...    ...  \n",
       "7143                sedan           26        17          61  28995  \n",
       "7144                sedan           23        15        1624  46280  \n",
       "7145          convertible           31        20        3916  54900  \n",
       "7146        2dr_hatchback           30        24         873  29215  \n",
       "7147  extended_cab_pickup           22        17         549  34675  \n",
       "\n",
       "[7148 rows x 16 columns]"
      ]
     },
     "execution_count": 24,
     "metadata": {},
     "output_type": "execute_result"
    }
   ],
   "source": [
    "x_train"
   ]
  },
  {
   "cell_type": "code",
   "execution_count": 25,
   "id": "e2a9c0d3",
   "metadata": {
    "execution": {
     "iopub.execute_input": "2025-10-08T00:21:05.201155Z",
     "iopub.status.busy": "2025-10-08T00:21:05.200373Z",
     "iopub.status.idle": "2025-10-08T00:21:05.207705Z",
     "shell.execute_reply": "2025-10-08T00:21:05.206929Z"
    },
    "papermill": {
     "duration": 0.02879,
     "end_time": "2025-10-08T00:21:05.209166",
     "exception": false,
     "start_time": "2025-10-08T00:21:05.180376",
     "status": "completed"
    },
    "tags": []
   },
   "outputs": [],
   "source": [
    "y_train = np.log1p(x_train.msrp.values)\n",
    "y_val = np.log1p(x_val.msrp.values)\n",
    "y_test = np.log1p(x_test.msrp.values)"
   ]
  },
  {
   "cell_type": "code",
   "execution_count": 26,
   "id": "93c8e0f1",
   "metadata": {
    "execution": {
     "iopub.execute_input": "2025-10-08T00:21:05.250158Z",
     "iopub.status.busy": "2025-10-08T00:21:05.249822Z",
     "iopub.status.idle": "2025-10-08T00:21:05.255514Z",
     "shell.execute_reply": "2025-10-08T00:21:05.254758Z"
    },
    "papermill": {
     "duration": 0.027573,
     "end_time": "2025-10-08T00:21:05.256967",
     "exception": false,
     "start_time": "2025-10-08T00:21:05.229394",
     "status": "completed"
    },
    "tags": []
   },
   "outputs": [],
   "source": [
    "del x_train[\"msrp\"]\n",
    "del x_val[\"msrp\"]\n",
    "del x_test[\"msrp\"]\n",
    "\n",
    "\n"
   ]
  },
  {
   "cell_type": "code",
   "execution_count": 27,
   "id": "96af31fe",
   "metadata": {
    "execution": {
     "iopub.execute_input": "2025-10-08T00:21:05.298154Z",
     "iopub.status.busy": "2025-10-08T00:21:05.297803Z",
     "iopub.status.idle": "2025-10-08T00:21:05.312724Z",
     "shell.execute_reply": "2025-10-08T00:21:05.311834Z"
    },
    "papermill": {
     "duration": 0.03737,
     "end_time": "2025-10-08T00:21:05.314258",
     "exception": false,
     "start_time": "2025-10-08T00:21:05.276888",
     "status": "completed"
    },
    "tags": []
   },
   "outputs": [
    {
     "data": {
      "text/html": [
       "<div>\n",
       "<style scoped>\n",
       "    .dataframe tbody tr th:only-of-type {\n",
       "        vertical-align: middle;\n",
       "    }\n",
       "\n",
       "    .dataframe tbody tr th {\n",
       "        vertical-align: top;\n",
       "    }\n",
       "\n",
       "    .dataframe thead th {\n",
       "        text-align: right;\n",
       "    }\n",
       "</style>\n",
       "<table border=\"1\" class=\"dataframe\">\n",
       "  <thead>\n",
       "    <tr style=\"text-align: right;\">\n",
       "      <th></th>\n",
       "      <th>make</th>\n",
       "      <th>model</th>\n",
       "      <th>year</th>\n",
       "      <th>engine_fuel_type</th>\n",
       "      <th>engine_hp</th>\n",
       "      <th>engine_cylinders</th>\n",
       "      <th>transmission_type</th>\n",
       "      <th>driven_wheels</th>\n",
       "      <th>number_of_doors</th>\n",
       "      <th>market_category</th>\n",
       "      <th>vehicle_size</th>\n",
       "      <th>vehicle_style</th>\n",
       "      <th>highway_mpg</th>\n",
       "      <th>city_mpg</th>\n",
       "      <th>popularity</th>\n",
       "    </tr>\n",
       "  </thead>\n",
       "  <tbody>\n",
       "    <tr>\n",
       "      <th>0</th>\n",
       "      <td>chevrolet</td>\n",
       "      <td>cobalt</td>\n",
       "      <td>2008</td>\n",
       "      <td>regular_unleaded</td>\n",
       "      <td>148.0</td>\n",
       "      <td>4.0</td>\n",
       "      <td>manual</td>\n",
       "      <td>front_wheel_drive</td>\n",
       "      <td>2.0</td>\n",
       "      <td>NaN</td>\n",
       "      <td>compact</td>\n",
       "      <td>coupe</td>\n",
       "      <td>33</td>\n",
       "      <td>24</td>\n",
       "      <td>1385</td>\n",
       "    </tr>\n",
       "    <tr>\n",
       "      <th>1</th>\n",
       "      <td>toyota</td>\n",
       "      <td>matrix</td>\n",
       "      <td>2012</td>\n",
       "      <td>regular_unleaded</td>\n",
       "      <td>132.0</td>\n",
       "      <td>4.0</td>\n",
       "      <td>automatic</td>\n",
       "      <td>front_wheel_drive</td>\n",
       "      <td>4.0</td>\n",
       "      <td>hatchback</td>\n",
       "      <td>compact</td>\n",
       "      <td>4dr_hatchback</td>\n",
       "      <td>32</td>\n",
       "      <td>25</td>\n",
       "      <td>2031</td>\n",
       "    </tr>\n",
       "    <tr>\n",
       "      <th>2</th>\n",
       "      <td>subaru</td>\n",
       "      <td>impreza</td>\n",
       "      <td>2016</td>\n",
       "      <td>regular_unleaded</td>\n",
       "      <td>148.0</td>\n",
       "      <td>4.0</td>\n",
       "      <td>automatic</td>\n",
       "      <td>all_wheel_drive</td>\n",
       "      <td>4.0</td>\n",
       "      <td>hatchback</td>\n",
       "      <td>compact</td>\n",
       "      <td>4dr_hatchback</td>\n",
       "      <td>37</td>\n",
       "      <td>28</td>\n",
       "      <td>640</td>\n",
       "    </tr>\n",
       "    <tr>\n",
       "      <th>3</th>\n",
       "      <td>volkswagen</td>\n",
       "      <td>vanagon</td>\n",
       "      <td>1991</td>\n",
       "      <td>regular_unleaded</td>\n",
       "      <td>90.0</td>\n",
       "      <td>4.0</td>\n",
       "      <td>manual</td>\n",
       "      <td>rear_wheel_drive</td>\n",
       "      <td>3.0</td>\n",
       "      <td>NaN</td>\n",
       "      <td>large</td>\n",
       "      <td>passenger_minivan</td>\n",
       "      <td>18</td>\n",
       "      <td>16</td>\n",
       "      <td>873</td>\n",
       "    </tr>\n",
       "    <tr>\n",
       "      <th>4</th>\n",
       "      <td>ford</td>\n",
       "      <td>f-150</td>\n",
       "      <td>2017</td>\n",
       "      <td>flex-fuel_(unleaded/e85)</td>\n",
       "      <td>385.0</td>\n",
       "      <td>8.0</td>\n",
       "      <td>automatic</td>\n",
       "      <td>four_wheel_drive</td>\n",
       "      <td>4.0</td>\n",
       "      <td>flex_fuel</td>\n",
       "      <td>large</td>\n",
       "      <td>crew_cab_pickup</td>\n",
       "      <td>21</td>\n",
       "      <td>15</td>\n",
       "      <td>5657</td>\n",
       "    </tr>\n",
       "  </tbody>\n",
       "</table>\n",
       "</div>"
      ],
      "text/plain": [
       "         make    model  year          engine_fuel_type  engine_hp  \\\n",
       "0   chevrolet   cobalt  2008          regular_unleaded      148.0   \n",
       "1      toyota   matrix  2012          regular_unleaded      132.0   \n",
       "2      subaru  impreza  2016          regular_unleaded      148.0   \n",
       "3  volkswagen  vanagon  1991          regular_unleaded       90.0   \n",
       "4        ford    f-150  2017  flex-fuel_(unleaded/e85)      385.0   \n",
       "\n",
       "   engine_cylinders transmission_type      driven_wheels  number_of_doors  \\\n",
       "0               4.0            manual  front_wheel_drive              2.0   \n",
       "1               4.0         automatic  front_wheel_drive              4.0   \n",
       "2               4.0         automatic    all_wheel_drive              4.0   \n",
       "3               4.0            manual   rear_wheel_drive              3.0   \n",
       "4               8.0         automatic   four_wheel_drive              4.0   \n",
       "\n",
       "  market_category vehicle_size      vehicle_style  highway_mpg  city_mpg  \\\n",
       "0             NaN      compact              coupe           33        24   \n",
       "1       hatchback      compact      4dr_hatchback           32        25   \n",
       "2       hatchback      compact      4dr_hatchback           37        28   \n",
       "3             NaN        large  passenger_minivan           18        16   \n",
       "4       flex_fuel        large    crew_cab_pickup           21        15   \n",
       "\n",
       "   popularity  \n",
       "0        1385  \n",
       "1        2031  \n",
       "2         640  \n",
       "3         873  \n",
       "4        5657  "
      ]
     },
     "execution_count": 27,
     "metadata": {},
     "output_type": "execute_result"
    }
   ],
   "source": [
    "x_train.head()"
   ]
  },
  {
   "cell_type": "markdown",
   "id": "92202698",
   "metadata": {
    "papermill": {
     "duration": 0.019918,
     "end_time": "2025-10-08T00:21:05.354417",
     "exception": false,
     "start_time": "2025-10-08T00:21:05.334499",
     "status": "completed"
    },
    "tags": []
   },
   "source": [
    "#### Linear regression from scratch"
   ]
  },
  {
   "cell_type": "code",
   "execution_count": 28,
   "id": "c9545cc1",
   "metadata": {
    "execution": {
     "iopub.execute_input": "2025-10-08T00:21:05.394656Z",
     "iopub.status.busy": "2025-10-08T00:21:05.394358Z",
     "iopub.status.idle": "2025-10-08T00:21:05.399796Z",
     "shell.execute_reply": "2025-10-08T00:21:05.399097Z"
    },
    "papermill": {
     "duration": 0.027106,
     "end_time": "2025-10-08T00:21:05.401186",
     "exception": false,
     "start_time": "2025-10-08T00:21:05.374080",
     "status": "completed"
    },
    "tags": []
   },
   "outputs": [],
   "source": [
    "# random weights, coefficients or parameters, the linear regression model is for searching these items\n",
    "w= [60,8,98]\n",
    "#An instance of the dataset with 3 features by example\n",
    "xi = x_train.iloc[10][[\"engine_hp\",\"city_mpg\",\"popularity\"]].values\n",
    "# Bias term\n",
    "w0 = 0"
   ]
  },
  {
   "cell_type": "code",
   "execution_count": 29,
   "id": "a6b2736f",
   "metadata": {
    "execution": {
     "iopub.execute_input": "2025-10-08T00:21:05.441354Z",
     "iopub.status.busy": "2025-10-08T00:21:05.441045Z",
     "iopub.status.idle": "2025-10-08T00:21:05.445816Z",
     "shell.execute_reply": "2025-10-08T00:21:05.444897Z"
    },
    "papermill": {
     "duration": 0.026971,
     "end_time": "2025-10-08T00:21:05.447486",
     "exception": false,
     "start_time": "2025-10-08T00:21:05.420515",
     "status": "completed"
    },
    "tags": []
   },
   "outputs": [],
   "source": [
    "def linear_regression(xi):\n",
    "    pred = w0\n",
    "\n",
    "    for j in np.arange(len(xi)):\n",
    "        pred = pred + w[j]* xi[j]\n",
    "    return pred\n",
    "\n",
    "    "
   ]
  },
  {
   "cell_type": "code",
   "execution_count": 30,
   "id": "aaf8c8ec",
   "metadata": {
    "execution": {
     "iopub.execute_input": "2025-10-08T00:21:05.487513Z",
     "iopub.status.busy": "2025-10-08T00:21:05.487204Z",
     "iopub.status.idle": "2025-10-08T00:21:05.491742Z",
     "shell.execute_reply": "2025-10-08T00:21:05.490894Z"
    },
    "papermill": {
     "duration": 0.026413,
     "end_time": "2025-10-08T00:21:05.493159",
     "exception": false,
     "start_time": "2025-10-08T00:21:05.466746",
     "status": "completed"
    },
    "tags": []
   },
   "outputs": [],
   "source": [
    "w = [0.01,0.04,0.002]\n",
    "w0 = 7.17\n",
    "pred = linear_regression(xi)"
   ]
  },
  {
   "cell_type": "code",
   "execution_count": 31,
   "id": "bc7fe7bf",
   "metadata": {
    "execution": {
     "iopub.execute_input": "2025-10-08T00:21:05.532610Z",
     "iopub.status.busy": "2025-10-08T00:21:05.532285Z",
     "iopub.status.idle": "2025-10-08T00:21:05.538308Z",
     "shell.execute_reply": "2025-10-08T00:21:05.537433Z"
    },
    "papermill": {
     "duration": 0.027608,
     "end_time": "2025-10-08T00:21:05.539883",
     "exception": false,
     "start_time": "2025-10-08T00:21:05.512275",
     "status": "completed"
    },
    "tags": []
   },
   "outputs": [
    {
     "data": {
      "text/plain": [
       "222347.2221101062"
      ]
     },
     "execution_count": 31,
     "metadata": {},
     "output_type": "execute_result"
    }
   ],
   "source": [
    "# When we use the log1p() function for transforming the target we have to use expm1() to have the real value of the target\n",
    "np.expm1(pred)"
   ]
  },
  {
   "cell_type": "code",
   "execution_count": 32,
   "id": "c3cd6397",
   "metadata": {
    "execution": {
     "iopub.execute_input": "2025-10-08T00:21:05.580460Z",
     "iopub.status.busy": "2025-10-08T00:21:05.580172Z",
     "iopub.status.idle": "2025-10-08T00:21:05.587928Z",
     "shell.execute_reply": "2025-10-08T00:21:05.586826Z"
    },
    "papermill": {
     "duration": 0.029625,
     "end_time": "2025-10-08T00:21:05.589438",
     "exception": false,
     "start_time": "2025-10-08T00:21:05.559813",
     "status": "completed"
    },
    "tags": []
   },
   "outputs": [
    {
     "data": {
      "text/plain": [
       "engine_hp     453.0\n",
       "city_mpg         11\n",
       "popularity       86\n",
       "Name: 10, dtype: object"
      ]
     },
     "execution_count": 32,
     "metadata": {},
     "output_type": "execute_result"
    }
   ],
   "source": [
    "x_train.iloc[10][[\"engine_hp\",\"city_mpg\",\"popularity\"]]"
   ]
  },
  {
   "cell_type": "markdown",
   "id": "f27eb263",
   "metadata": {
    "papermill": {
     "duration": 0.019494,
     "end_time": "2025-10-08T00:21:05.628738",
     "exception": false,
     "start_time": "2025-10-08T00:21:05.609244",
     "status": "completed"
    },
    "tags": []
   },
   "source": [
    "#### Linear regression : vector form"
   ]
  },
  {
   "cell_type": "code",
   "execution_count": 33,
   "id": "5d626631",
   "metadata": {
    "execution": {
     "iopub.execute_input": "2025-10-08T00:21:05.668546Z",
     "iopub.status.busy": "2025-10-08T00:21:05.668273Z",
     "iopub.status.idle": "2025-10-08T00:21:05.673786Z",
     "shell.execute_reply": "2025-10-08T00:21:05.672659Z"
    },
    "papermill": {
     "duration": 0.027317,
     "end_time": "2025-10-08T00:21:05.675298",
     "exception": false,
     "start_time": "2025-10-08T00:21:05.647981",
     "status": "completed"
    },
    "tags": []
   },
   "outputs": [],
   "source": [
    "def dot(xi,w):\n",
    "    res = 0.0\n",
    "    n = len(xi)\n",
    "    for j in np.arange(n):\n",
    "        res = res + xi[j]* w[j]\n",
    "\n",
    "    return res"
   ]
  },
  {
   "cell_type": "code",
   "execution_count": 34,
   "id": "7a0f69e0",
   "metadata": {
    "execution": {
     "iopub.execute_input": "2025-10-08T00:21:05.715689Z",
     "iopub.status.busy": "2025-10-08T00:21:05.715361Z",
     "iopub.status.idle": "2025-10-08T00:21:05.719766Z",
     "shell.execute_reply": "2025-10-08T00:21:05.719031Z"
    },
    "papermill": {
     "duration": 0.02635,
     "end_time": "2025-10-08T00:21:05.721318",
     "exception": false,
     "start_time": "2025-10-08T00:21:05.694968",
     "status": "completed"
    },
    "tags": []
   },
   "outputs": [],
   "source": [
    "def linear_regression(xi):\n",
    "    return w0 + dot(xi,w)"
   ]
  },
  {
   "cell_type": "code",
   "execution_count": 35,
   "id": "f5e2b9e3",
   "metadata": {
    "execution": {
     "iopub.execute_input": "2025-10-08T00:21:05.761504Z",
     "iopub.status.busy": "2025-10-08T00:21:05.761182Z",
     "iopub.status.idle": "2025-10-08T00:21:05.768004Z",
     "shell.execute_reply": "2025-10-08T00:21:05.767190Z"
    },
    "papermill": {
     "duration": 0.028586,
     "end_time": "2025-10-08T00:21:05.769417",
     "exception": false,
     "start_time": "2025-10-08T00:21:05.740831",
     "status": "completed"
    },
    "tags": []
   },
   "outputs": [
    {
     "data": {
      "text/plain": [
       "12.312000000000001"
      ]
     },
     "execution_count": 35,
     "metadata": {},
     "output_type": "execute_result"
    }
   ],
   "source": [
    "linear_regression(x_train.iloc[10][[\"engine_hp\",\"city_mpg\",\"popularity\"]].values)"
   ]
  },
  {
   "cell_type": "code",
   "execution_count": 36,
   "id": "555a2423",
   "metadata": {
    "execution": {
     "iopub.execute_input": "2025-10-08T00:21:05.810131Z",
     "iopub.status.busy": "2025-10-08T00:21:05.809766Z",
     "iopub.status.idle": "2025-10-08T00:21:05.818317Z",
     "shell.execute_reply": "2025-10-08T00:21:05.817433Z"
    },
    "papermill": {
     "duration": 0.030335,
     "end_time": "2025-10-08T00:21:05.819656",
     "exception": false,
     "start_time": "2025-10-08T00:21:05.789321",
     "status": "completed"
    },
    "tags": []
   },
   "outputs": [
    {
     "data": {
      "text/plain": [
       "(array([453.0, 11, 86], dtype=object),\n",
       " array([240.0, 21, 3916], dtype=object),\n",
       " array([302.0, 18, 617], dtype=object))"
      ]
     },
     "execution_count": 36,
     "metadata": {},
     "output_type": "execute_result"
    }
   ],
   "source": [
    "x1 = x_train.iloc[10][[\"engine_hp\",\"city_mpg\",\"popularity\"]].values\n",
    "x2 = x_train.iloc[45][[\"engine_hp\",\"city_mpg\",\"popularity\"]].values\n",
    "x3 = x_train.iloc[30][[\"engine_hp\",\"city_mpg\",\"popularity\"]].values\n",
    "x1,x2,x3"
   ]
  },
  {
   "cell_type": "code",
   "execution_count": 37,
   "id": "2bf963b1",
   "metadata": {
    "execution": {
     "iopub.execute_input": "2025-10-08T00:21:05.860796Z",
     "iopub.status.busy": "2025-10-08T00:21:05.860521Z",
     "iopub.status.idle": "2025-10-08T00:21:05.866964Z",
     "shell.execute_reply": "2025-10-08T00:21:05.866009Z"
    },
    "papermill": {
     "duration": 0.028384,
     "end_time": "2025-10-08T00:21:05.868365",
     "exception": false,
     "start_time": "2025-10-08T00:21:05.839981",
     "status": "completed"
    },
    "tags": []
   },
   "outputs": [
    {
     "data": {
      "text/plain": [
       "array([[453.0, 11, 86],\n",
       "       [240.0, 21, 3916],\n",
       "       [302.0, 18, 617]], dtype=object)"
      ]
     },
     "execution_count": 37,
     "metadata": {},
     "output_type": "execute_result"
    }
   ],
   "source": [
    "X = np.array([x1,x2,x3])\n",
    "X"
   ]
  },
  {
   "cell_type": "code",
   "execution_count": 38,
   "id": "1ad64d7d",
   "metadata": {
    "execution": {
     "iopub.execute_input": "2025-10-08T00:21:05.909479Z",
     "iopub.status.busy": "2025-10-08T00:21:05.909177Z",
     "iopub.status.idle": "2025-10-08T00:21:05.915474Z",
     "shell.execute_reply": "2025-10-08T00:21:05.914421Z"
    },
    "papermill": {
     "duration": 0.028711,
     "end_time": "2025-10-08T00:21:05.916994",
     "exception": false,
     "start_time": "2025-10-08T00:21:05.888283",
     "status": "completed"
    },
    "tags": []
   },
   "outputs": [
    {
     "data": {
      "text/plain": [
       "array([[1, 453.0, 11, 86],\n",
       "       [1, 240.0, 21, 3916],\n",
       "       [1, 302.0, 18, 617]], dtype=object)"
      ]
     },
     "execution_count": 38,
     "metadata": {},
     "output_type": "execute_result"
    }
   ],
   "source": [
    "arr = np.column_stack((np.ones(X.shape[0], dtype=int), X))\n",
    "arr"
   ]
  },
  {
   "cell_type": "code",
   "execution_count": 39,
   "id": "51aa85c3",
   "metadata": {
    "execution": {
     "iopub.execute_input": "2025-10-08T00:21:05.959181Z",
     "iopub.status.busy": "2025-10-08T00:21:05.958299Z",
     "iopub.status.idle": "2025-10-08T00:21:05.964394Z",
     "shell.execute_reply": "2025-10-08T00:21:05.963603Z"
    },
    "papermill": {
     "duration": 0.028373,
     "end_time": "2025-10-08T00:21:05.965722",
     "exception": false,
     "start_time": "2025-10-08T00:21:05.937349",
     "status": "completed"
    },
    "tags": []
   },
   "outputs": [
    {
     "data": {
      "text/plain": [
       "[7.17, 0.01, 0.04, 0.002]"
      ]
     },
     "execution_count": 39,
     "metadata": {},
     "output_type": "execute_result"
    }
   ],
   "source": [
    "w_new = [w0] + w\n",
    "w_new "
   ]
  },
  {
   "cell_type": "code",
   "execution_count": 40,
   "id": "02efbc8c",
   "metadata": {
    "execution": {
     "iopub.execute_input": "2025-10-08T00:21:06.006322Z",
     "iopub.status.busy": "2025-10-08T00:21:06.006041Z",
     "iopub.status.idle": "2025-10-08T00:21:06.011849Z",
     "shell.execute_reply": "2025-10-08T00:21:06.010913Z"
    },
    "papermill": {
     "duration": 0.027937,
     "end_time": "2025-10-08T00:21:06.013278",
     "exception": false,
     "start_time": "2025-10-08T00:21:05.985341",
     "status": "completed"
    },
    "tags": []
   },
   "outputs": [
    {
     "data": {
      "text/plain": [
       "array([12.312, 18.242, 12.144], dtype=object)"
      ]
     },
     "execution_count": 40,
     "metadata": {},
     "output_type": "execute_result"
    }
   ],
   "source": [
    "# predictions\n",
    "arr.dot(w_new)"
   ]
  },
  {
   "cell_type": "markdown",
   "id": "569bb8f0",
   "metadata": {
    "papermill": {
     "duration": 0.019852,
     "end_time": "2025-10-08T00:21:06.053580",
     "exception": false,
     "start_time": "2025-10-08T00:21:06.033728",
     "status": "completed"
    },
    "tags": []
   },
   "source": [
    "#### train a linear regression from scratch"
   ]
  },
  {
   "cell_type": "code",
   "execution_count": 41,
   "id": "fd52d1d5",
   "metadata": {
    "execution": {
     "iopub.execute_input": "2025-10-08T00:21:06.094486Z",
     "iopub.status.busy": "2025-10-08T00:21:06.094176Z",
     "iopub.status.idle": "2025-10-08T00:21:06.105809Z",
     "shell.execute_reply": "2025-10-08T00:21:06.104979Z"
    },
    "papermill": {
     "duration": 0.033947,
     "end_time": "2025-10-08T00:21:06.107324",
     "exception": false,
     "start_time": "2025-10-08T00:21:06.073377",
     "status": "completed"
    },
    "tags": []
   },
   "outputs": [
    {
     "data": {
      "text/plain": [
       "array([[ 170.,   24.,  873.],\n",
       "       [ 278.,   19., 2202.],\n",
       "       [ 230.,   11., 1851.],\n",
       "       [ 244.,   16., 1851.],\n",
       "       [ 510.,   12.,  259.],\n",
       "       [ 435.,   14., 5657.],\n",
       "       [ 255.,   19.,  454.],\n",
       "       [ 174.,   31., 2202.],\n",
       "       [ 182.,   12.,  258.]])"
      ]
     },
     "execution_count": 41,
     "metadata": {},
     "output_type": "execute_result"
    }
   ],
   "source": [
    "a = []\n",
    "for _ in range(9):\n",
    "    x = x_train.iloc[np.random.randint(0, len(x_train))][[\"engine_hp\",\"city_mpg\",\"popularity\"]].values\n",
    "    a.append(x)\n",
    "\n",
    "X = np.array(a,dtype = float)\n",
    "X"
   ]
  },
  {
   "cell_type": "code",
   "execution_count": 42,
   "id": "94623508",
   "metadata": {
    "execution": {
     "iopub.execute_input": "2025-10-08T00:21:06.148224Z",
     "iopub.status.busy": "2025-10-08T00:21:06.147858Z",
     "iopub.status.idle": "2025-10-08T00:21:06.154483Z",
     "shell.execute_reply": "2025-10-08T00:21:06.153590Z"
    },
    "papermill": {
     "duration": 0.028537,
     "end_time": "2025-10-08T00:21:06.155851",
     "exception": false,
     "start_time": "2025-10-08T00:21:06.127314",
     "status": "completed"
    },
    "tags": []
   },
   "outputs": [
    {
     "data": {
      "text/plain": [
       "array([[1.000e+00, 1.700e+02, 2.400e+01, 8.730e+02],\n",
       "       [1.000e+00, 2.780e+02, 1.900e+01, 2.202e+03],\n",
       "       [1.000e+00, 2.300e+02, 1.100e+01, 1.851e+03],\n",
       "       [1.000e+00, 2.440e+02, 1.600e+01, 1.851e+03],\n",
       "       [1.000e+00, 5.100e+02, 1.200e+01, 2.590e+02],\n",
       "       [1.000e+00, 4.350e+02, 1.400e+01, 5.657e+03],\n",
       "       [1.000e+00, 2.550e+02, 1.900e+01, 4.540e+02],\n",
       "       [1.000e+00, 1.740e+02, 3.100e+01, 2.202e+03],\n",
       "       [1.000e+00, 1.820e+02, 1.200e+01, 2.580e+02]])"
      ]
     },
     "execution_count": 42,
     "metadata": {},
     "output_type": "execute_result"
    }
   ],
   "source": [
    "X = np.column_stack((np.ones(X.shape[0], dtype=int), X))\n",
    "X"
   ]
  },
  {
   "cell_type": "code",
   "execution_count": 43,
   "id": "1c0a470e",
   "metadata": {
    "execution": {
     "iopub.execute_input": "2025-10-08T00:21:06.197045Z",
     "iopub.status.busy": "2025-10-08T00:21:06.196250Z",
     "iopub.status.idle": "2025-10-08T00:21:06.202883Z",
     "shell.execute_reply": "2025-10-08T00:21:06.202030Z"
    },
    "papermill": {
     "duration": 0.028647,
     "end_time": "2025-10-08T00:21:06.204323",
     "exception": false,
     "start_time": "2025-10-08T00:21:06.175676",
     "status": "completed"
    },
    "tags": []
   },
   "outputs": [
    {
     "data": {
      "text/plain": [
       "array([[9.0000000e+00, 2.4780000e+03, 1.5800000e+02, 1.5607000e+04],\n",
       "       [2.4780000e+03, 7.9637000e+05, 4.0429000e+04, 4.7766990e+06],\n",
       "       [1.5800000e+02, 4.0429000e+04, 3.1200000e+03, 2.7505700e+05],\n",
       "       [1.5607000e+04, 4.7766990e+06, 2.7505700e+05, 4.9653549e+07]])"
      ]
     },
     "execution_count": 43,
     "metadata": {},
     "output_type": "execute_result"
    }
   ],
   "source": [
    "XTX = X.T.dot(X)\n",
    "XTX"
   ]
  },
  {
   "cell_type": "code",
   "execution_count": 44,
   "id": "4821df7e",
   "metadata": {
    "execution": {
     "iopub.execute_input": "2025-10-08T00:21:06.247115Z",
     "iopub.status.busy": "2025-10-08T00:21:06.246490Z",
     "iopub.status.idle": "2025-10-08T00:21:06.250675Z",
     "shell.execute_reply": "2025-10-08T00:21:06.249848Z"
    },
    "papermill": {
     "duration": 0.027974,
     "end_time": "2025-10-08T00:21:06.252338",
     "exception": false,
     "start_time": "2025-10-08T00:21:06.224364",
     "status": "completed"
    },
    "tags": []
   },
   "outputs": [],
   "source": [
    "XTX_inv = np.linalg.inv(XTX)"
   ]
  },
  {
   "cell_type": "code",
   "execution_count": 45,
   "id": "46b814a3",
   "metadata": {
    "execution": {
     "iopub.execute_input": "2025-10-08T00:21:06.296412Z",
     "iopub.status.busy": "2025-10-08T00:21:06.296105Z",
     "iopub.status.idle": "2025-10-08T00:21:06.302702Z",
     "shell.execute_reply": "2025-10-08T00:21:06.301887Z"
    },
    "papermill": {
     "duration": 0.031251,
     "end_time": "2025-10-08T00:21:06.304088",
     "exception": false,
     "start_time": "2025-10-08T00:21:06.272837",
     "status": "completed"
    },
    "tags": []
   },
   "outputs": [],
   "source": [
    "y = [12000,130000,34000,34000,65000,5400,56000,235000,34000]\n",
    "w_full = XTX_inv.dot(X.T).dot(y)\n"
   ]
  },
  {
   "cell_type": "code",
   "execution_count": 46,
   "id": "1e2987c9",
   "metadata": {
    "execution": {
     "iopub.execute_input": "2025-10-08T00:21:06.346016Z",
     "iopub.status.busy": "2025-10-08T00:21:06.345462Z",
     "iopub.status.idle": "2025-10-08T00:21:06.352184Z",
     "shell.execute_reply": "2025-10-08T00:21:06.351277Z"
    },
    "papermill": {
     "duration": 0.0295,
     "end_time": "2025-10-08T00:21:06.353913",
     "exception": false,
     "start_time": "2025-10-08T00:21:06.324413",
     "status": "completed"
    },
    "tags": []
   },
   "outputs": [
    {
     "data": {
      "text/plain": [
       "(-110890.68492626004,\n",
       " array([ 1.16414561e+02,  8.73050926e+03, -4.13145253e+00]))"
      ]
     },
     "execution_count": 46,
     "metadata": {},
     "output_type": "execute_result"
    }
   ],
   "source": [
    "w0 = w_full[0]\n",
    "w = w_full[1:]\n",
    "w0,w"
   ]
  },
  {
   "cell_type": "code",
   "execution_count": 47,
   "id": "0a244ece",
   "metadata": {
    "execution": {
     "iopub.execute_input": "2025-10-08T00:21:06.396726Z",
     "iopub.status.busy": "2025-10-08T00:21:06.396388Z",
     "iopub.status.idle": "2025-10-08T00:21:06.408221Z",
     "shell.execute_reply": "2025-10-08T00:21:06.407261Z"
    },
    "papermill": {
     "duration": 0.034851,
     "end_time": "2025-10-08T00:21:06.409708",
     "exception": false,
     "start_time": "2025-10-08T00:21:06.374857",
     "status": "completed"
    },
    "tags": []
   },
   "outputs": [
    {
     "data": {
      "text/plain": [
       "array([[ 165.,   15., 1385.],\n",
       "       [ 173.,   24., 1439.],\n",
       "       [ 200.,   42., 2031.],\n",
       "       [ 303.,   16.,  190.],\n",
       "       [ 400.,   18., 1715.],\n",
       "       [ 138.,   23., 1720.],\n",
       "       [ 291.,   17.,  436.],\n",
       "       [ 196.,   25., 1385.],\n",
       "       [  nan,  120., 1720.]])"
      ]
     },
     "execution_count": 47,
     "metadata": {},
     "output_type": "execute_result"
    }
   ],
   "source": [
    "a = []\n",
    "for _ in range(9):\n",
    "    x = x_train.iloc[np.random.randint(0, len(x_train))][[\"engine_hp\",\"city_mpg\",\"popularity\"]].values\n",
    "    a.append(x)\n",
    "\n",
    "X = np.array(a,dtype = float)\n",
    "X"
   ]
  },
  {
   "cell_type": "code",
   "execution_count": 48,
   "id": "091b4024",
   "metadata": {
    "execution": {
     "iopub.execute_input": "2025-10-08T00:21:06.451649Z",
     "iopub.status.busy": "2025-10-08T00:21:06.451300Z",
     "iopub.status.idle": "2025-10-08T00:21:06.456399Z",
     "shell.execute_reply": "2025-10-08T00:21:06.455559Z"
    },
    "papermill": {
     "duration": 0.027415,
     "end_time": "2025-10-08T00:21:06.457786",
     "exception": false,
     "start_time": "2025-10-08T00:21:06.430371",
     "status": "completed"
    },
    "tags": []
   },
   "outputs": [],
   "source": [
    "def train_linear_regression(X,y):\n",
    "    X = np.column_stack((np.ones(X.shape[0], dtype=int), X))\n",
    "    XTX = X.T.dot(X)\n",
    "    XTX_inv = np.linalg.inv(XTX)\n",
    "    w_full = XTX_inv.dot(X.T).dot(y)\n",
    "    return w_full[0],w_full[1:]\n"
   ]
  },
  {
   "cell_type": "code",
   "execution_count": 49,
   "id": "2440cb8b",
   "metadata": {
    "execution": {
     "iopub.execute_input": "2025-10-08T00:21:06.499102Z",
     "iopub.status.busy": "2025-10-08T00:21:06.498701Z",
     "iopub.status.idle": "2025-10-08T00:21:06.504783Z",
     "shell.execute_reply": "2025-10-08T00:21:06.503998Z"
    },
    "papermill": {
     "duration": 0.028413,
     "end_time": "2025-10-08T00:21:06.506205",
     "exception": false,
     "start_time": "2025-10-08T00:21:06.477792",
     "status": "completed"
    },
    "tags": []
   },
   "outputs": [
    {
     "data": {
      "text/plain": [
       "(nan, array([nan, nan, nan]))"
      ]
     },
     "execution_count": 49,
     "metadata": {},
     "output_type": "execute_result"
    }
   ],
   "source": [
    "train_linear_regression(X,y)"
   ]
  },
  {
   "cell_type": "markdown",
   "id": "ff5c03ef",
   "metadata": {
    "execution": {
     "iopub.execute_input": "2025-10-06T00:08:15.745505Z",
     "iopub.status.busy": "2025-10-06T00:08:15.745203Z",
     "iopub.status.idle": "2025-10-06T00:08:15.750145Z",
     "shell.execute_reply": "2025-10-06T00:08:15.748895Z",
     "shell.execute_reply.started": "2025-10-06T00:08:15.745485Z"
    },
    "papermill": {
     "duration": 0.020592,
     "end_time": "2025-10-08T00:21:06.547217",
     "exception": false,
     "start_time": "2025-10-08T00:21:06.526625",
     "status": "completed"
    },
    "tags": []
   },
   "source": [
    "#### Baseline model"
   ]
  },
  {
   "cell_type": "code",
   "execution_count": 50,
   "id": "fa50e661",
   "metadata": {
    "execution": {
     "iopub.execute_input": "2025-10-08T00:21:06.590594Z",
     "iopub.status.busy": "2025-10-08T00:21:06.590291Z",
     "iopub.status.idle": "2025-10-08T00:21:06.600030Z",
     "shell.execute_reply": "2025-10-08T00:21:06.599036Z"
    },
    "papermill": {
     "duration": 0.032798,
     "end_time": "2025-10-08T00:21:06.601373",
     "exception": false,
     "start_time": "2025-10-08T00:21:06.568575",
     "status": "completed"
    },
    "tags": []
   },
   "outputs": [
    {
     "data": {
      "text/plain": [
       "year                 0\n",
       "engine_hp           40\n",
       "engine_cylinders    14\n",
       "number_of_doors      6\n",
       "highway_mpg          0\n",
       "city_mpg             0\n",
       "popularity           0\n",
       "dtype: int64"
      ]
     },
     "execution_count": 50,
     "metadata": {},
     "output_type": "execute_result"
    }
   ],
   "source": [
    "x_train[x_train.dtypes[x_train.dtypes != object].index].isnull().sum()"
   ]
  },
  {
   "cell_type": "code",
   "execution_count": 51,
   "id": "15064503",
   "metadata": {
    "execution": {
     "iopub.execute_input": "2025-10-08T00:21:06.643767Z",
     "iopub.status.busy": "2025-10-08T00:21:06.643069Z",
     "iopub.status.idle": "2025-10-08T00:21:06.657399Z",
     "shell.execute_reply": "2025-10-08T00:21:06.656622Z"
    },
    "papermill": {
     "duration": 0.03722,
     "end_time": "2025-10-08T00:21:06.658871",
     "exception": false,
     "start_time": "2025-10-08T00:21:06.621651",
     "status": "completed"
    },
    "tags": []
   },
   "outputs": [
    {
     "data": {
      "text/html": [
       "<div>\n",
       "<style scoped>\n",
       "    .dataframe tbody tr th:only-of-type {\n",
       "        vertical-align: middle;\n",
       "    }\n",
       "\n",
       "    .dataframe tbody tr th {\n",
       "        vertical-align: top;\n",
       "    }\n",
       "\n",
       "    .dataframe thead th {\n",
       "        text-align: right;\n",
       "    }\n",
       "</style>\n",
       "<table border=\"1\" class=\"dataframe\">\n",
       "  <thead>\n",
       "    <tr style=\"text-align: right;\">\n",
       "      <th></th>\n",
       "      <th>year</th>\n",
       "      <th>engine_hp</th>\n",
       "      <th>engine_cylinders</th>\n",
       "      <th>number_of_doors</th>\n",
       "      <th>highway_mpg</th>\n",
       "      <th>city_mpg</th>\n",
       "      <th>popularity</th>\n",
       "    </tr>\n",
       "  </thead>\n",
       "  <tbody>\n",
       "    <tr>\n",
       "      <th>0</th>\n",
       "      <td>2008</td>\n",
       "      <td>148.0</td>\n",
       "      <td>4.0</td>\n",
       "      <td>2.0</td>\n",
       "      <td>33</td>\n",
       "      <td>24</td>\n",
       "      <td>1385</td>\n",
       "    </tr>\n",
       "    <tr>\n",
       "      <th>1</th>\n",
       "      <td>2012</td>\n",
       "      <td>132.0</td>\n",
       "      <td>4.0</td>\n",
       "      <td>4.0</td>\n",
       "      <td>32</td>\n",
       "      <td>25</td>\n",
       "      <td>2031</td>\n",
       "    </tr>\n",
       "    <tr>\n",
       "      <th>2</th>\n",
       "      <td>2016</td>\n",
       "      <td>148.0</td>\n",
       "      <td>4.0</td>\n",
       "      <td>4.0</td>\n",
       "      <td>37</td>\n",
       "      <td>28</td>\n",
       "      <td>640</td>\n",
       "    </tr>\n",
       "    <tr>\n",
       "      <th>3</th>\n",
       "      <td>1991</td>\n",
       "      <td>90.0</td>\n",
       "      <td>4.0</td>\n",
       "      <td>3.0</td>\n",
       "      <td>18</td>\n",
       "      <td>16</td>\n",
       "      <td>873</td>\n",
       "    </tr>\n",
       "    <tr>\n",
       "      <th>4</th>\n",
       "      <td>2017</td>\n",
       "      <td>385.0</td>\n",
       "      <td>8.0</td>\n",
       "      <td>4.0</td>\n",
       "      <td>21</td>\n",
       "      <td>15</td>\n",
       "      <td>5657</td>\n",
       "    </tr>\n",
       "    <tr>\n",
       "      <th>...</th>\n",
       "      <td>...</td>\n",
       "      <td>...</td>\n",
       "      <td>...</td>\n",
       "      <td>...</td>\n",
       "      <td>...</td>\n",
       "      <td>...</td>\n",
       "      <td>...</td>\n",
       "    </tr>\n",
       "    <tr>\n",
       "      <th>7143</th>\n",
       "      <td>2006</td>\n",
       "      <td>221.0</td>\n",
       "      <td>6.0</td>\n",
       "      <td>4.0</td>\n",
       "      <td>26</td>\n",
       "      <td>17</td>\n",
       "      <td>61</td>\n",
       "    </tr>\n",
       "    <tr>\n",
       "      <th>7144</th>\n",
       "      <td>2010</td>\n",
       "      <td>275.0</td>\n",
       "      <td>8.0</td>\n",
       "      <td>4.0</td>\n",
       "      <td>23</td>\n",
       "      <td>15</td>\n",
       "      <td>1624</td>\n",
       "    </tr>\n",
       "    <tr>\n",
       "      <th>7145</th>\n",
       "      <td>2015</td>\n",
       "      <td>300.0</td>\n",
       "      <td>6.0</td>\n",
       "      <td>2.0</td>\n",
       "      <td>31</td>\n",
       "      <td>20</td>\n",
       "      <td>3916</td>\n",
       "    </tr>\n",
       "    <tr>\n",
       "      <th>7146</th>\n",
       "      <td>2015</td>\n",
       "      <td>210.0</td>\n",
       "      <td>4.0</td>\n",
       "      <td>2.0</td>\n",
       "      <td>30</td>\n",
       "      <td>24</td>\n",
       "      <td>873</td>\n",
       "    </tr>\n",
       "    <tr>\n",
       "      <th>7147</th>\n",
       "      <td>2015</td>\n",
       "      <td>285.0</td>\n",
       "      <td>6.0</td>\n",
       "      <td>4.0</td>\n",
       "      <td>22</td>\n",
       "      <td>17</td>\n",
       "      <td>549</td>\n",
       "    </tr>\n",
       "  </tbody>\n",
       "</table>\n",
       "<p>7148 rows × 7 columns</p>\n",
       "</div>"
      ],
      "text/plain": [
       "      year  engine_hp  engine_cylinders  number_of_doors  highway_mpg  \\\n",
       "0     2008      148.0               4.0              2.0           33   \n",
       "1     2012      132.0               4.0              4.0           32   \n",
       "2     2016      148.0               4.0              4.0           37   \n",
       "3     1991       90.0               4.0              3.0           18   \n",
       "4     2017      385.0               8.0              4.0           21   \n",
       "...    ...        ...               ...              ...          ...   \n",
       "7143  2006      221.0               6.0              4.0           26   \n",
       "7144  2010      275.0               8.0              4.0           23   \n",
       "7145  2015      300.0               6.0              2.0           31   \n",
       "7146  2015      210.0               4.0              2.0           30   \n",
       "7147  2015      285.0               6.0              4.0           22   \n",
       "\n",
       "      city_mpg  popularity  \n",
       "0           24        1385  \n",
       "1           25        2031  \n",
       "2           28         640  \n",
       "3           16         873  \n",
       "4           15        5657  \n",
       "...        ...         ...  \n",
       "7143        17          61  \n",
       "7144        15        1624  \n",
       "7145        20        3916  \n",
       "7146        24         873  \n",
       "7147        17         549  \n",
       "\n",
       "[7148 rows x 7 columns]"
      ]
     },
     "execution_count": 51,
     "metadata": {},
     "output_type": "execute_result"
    }
   ],
   "source": [
    "x_train[x_train.dtypes[x_train.dtypes != object].index]"
   ]
  },
  {
   "cell_type": "markdown",
   "id": "00a04b3f",
   "metadata": {
    "papermill": {
     "duration": 0.019832,
     "end_time": "2025-10-08T00:21:06.699262",
     "exception": false,
     "start_time": "2025-10-08T00:21:06.679430",
     "status": "completed"
    },
    "tags": []
   },
   "source": [
    "**Fill Nan Values** "
   ]
  },
  {
   "cell_type": "code",
   "execution_count": 52,
   "id": "28cd8315",
   "metadata": {
    "execution": {
     "iopub.execute_input": "2025-10-08T00:21:06.740429Z",
     "iopub.status.busy": "2025-10-08T00:21:06.740131Z",
     "iopub.status.idle": "2025-10-08T00:21:06.749904Z",
     "shell.execute_reply": "2025-10-08T00:21:06.749011Z"
    },
    "papermill": {
     "duration": 0.032293,
     "end_time": "2025-10-08T00:21:06.751436",
     "exception": false,
     "start_time": "2025-10-08T00:21:06.719143",
     "status": "completed"
    },
    "tags": []
   },
   "outputs": [
    {
     "data": {
      "text/plain": [
       "year                0\n",
       "engine_hp           0\n",
       "engine_cylinders    0\n",
       "number_of_doors     0\n",
       "highway_mpg         0\n",
       "city_mpg            0\n",
       "popularity          0\n",
       "dtype: int64"
      ]
     },
     "execution_count": 52,
     "metadata": {},
     "output_type": "execute_result"
    }
   ],
   "source": [
    "X_train = x_train[x_train.dtypes[x_train.dtypes != object].index].fillna(0)\n",
    "X_train.isnull().sum()"
   ]
  },
  {
   "cell_type": "code",
   "execution_count": 53,
   "id": "74bd2523",
   "metadata": {
    "execution": {
     "iopub.execute_input": "2025-10-08T00:21:06.794617Z",
     "iopub.status.busy": "2025-10-08T00:21:06.794323Z",
     "iopub.status.idle": "2025-10-08T00:21:06.798785Z",
     "shell.execute_reply": "2025-10-08T00:21:06.797996Z"
    },
    "papermill": {
     "duration": 0.027585,
     "end_time": "2025-10-08T00:21:06.800065",
     "exception": false,
     "start_time": "2025-10-08T00:21:06.772480",
     "status": "completed"
    },
    "tags": []
   },
   "outputs": [],
   "source": [
    "X_train = X_train.values"
   ]
  },
  {
   "cell_type": "code",
   "execution_count": 54,
   "id": "12b1f247",
   "metadata": {
    "execution": {
     "iopub.execute_input": "2025-10-08T00:21:06.843910Z",
     "iopub.status.busy": "2025-10-08T00:21:06.843594Z",
     "iopub.status.idle": "2025-10-08T00:21:06.851230Z",
     "shell.execute_reply": "2025-10-08T00:21:06.850401Z"
    },
    "papermill": {
     "duration": 0.0309,
     "end_time": "2025-10-08T00:21:06.852743",
     "exception": false,
     "start_time": "2025-10-08T00:21:06.821843",
     "status": "completed"
    },
    "tags": []
   },
   "outputs": [],
   "source": [
    "w0,w = train_linear_regression(X_train,y_train)"
   ]
  },
  {
   "cell_type": "code",
   "execution_count": 55,
   "id": "487ea809",
   "metadata": {
    "execution": {
     "iopub.execute_input": "2025-10-08T00:21:06.896438Z",
     "iopub.status.busy": "2025-10-08T00:21:06.895661Z",
     "iopub.status.idle": "2025-10-08T00:21:06.899847Z",
     "shell.execute_reply": "2025-10-08T00:21:06.899151Z"
    },
    "papermill": {
     "duration": 0.027142,
     "end_time": "2025-10-08T00:21:06.901180",
     "exception": false,
     "start_time": "2025-10-08T00:21:06.874038",
     "status": "completed"
    },
    "tags": []
   },
   "outputs": [],
   "source": [
    "y_pred = w0 + X_train.dot(w)"
   ]
  },
  {
   "cell_type": "code",
   "execution_count": 56,
   "id": "3e5dd3ee",
   "metadata": {
    "execution": {
     "iopub.execute_input": "2025-10-08T00:21:06.944586Z",
     "iopub.status.busy": "2025-10-08T00:21:06.943931Z",
     "iopub.status.idle": "2025-10-08T00:21:07.333204Z",
     "shell.execute_reply": "2025-10-08T00:21:07.332233Z"
    },
    "papermill": {
     "duration": 0.412542,
     "end_time": "2025-10-08T00:21:07.334715",
     "exception": false,
     "start_time": "2025-10-08T00:21:06.922173",
     "status": "completed"
    },
    "tags": []
   },
   "outputs": [
    {
     "name": "stderr",
     "output_type": "stream",
     "text": [
      "/usr/local/lib/python3.11/dist-packages/seaborn/_oldcore.py:1119: FutureWarning: use_inf_as_na option is deprecated and will be removed in a future version. Convert inf values to NaN before operating instead.\n",
      "  with pd.option_context('mode.use_inf_as_na', True):\n",
      "/usr/local/lib/python3.11/dist-packages/seaborn/_oldcore.py:1119: FutureWarning: use_inf_as_na option is deprecated and will be removed in a future version. Convert inf values to NaN before operating instead.\n",
      "  with pd.option_context('mode.use_inf_as_na', True):\n"
     ]
    },
    {
     "data": {
      "text/plain": [
       "<Axes: ylabel='Count'>"
      ]
     },
     "execution_count": 56,
     "metadata": {},
     "output_type": "execute_result"
    },
    {
     "data": {
      "image/png": "[encoded data removed]",
      "text/plain": [
       "<Figure size 640x480 with 1 Axes>"
      ]
     },
     "metadata": {},
     "output_type": "display_data"
    }
   ],
   "source": [
    "sns.histplot(y_pred,color = \"red\",alpha = 0.5)\n",
    "sns.histplot(y_train,color = \"blue\",alpha = 0.5)\n"
   ]
  },
  {
   "cell_type": "markdown",
   "id": "6dcd4a87",
   "metadata": {
    "papermill": {
     "duration": 0.021648,
     "end_time": "2025-10-08T00:21:07.378399",
     "exception": false,
     "start_time": "2025-10-08T00:21:07.356751",
     "status": "completed"
    },
    "tags": []
   },
   "source": [
    "#### Root Mean Squared Error: RMSE"
   ]
  },
  {
   "cell_type": "markdown",
   "id": "fba613a2",
   "metadata": {
    "papermill": {
     "duration": 0.033986,
     "end_time": "2025-10-08T00:21:07.440657",
     "exception": false,
     "start_time": "2025-10-08T00:21:07.406671",
     "status": "completed"
    },
    "tags": []
   },
   "source": [
    "**RMSE for training set**"
   ]
  },
  {
   "cell_type": "code",
   "execution_count": 57,
   "id": "055f4951",
   "metadata": {
    "execution": {
     "iopub.execute_input": "2025-10-08T00:21:07.494963Z",
     "iopub.status.busy": "2025-10-08T00:21:07.494600Z",
     "iopub.status.idle": "2025-10-08T00:21:07.499393Z",
     "shell.execute_reply": "2025-10-08T00:21:07.498570Z"
    },
    "papermill": {
     "duration": 0.031216,
     "end_time": "2025-10-08T00:21:07.500847",
     "exception": false,
     "start_time": "2025-10-08T00:21:07.469631",
     "status": "completed"
    },
    "tags": []
   },
   "outputs": [],
   "source": [
    "def rmse(y,y_pred):\n",
    "    squared_error = (y - y_pred)**2\n",
    "    mean_squared_error = squared_error.mean()\n",
    "    return np.sqrt(mean_squared_error)\n",
    "    "
   ]
  },
  {
   "cell_type": "code",
   "execution_count": 58,
   "id": "450efe4e",
   "metadata": {
    "execution": {
     "iopub.execute_input": "2025-10-08T00:21:07.544923Z",
     "iopub.status.busy": "2025-10-08T00:21:07.544608Z",
     "iopub.status.idle": "2025-10-08T00:21:07.550423Z",
     "shell.execute_reply": "2025-10-08T00:21:07.549560Z"
    },
    "papermill": {
     "duration": 0.029962,
     "end_time": "2025-10-08T00:21:07.551856",
     "exception": false,
     "start_time": "2025-10-08T00:21:07.521894",
     "status": "completed"
    },
    "tags": []
   },
   "outputs": [
    {
     "data": {
      "text/plain": [
       "0.5171735013836418"
      ]
     },
     "execution_count": 58,
     "metadata": {},
     "output_type": "execute_result"
    }
   ],
   "source": [
    "rmse(y_train,y_pred)"
   ]
  },
  {
   "cell_type": "markdown",
   "id": "c637fe60",
   "metadata": {
    "papermill": {
     "duration": 0.021213,
     "end_time": "2025-10-08T00:21:07.595149",
     "exception": false,
     "start_time": "2025-10-08T00:21:07.573936",
     "status": "completed"
    },
    "tags": []
   },
   "source": [
    "**RMSE for validation set**"
   ]
  },
  {
   "cell_type": "code",
   "execution_count": 59,
   "id": "370ccb21",
   "metadata": {
    "execution": {
     "iopub.execute_input": "2025-10-08T00:21:07.638389Z",
     "iopub.status.busy": "2025-10-08T00:21:07.638103Z",
     "iopub.status.idle": "2025-10-08T00:21:07.642793Z",
     "shell.execute_reply": "2025-10-08T00:21:07.642077Z"
    },
    "papermill": {
     "duration": 0.028382,
     "end_time": "2025-10-08T00:21:07.644289",
     "exception": false,
     "start_time": "2025-10-08T00:21:07.615907",
     "status": "completed"
    },
    "tags": []
   },
   "outputs": [],
   "source": [
    "def prepare_data(X):\n",
    "    X = X[X.dtypes[X.dtypes != object].index].fillna(0)\n",
    "    X = X.values\n",
    "    return X\n",
    "    \n",
    "    "
   ]
  },
  {
   "cell_type": "code",
   "execution_count": 60,
   "id": "03811137",
   "metadata": {
    "execution": {
     "iopub.execute_input": "2025-10-08T00:21:07.687781Z",
     "iopub.status.busy": "2025-10-08T00:21:07.687512Z",
     "iopub.status.idle": "2025-10-08T00:21:07.694347Z",
     "shell.execute_reply": "2025-10-08T00:21:07.693452Z"
    },
    "papermill": {
     "duration": 0.030142,
     "end_time": "2025-10-08T00:21:07.695700",
     "exception": false,
     "start_time": "2025-10-08T00:21:07.665558",
     "status": "completed"
    },
    "tags": []
   },
   "outputs": [],
   "source": [
    "X_val = prepare_data(x_val)"
   ]
  },
  {
   "cell_type": "code",
   "execution_count": 61,
   "id": "dd14b021",
   "metadata": {
    "execution": {
     "iopub.execute_input": "2025-10-08T00:21:07.739368Z",
     "iopub.status.busy": "2025-10-08T00:21:07.739059Z",
     "iopub.status.idle": "2025-10-08T00:21:07.745379Z",
     "shell.execute_reply": "2025-10-08T00:21:07.744460Z"
    },
    "papermill": {
     "duration": 0.030184,
     "end_time": "2025-10-08T00:21:07.747065",
     "exception": false,
     "start_time": "2025-10-08T00:21:07.716881",
     "status": "completed"
    },
    "tags": []
   },
   "outputs": [
    {
     "data": {
      "text/plain": [
       "array([12.12200159, 10.46744569, 10.23777966, ..., 10.44711176,\n",
       "       11.51161737, 10.85112373])"
      ]
     },
     "execution_count": 61,
     "metadata": {},
     "output_type": "execute_result"
    }
   ],
   "source": [
    "y_pred = w0 + X_val.dot(w)\n",
    "y_pred"
   ]
  },
  {
   "cell_type": "code",
   "execution_count": 62,
   "id": "814e20fb",
   "metadata": {
    "execution": {
     "iopub.execute_input": "2025-10-08T00:21:07.790376Z",
     "iopub.status.busy": "2025-10-08T00:21:07.790092Z",
     "iopub.status.idle": "2025-10-08T00:21:07.795891Z",
     "shell.execute_reply": "2025-10-08T00:21:07.795021Z"
    },
    "papermill": {
     "duration": 0.029039,
     "end_time": "2025-10-08T00:21:07.797365",
     "exception": false,
     "start_time": "2025-10-08T00:21:07.768326",
     "status": "completed"
    },
    "tags": []
   },
   "outputs": [
    {
     "data": {
      "text/plain": [
       "0.5167405563999826"
      ]
     },
     "execution_count": 62,
     "metadata": {},
     "output_type": "execute_result"
    }
   ],
   "source": [
    "rmse(y_val,y_pred)"
   ]
  },
  {
   "cell_type": "markdown",
   "id": "ca234076",
   "metadata": {
    "papermill": {
     "duration": 0.021023,
     "end_time": "2025-10-08T00:21:07.839539",
     "exception": false,
     "start_time": "2025-10-08T00:21:07.818516",
     "status": "completed"
    },
    "tags": []
   },
   "source": [
    "#### Feature engineering"
   ]
  },
  {
   "cell_type": "markdown",
   "id": "423d02ed",
   "metadata": {
    "papermill": {
     "duration": 0.020386,
     "end_time": "2025-10-08T00:21:07.880693",
     "exception": false,
     "start_time": "2025-10-08T00:21:07.860307",
     "status": "completed"
    },
    "tags": []
   },
   "source": [
    "**You can change some variables, add or combine for searching a better performance.**\n",
    "\n",
    "**You retrain the model with these new features and compare to other RMSE for training/validation**"
   ]
  },
  {
   "cell_type": "markdown",
   "id": "ba5cb53f",
   "metadata": {
    "papermill": {
     "duration": 0.020655,
     "end_time": "2025-10-08T00:21:07.922067",
     "exception": false,
     "start_time": "2025-10-08T00:21:07.901412",
     "status": "completed"
    },
    "tags": []
   },
   "source": [
    "#### Categorical features"
   ]
  },
  {
   "cell_type": "markdown",
   "id": "a0c727f6",
   "metadata": {
    "papermill": {
     "duration": 0.020916,
     "end_time": "2025-10-08T00:21:07.964584",
     "exception": false,
     "start_time": "2025-10-08T00:21:07.943668",
     "status": "completed"
    },
    "tags": []
   },
   "source": [
    "**Add a categorical \"number_of_doors\" variable**"
   ]
  },
  {
   "cell_type": "code",
   "execution_count": 63,
   "id": "29df1d64",
   "metadata": {
    "execution": {
     "iopub.execute_input": "2025-10-08T00:21:08.008008Z",
     "iopub.status.busy": "2025-10-08T00:21:08.007676Z",
     "iopub.status.idle": "2025-10-08T00:21:08.013438Z",
     "shell.execute_reply": "2025-10-08T00:21:08.012508Z"
    },
    "papermill": {
     "duration": 0.02929,
     "end_time": "2025-10-08T00:21:08.014907",
     "exception": false,
     "start_time": "2025-10-08T00:21:07.985617",
     "status": "completed"
    },
    "tags": []
   },
   "outputs": [],
   "source": [
    "def prepare_data(X):\n",
    "    X = X.copy()\n",
    "    X = X[X.dtypes[X.dtypes != object].index].fillna(0)\n",
    "    X[\"age\"] = 2017 - X.year\n",
    "    for v in [2,3,4]:\n",
    "        X[\"num_doors_%s\" % v] = (X[\"number_of_doors\"]==v).astype(\"int\")\n",
    "    del X[\"number_of_doors\"]\n",
    "    del X[\"year\"]\n",
    "\n",
    "    X = X.values\n",
    "    return X"
   ]
  },
  {
   "cell_type": "code",
   "execution_count": 64,
   "id": "afcbcd8f",
   "metadata": {
    "execution": {
     "iopub.execute_input": "2025-10-08T00:21:08.059377Z",
     "iopub.status.busy": "2025-10-08T00:21:08.058592Z",
     "iopub.status.idle": "2025-10-08T00:21:08.074412Z",
     "shell.execute_reply": "2025-10-08T00:21:08.073518Z"
    },
    "papermill": {
     "duration": 0.03954,
     "end_time": "2025-10-08T00:21:08.075925",
     "exception": false,
     "start_time": "2025-10-08T00:21:08.036385",
     "status": "completed"
    },
    "tags": []
   },
   "outputs": [
    {
     "data": {
      "text/plain": [
       "(7148, 9)"
      ]
     },
     "execution_count": 64,
     "metadata": {},
     "output_type": "execute_result"
    }
   ],
   "source": [
    "prepare_data(x_train).shape"
   ]
  },
  {
   "cell_type": "code",
   "execution_count": 65,
   "id": "30bd4693",
   "metadata": {
    "execution": {
     "iopub.execute_input": "2025-10-08T00:21:08.120379Z",
     "iopub.status.busy": "2025-10-08T00:21:08.119582Z",
     "iopub.status.idle": "2025-10-08T00:21:08.146907Z",
     "shell.execute_reply": "2025-10-08T00:21:08.146003Z"
    },
    "papermill": {
     "duration": 0.05085,
     "end_time": "2025-10-08T00:21:08.148480",
     "exception": false,
     "start_time": "2025-10-08T00:21:08.097630",
     "status": "completed"
    },
    "tags": []
   },
   "outputs": [
    {
     "data": {
      "text/plain": [
       "0.5157158684881102"
      ]
     },
     "execution_count": 65,
     "metadata": {},
     "output_type": "execute_result"
    }
   ],
   "source": [
    "X_train = prepare_data(x_train)\n",
    "w0,w = train_linear_regression(X_train,y_train)\n",
    "X_val = prepare_data(x_val)\n",
    "y_pred = w0 + X_val.dot(w)\n",
    "rmse(y_val,y_pred)"
   ]
  },
  {
   "cell_type": "markdown",
   "id": "48091553",
   "metadata": {
    "papermill": {
     "duration": 0.020831,
     "end_time": "2025-10-08T00:21:08.193903",
     "exception": false,
     "start_time": "2025-10-08T00:21:08.173072",
     "status": "completed"
    },
    "tags": []
   },
   "source": [
    "**Add a categorical \"make\" variable**"
   ]
  },
  {
   "cell_type": "code",
   "execution_count": 66,
   "id": "7592c803",
   "metadata": {
    "execution": {
     "iopub.execute_input": "2025-10-08T00:21:08.238355Z",
     "iopub.status.busy": "2025-10-08T00:21:08.237277Z",
     "iopub.status.idle": "2025-10-08T00:21:08.247926Z",
     "shell.execute_reply": "2025-10-08T00:21:08.246997Z"
    },
    "papermill": {
     "duration": 0.03463,
     "end_time": "2025-10-08T00:21:08.249455",
     "exception": false,
     "start_time": "2025-10-08T00:21:08.214825",
     "status": "completed"
    },
    "tags": []
   },
   "outputs": [
    {
     "data": {
      "text/plain": [
       "make\n",
       "chevrolet     667\n",
       "ford          519\n",
       "volkswagen    488\n",
       "toyota        452\n",
       "dodge         367\n",
       "Name: count, dtype: int64"
      ]
     },
     "execution_count": 66,
     "metadata": {},
     "output_type": "execute_result"
    }
   ],
   "source": [
    "x_train[\"make\"].value_counts().head()"
   ]
  },
  {
   "cell_type": "code",
   "execution_count": 67,
   "id": "34a8fef1",
   "metadata": {
    "execution": {
     "iopub.execute_input": "2025-10-08T00:21:08.296459Z",
     "iopub.status.busy": "2025-10-08T00:21:08.295599Z",
     "iopub.status.idle": "2025-10-08T00:21:08.301737Z",
     "shell.execute_reply": "2025-10-08T00:21:08.300909Z"
    },
    "papermill": {
     "duration": 0.031906,
     "end_time": "2025-10-08T00:21:08.303277",
     "exception": false,
     "start_time": "2025-10-08T00:21:08.271371",
     "status": "completed"
    },
    "tags": []
   },
   "outputs": [],
   "source": [
    "def prepare_data(X):\n",
    "    X = X.copy()\n",
    "    # makes categorical encoding with\n",
    "    makes = list(X[\"make\"].value_counts().head().index)\n",
    "    for v in makes:\n",
    "        X[\"makes_%s\" % v] = (X[\"make\"]== v).astype(\"int\")\n",
    "    X = X[X.dtypes[X.dtypes != object].index].fillna(0)\n",
    "    # Year feature engineering\n",
    "    X[\"age\"] = 2017 - X.year\n",
    "    # number of doors categorical encoding\n",
    "    for v in [2,3,4]:\n",
    "        X[\"num_doors_%s\" % v] = (X[\"number_of_doors\"]==v).astype(\"int\")\n",
    "        \n",
    "    del X[\"number_of_doors\"]\n",
    "    del X[\"year\"]\n",
    "\n",
    "    X = X.values\n",
    "    return X"
   ]
  },
  {
   "cell_type": "code",
   "execution_count": 68,
   "id": "ad268f57",
   "metadata": {
    "execution": {
     "iopub.execute_input": "2025-10-08T00:21:08.348987Z",
     "iopub.status.busy": "2025-10-08T00:21:08.347815Z",
     "iopub.status.idle": "2025-10-08T00:21:08.384984Z",
     "shell.execute_reply": "2025-10-08T00:21:08.384144Z"
    },
    "papermill": {
     "duration": 0.061253,
     "end_time": "2025-10-08T00:21:08.386278",
     "exception": false,
     "start_time": "2025-10-08T00:21:08.325025",
     "status": "completed"
    },
    "tags": []
   },
   "outputs": [
    {
     "data": {
      "text/plain": [
       "0.5074572881971682"
      ]
     },
     "execution_count": 68,
     "metadata": {},
     "output_type": "execute_result"
    }
   ],
   "source": [
    "X_train = prepare_data(x_train)\n",
    "w0,w = train_linear_regression(X_train,y_train)\n",
    "X_val = prepare_data(x_val)\n",
    "y_pred = w0 + X_val.dot(w)\n",
    "rmse(y_val,y_pred)"
   ]
  },
  {
   "cell_type": "markdown",
   "id": "915c579d",
   "metadata": {
    "papermill": {
     "duration": 0.022051,
     "end_time": "2025-10-08T00:21:08.430100",
     "exception": false,
     "start_time": "2025-10-08T00:21:08.408049",
     "status": "completed"
    },
    "tags": []
   },
   "source": [
    "**Add some other categorical features**"
   ]
  },
  {
   "cell_type": "code",
   "execution_count": 69,
   "id": "c460139d",
   "metadata": {
    "execution": {
     "iopub.execute_input": "2025-10-08T00:21:08.475001Z",
     "iopub.status.busy": "2025-10-08T00:21:08.474673Z",
     "iopub.status.idle": "2025-10-08T00:21:08.481493Z",
     "shell.execute_reply": "2025-10-08T00:21:08.480757Z"
    },
    "papermill": {
     "duration": 0.031353,
     "end_time": "2025-10-08T00:21:08.482819",
     "exception": false,
     "start_time": "2025-10-08T00:21:08.451466",
     "status": "completed"
    },
    "tags": []
   },
   "outputs": [
    {
     "data": {
      "text/plain": [
       "['model',\n",
       " 'engine_fuel_type',\n",
       " 'transmission_type',\n",
       " 'driven_wheels',\n",
       " 'market_category',\n",
       " 'vehicle_size',\n",
       " 'vehicle_style']"
      ]
     },
     "execution_count": 69,
     "metadata": {},
     "output_type": "execute_result"
    }
   ],
   "source": [
    "object_col = list(x_train.dtypes[x_train.dtypes == object].index)\n",
    "[col for col in object_col if col != 'make']"
   ]
  },
  {
   "cell_type": "code",
   "execution_count": 70,
   "id": "54d77200",
   "metadata": {
    "execution": {
     "iopub.execute_input": "2025-10-08T00:21:08.527104Z",
     "iopub.status.busy": "2025-10-08T00:21:08.526769Z",
     "iopub.status.idle": "2025-10-08T00:21:08.548398Z",
     "shell.execute_reply": "2025-10-08T00:21:08.547414Z"
    },
    "papermill": {
     "duration": 0.045512,
     "end_time": "2025-10-08T00:21:08.549920",
     "exception": false,
     "start_time": "2025-10-08T00:21:08.504408",
     "status": "completed"
    },
    "tags": []
   },
   "outputs": [
    {
     "name": "stdout",
     "output_type": "stream",
     "text": [
      "make\n",
      "\n",
      "make\n",
      "chevrolet     667\n",
      "ford          519\n",
      "volkswagen    488\n",
      "toyota        452\n",
      "dodge         367\n",
      "Name: count, dtype: int64\n",
      "\n",
      "model\n",
      "\n",
      "model\n",
      "silverado_1500    92\n",
      "tundra            85\n",
      "f-150             71\n",
      "sierra_1500       61\n",
      "tacoma            56\n",
      "Name: count, dtype: int64\n",
      "\n",
      "engine_fuel_type\n",
      "\n",
      "engine_fuel_type\n",
      "regular_unleaded                  4318\n",
      "premium_unleaded_(required)       1186\n",
      "premium_unleaded_(recommended)     920\n",
      "flex-fuel_(unleaded/e85)           531\n",
      "diesel                              94\n",
      "Name: count, dtype: int64\n",
      "\n",
      "transmission_type\n",
      "\n",
      "transmission_type\n",
      "automatic           4920\n",
      "manual              1789\n",
      "automated_manual     382\n",
      "direct_drive          42\n",
      "unknown               15\n",
      "Name: count, dtype: int64\n",
      "\n",
      "driven_wheels\n",
      "\n",
      "driven_wheels\n",
      "front_wheel_drive    2882\n",
      "rear_wheel_drive     2024\n",
      "all_wheel_drive      1381\n",
      "four_wheel_drive      861\n",
      "Name: count, dtype: int64\n",
      "\n",
      "market_category\n",
      "\n",
      "market_category\n",
      "crossover             647\n",
      "flex_fuel             520\n",
      "luxury                512\n",
      "hatchback             395\n",
      "luxury,performance    391\n",
      "Name: count, dtype: int64\n",
      "\n",
      "vehicle_size\n",
      "\n",
      "vehicle_size\n",
      "compact    2881\n",
      "midsize    2622\n",
      "large      1645\n",
      "Name: count, dtype: int64\n",
      "\n",
      "vehicle_style\n",
      "\n",
      "vehicle_style\n",
      "sedan            1813\n",
      "4dr_suv          1497\n",
      "coupe             713\n",
      "convertible       512\n",
      "4dr_hatchback     429\n",
      "Name: count, dtype: int64\n",
      "\n"
     ]
    }
   ],
   "source": [
    "for col in object_col:\n",
    "    print (col)\n",
    "    print()\n",
    "    print(x_train[col].value_counts().head())\n",
    "    print()"
   ]
  },
  {
   "cell_type": "code",
   "execution_count": 71,
   "id": "10db3d51",
   "metadata": {
    "execution": {
     "iopub.execute_input": "2025-10-08T00:21:08.595522Z",
     "iopub.status.busy": "2025-10-08T00:21:08.595225Z",
     "iopub.status.idle": "2025-10-08T00:21:08.614077Z",
     "shell.execute_reply": "2025-10-08T00:21:08.613150Z"
    },
    "papermill": {
     "duration": 0.042735,
     "end_time": "2025-10-08T00:21:08.615506",
     "exception": false,
     "start_time": "2025-10-08T00:21:08.572771",
     "status": "completed"
    },
    "tags": []
   },
   "outputs": [
    {
     "data": {
      "text/plain": [
       "{'make': ['chevrolet', 'ford', 'volkswagen', 'toyota', 'dodge'],\n",
       " 'model': ['silverado_1500', 'tundra', 'f-150', 'sierra_1500', 'tacoma'],\n",
       " 'engine_fuel_type': ['regular_unleaded',\n",
       "  'premium_unleaded_(required)',\n",
       "  'premium_unleaded_(recommended)',\n",
       "  'flex-fuel_(unleaded/e85)',\n",
       "  'diesel'],\n",
       " 'transmission_type': ['automatic',\n",
       "  'manual',\n",
       "  'automated_manual',\n",
       "  'direct_drive',\n",
       "  'unknown'],\n",
       " 'driven_wheels': ['front_wheel_drive',\n",
       "  'rear_wheel_drive',\n",
       "  'all_wheel_drive',\n",
       "  'four_wheel_drive'],\n",
       " 'market_category': ['crossover',\n",
       "  'flex_fuel',\n",
       "  'luxury',\n",
       "  'hatchback',\n",
       "  'luxury,performance'],\n",
       " 'vehicle_size': ['compact', 'midsize', 'large'],\n",
       " 'vehicle_style': ['sedan',\n",
       "  '4dr_suv',\n",
       "  'coupe',\n",
       "  'convertible',\n",
       "  '4dr_hatchback']}"
      ]
     },
     "execution_count": 71,
     "metadata": {},
     "output_type": "execute_result"
    }
   ],
   "source": [
    "categories = {}\n",
    "for c in object_col:\n",
    "    categories[c] = list(x_train[c].value_counts().head().index)\n",
    "categories"
   ]
  },
  {
   "cell_type": "code",
   "execution_count": 72,
   "id": "ad813371",
   "metadata": {
    "execution": {
     "iopub.execute_input": "2025-10-08T00:21:08.661679Z",
     "iopub.status.busy": "2025-10-08T00:21:08.661385Z",
     "iopub.status.idle": "2025-10-08T00:21:08.716606Z",
     "shell.execute_reply": "2025-10-08T00:21:08.715861Z"
    },
    "papermill": {
     "duration": 0.080396,
     "end_time": "2025-10-08T00:21:08.718304",
     "exception": false,
     "start_time": "2025-10-08T00:21:08.637908",
     "status": "completed"
    },
    "tags": []
   },
   "outputs": [],
   "source": [
    "X = x_train.copy()\n",
    "for col,categ in categories.items():\n",
    "        for c in categ:\n",
    "            X[\"%s_%s\" % (col,c)] = (X[col] == c).astype(\"int\")"
   ]
  },
  {
   "cell_type": "code",
   "execution_count": 73,
   "id": "e8644d42",
   "metadata": {
    "execution": {
     "iopub.execute_input": "2025-10-08T00:21:08.763928Z",
     "iopub.status.busy": "2025-10-08T00:21:08.763658Z",
     "iopub.status.idle": "2025-10-08T00:21:08.792436Z",
     "shell.execute_reply": "2025-10-08T00:21:08.791648Z"
    },
    "papermill": {
     "duration": 0.053498,
     "end_time": "2025-10-08T00:21:08.793920",
     "exception": false,
     "start_time": "2025-10-08T00:21:08.740422",
     "status": "completed"
    },
    "tags": []
   },
   "outputs": [
    {
     "data": {
      "text/html": [
       "<div>\n",
       "<style scoped>\n",
       "    .dataframe tbody tr th:only-of-type {\n",
       "        vertical-align: middle;\n",
       "    }\n",
       "\n",
       "    .dataframe tbody tr th {\n",
       "        vertical-align: top;\n",
       "    }\n",
       "\n",
       "    .dataframe thead th {\n",
       "        text-align: right;\n",
       "    }\n",
       "</style>\n",
       "<table border=\"1\" class=\"dataframe\">\n",
       "  <thead>\n",
       "    <tr style=\"text-align: right;\">\n",
       "      <th></th>\n",
       "      <th>make</th>\n",
       "      <th>model</th>\n",
       "      <th>year</th>\n",
       "      <th>engine_fuel_type</th>\n",
       "      <th>engine_hp</th>\n",
       "      <th>engine_cylinders</th>\n",
       "      <th>transmission_type</th>\n",
       "      <th>driven_wheels</th>\n",
       "      <th>number_of_doors</th>\n",
       "      <th>market_category</th>\n",
       "      <th>...</th>\n",
       "      <th>market_category_hatchback</th>\n",
       "      <th>market_category_luxury,performance</th>\n",
       "      <th>vehicle_size_compact</th>\n",
       "      <th>vehicle_size_midsize</th>\n",
       "      <th>vehicle_size_large</th>\n",
       "      <th>vehicle_style_sedan</th>\n",
       "      <th>vehicle_style_4dr_suv</th>\n",
       "      <th>vehicle_style_coupe</th>\n",
       "      <th>vehicle_style_convertible</th>\n",
       "      <th>vehicle_style_4dr_hatchback</th>\n",
       "    </tr>\n",
       "  </thead>\n",
       "  <tbody>\n",
       "    <tr>\n",
       "      <th>0</th>\n",
       "      <td>chevrolet</td>\n",
       "      <td>cobalt</td>\n",
       "      <td>2008</td>\n",
       "      <td>regular_unleaded</td>\n",
       "      <td>148.0</td>\n",
       "      <td>4.0</td>\n",
       "      <td>manual</td>\n",
       "      <td>front_wheel_drive</td>\n",
       "      <td>2.0</td>\n",
       "      <td>NaN</td>\n",
       "      <td>...</td>\n",
       "      <td>0</td>\n",
       "      <td>0</td>\n",
       "      <td>1</td>\n",
       "      <td>0</td>\n",
       "      <td>0</td>\n",
       "      <td>0</td>\n",
       "      <td>0</td>\n",
       "      <td>1</td>\n",
       "      <td>0</td>\n",
       "      <td>0</td>\n",
       "    </tr>\n",
       "    <tr>\n",
       "      <th>1</th>\n",
       "      <td>toyota</td>\n",
       "      <td>matrix</td>\n",
       "      <td>2012</td>\n",
       "      <td>regular_unleaded</td>\n",
       "      <td>132.0</td>\n",
       "      <td>4.0</td>\n",
       "      <td>automatic</td>\n",
       "      <td>front_wheel_drive</td>\n",
       "      <td>4.0</td>\n",
       "      <td>hatchback</td>\n",
       "      <td>...</td>\n",
       "      <td>1</td>\n",
       "      <td>0</td>\n",
       "      <td>1</td>\n",
       "      <td>0</td>\n",
       "      <td>0</td>\n",
       "      <td>0</td>\n",
       "      <td>0</td>\n",
       "      <td>0</td>\n",
       "      <td>0</td>\n",
       "      <td>1</td>\n",
       "    </tr>\n",
       "    <tr>\n",
       "      <th>2</th>\n",
       "      <td>subaru</td>\n",
       "      <td>impreza</td>\n",
       "      <td>2016</td>\n",
       "      <td>regular_unleaded</td>\n",
       "      <td>148.0</td>\n",
       "      <td>4.0</td>\n",
       "      <td>automatic</td>\n",
       "      <td>all_wheel_drive</td>\n",
       "      <td>4.0</td>\n",
       "      <td>hatchback</td>\n",
       "      <td>...</td>\n",
       "      <td>1</td>\n",
       "      <td>0</td>\n",
       "      <td>1</td>\n",
       "      <td>0</td>\n",
       "      <td>0</td>\n",
       "      <td>0</td>\n",
       "      <td>0</td>\n",
       "      <td>0</td>\n",
       "      <td>0</td>\n",
       "      <td>1</td>\n",
       "    </tr>\n",
       "    <tr>\n",
       "      <th>3</th>\n",
       "      <td>volkswagen</td>\n",
       "      <td>vanagon</td>\n",
       "      <td>1991</td>\n",
       "      <td>regular_unleaded</td>\n",
       "      <td>90.0</td>\n",
       "      <td>4.0</td>\n",
       "      <td>manual</td>\n",
       "      <td>rear_wheel_drive</td>\n",
       "      <td>3.0</td>\n",
       "      <td>NaN</td>\n",
       "      <td>...</td>\n",
       "      <td>0</td>\n",
       "      <td>0</td>\n",
       "      <td>0</td>\n",
       "      <td>0</td>\n",
       "      <td>1</td>\n",
       "      <td>0</td>\n",
       "      <td>0</td>\n",
       "      <td>0</td>\n",
       "      <td>0</td>\n",
       "      <td>0</td>\n",
       "    </tr>\n",
       "    <tr>\n",
       "      <th>4</th>\n",
       "      <td>ford</td>\n",
       "      <td>f-150</td>\n",
       "      <td>2017</td>\n",
       "      <td>flex-fuel_(unleaded/e85)</td>\n",
       "      <td>385.0</td>\n",
       "      <td>8.0</td>\n",
       "      <td>automatic</td>\n",
       "      <td>four_wheel_drive</td>\n",
       "      <td>4.0</td>\n",
       "      <td>flex_fuel</td>\n",
       "      <td>...</td>\n",
       "      <td>0</td>\n",
       "      <td>0</td>\n",
       "      <td>0</td>\n",
       "      <td>0</td>\n",
       "      <td>1</td>\n",
       "      <td>0</td>\n",
       "      <td>0</td>\n",
       "      <td>0</td>\n",
       "      <td>0</td>\n",
       "      <td>0</td>\n",
       "    </tr>\n",
       "    <tr>\n",
       "      <th>...</th>\n",
       "      <td>...</td>\n",
       "      <td>...</td>\n",
       "      <td>...</td>\n",
       "      <td>...</td>\n",
       "      <td>...</td>\n",
       "      <td>...</td>\n",
       "      <td>...</td>\n",
       "      <td>...</td>\n",
       "      <td>...</td>\n",
       "      <td>...</td>\n",
       "      <td>...</td>\n",
       "      <td>...</td>\n",
       "      <td>...</td>\n",
       "      <td>...</td>\n",
       "      <td>...</td>\n",
       "      <td>...</td>\n",
       "      <td>...</td>\n",
       "      <td>...</td>\n",
       "      <td>...</td>\n",
       "      <td>...</td>\n",
       "      <td>...</td>\n",
       "    </tr>\n",
       "    <tr>\n",
       "      <th>7143</th>\n",
       "      <td>lincoln</td>\n",
       "      <td>zephyr</td>\n",
       "      <td>2006</td>\n",
       "      <td>regular_unleaded</td>\n",
       "      <td>221.0</td>\n",
       "      <td>6.0</td>\n",
       "      <td>automatic</td>\n",
       "      <td>front_wheel_drive</td>\n",
       "      <td>4.0</td>\n",
       "      <td>luxury</td>\n",
       "      <td>...</td>\n",
       "      <td>0</td>\n",
       "      <td>0</td>\n",
       "      <td>0</td>\n",
       "      <td>1</td>\n",
       "      <td>0</td>\n",
       "      <td>1</td>\n",
       "      <td>0</td>\n",
       "      <td>0</td>\n",
       "      <td>0</td>\n",
       "      <td>0</td>\n",
       "    </tr>\n",
       "    <tr>\n",
       "      <th>7144</th>\n",
       "      <td>cadillac</td>\n",
       "      <td>dts</td>\n",
       "      <td>2010</td>\n",
       "      <td>premium_unleaded_(recommended)</td>\n",
       "      <td>275.0</td>\n",
       "      <td>8.0</td>\n",
       "      <td>automatic</td>\n",
       "      <td>front_wheel_drive</td>\n",
       "      <td>4.0</td>\n",
       "      <td>luxury</td>\n",
       "      <td>...</td>\n",
       "      <td>0</td>\n",
       "      <td>0</td>\n",
       "      <td>0</td>\n",
       "      <td>0</td>\n",
       "      <td>1</td>\n",
       "      <td>1</td>\n",
       "      <td>0</td>\n",
       "      <td>0</td>\n",
       "      <td>0</td>\n",
       "      <td>0</td>\n",
       "    </tr>\n",
       "    <tr>\n",
       "      <th>7145</th>\n",
       "      <td>bmw</td>\n",
       "      <td>4_series</td>\n",
       "      <td>2015</td>\n",
       "      <td>premium_unleaded_(required)</td>\n",
       "      <td>300.0</td>\n",
       "      <td>6.0</td>\n",
       "      <td>automatic</td>\n",
       "      <td>rear_wheel_drive</td>\n",
       "      <td>2.0</td>\n",
       "      <td>luxury,performance</td>\n",
       "      <td>...</td>\n",
       "      <td>0</td>\n",
       "      <td>1</td>\n",
       "      <td>0</td>\n",
       "      <td>1</td>\n",
       "      <td>0</td>\n",
       "      <td>0</td>\n",
       "      <td>0</td>\n",
       "      <td>0</td>\n",
       "      <td>1</td>\n",
       "      <td>0</td>\n",
       "    </tr>\n",
       "    <tr>\n",
       "      <th>7146</th>\n",
       "      <td>volkswagen</td>\n",
       "      <td>beetle</td>\n",
       "      <td>2015</td>\n",
       "      <td>premium_unleaded_(recommended)</td>\n",
       "      <td>210.0</td>\n",
       "      <td>4.0</td>\n",
       "      <td>automated_manual</td>\n",
       "      <td>front_wheel_drive</td>\n",
       "      <td>2.0</td>\n",
       "      <td>hatchback,performance</td>\n",
       "      <td>...</td>\n",
       "      <td>0</td>\n",
       "      <td>0</td>\n",
       "      <td>1</td>\n",
       "      <td>0</td>\n",
       "      <td>0</td>\n",
       "      <td>0</td>\n",
       "      <td>0</td>\n",
       "      <td>0</td>\n",
       "      <td>0</td>\n",
       "      <td>0</td>\n",
       "    </tr>\n",
       "    <tr>\n",
       "      <th>7147</th>\n",
       "      <td>gmc</td>\n",
       "      <td>sierra_1500</td>\n",
       "      <td>2015</td>\n",
       "      <td>flex-fuel_(unleaded/e85)</td>\n",
       "      <td>285.0</td>\n",
       "      <td>6.0</td>\n",
       "      <td>automatic</td>\n",
       "      <td>four_wheel_drive</td>\n",
       "      <td>4.0</td>\n",
       "      <td>flex_fuel</td>\n",
       "      <td>...</td>\n",
       "      <td>0</td>\n",
       "      <td>0</td>\n",
       "      <td>0</td>\n",
       "      <td>0</td>\n",
       "      <td>1</td>\n",
       "      <td>0</td>\n",
       "      <td>0</td>\n",
       "      <td>0</td>\n",
       "      <td>0</td>\n",
       "      <td>0</td>\n",
       "    </tr>\n",
       "  </tbody>\n",
       "</table>\n",
       "<p>7148 rows × 52 columns</p>\n",
       "</div>"
      ],
      "text/plain": [
       "            make        model  year                engine_fuel_type  \\\n",
       "0      chevrolet       cobalt  2008                regular_unleaded   \n",
       "1         toyota       matrix  2012                regular_unleaded   \n",
       "2         subaru      impreza  2016                regular_unleaded   \n",
       "3     volkswagen      vanagon  1991                regular_unleaded   \n",
       "4           ford        f-150  2017        flex-fuel_(unleaded/e85)   \n",
       "...          ...          ...   ...                             ...   \n",
       "7143     lincoln       zephyr  2006                regular_unleaded   \n",
       "7144    cadillac          dts  2010  premium_unleaded_(recommended)   \n",
       "7145         bmw     4_series  2015     premium_unleaded_(required)   \n",
       "7146  volkswagen       beetle  2015  premium_unleaded_(recommended)   \n",
       "7147         gmc  sierra_1500  2015        flex-fuel_(unleaded/e85)   \n",
       "\n",
       "      engine_hp  engine_cylinders transmission_type      driven_wheels  \\\n",
       "0         148.0               4.0            manual  front_wheel_drive   \n",
       "1         132.0               4.0         automatic  front_wheel_drive   \n",
       "2         148.0               4.0         automatic    all_wheel_drive   \n",
       "3          90.0               4.0            manual   rear_wheel_drive   \n",
       "4         385.0               8.0         automatic   four_wheel_drive   \n",
       "...         ...               ...               ...                ...   \n",
       "7143      221.0               6.0         automatic  front_wheel_drive   \n",
       "7144      275.0               8.0         automatic  front_wheel_drive   \n",
       "7145      300.0               6.0         automatic   rear_wheel_drive   \n",
       "7146      210.0               4.0  automated_manual  front_wheel_drive   \n",
       "7147      285.0               6.0         automatic   four_wheel_drive   \n",
       "\n",
       "      number_of_doors        market_category  ... market_category_hatchback  \\\n",
       "0                 2.0                    NaN  ...                         0   \n",
       "1                 4.0              hatchback  ...                         1   \n",
       "2                 4.0              hatchback  ...                         1   \n",
       "3                 3.0                    NaN  ...                         0   \n",
       "4                 4.0              flex_fuel  ...                         0   \n",
       "...               ...                    ...  ...                       ...   \n",
       "7143              4.0                 luxury  ...                         0   \n",
       "7144              4.0                 luxury  ...                         0   \n",
       "7145              2.0     luxury,performance  ...                         0   \n",
       "7146              2.0  hatchback,performance  ...                         0   \n",
       "7147              4.0              flex_fuel  ...                         0   \n",
       "\n",
       "     market_category_luxury,performance  vehicle_size_compact  \\\n",
       "0                                     0                     1   \n",
       "1                                     0                     1   \n",
       "2                                     0                     1   \n",
       "3                                     0                     0   \n",
       "4                                     0                     0   \n",
       "...                                 ...                   ...   \n",
       "7143                                  0                     0   \n",
       "7144                                  0                     0   \n",
       "7145                                  1                     0   \n",
       "7146                                  0                     1   \n",
       "7147                                  0                     0   \n",
       "\n",
       "      vehicle_size_midsize  vehicle_size_large  vehicle_style_sedan  \\\n",
       "0                        0                   0                    0   \n",
       "1                        0                   0                    0   \n",
       "2                        0                   0                    0   \n",
       "3                        0                   1                    0   \n",
       "4                        0                   1                    0   \n",
       "...                    ...                 ...                  ...   \n",
       "7143                     1                   0                    1   \n",
       "7144                     0                   1                    1   \n",
       "7145                     1                   0                    0   \n",
       "7146                     0                   0                    0   \n",
       "7147                     0                   1                    0   \n",
       "\n",
       "      vehicle_style_4dr_suv  vehicle_style_coupe  vehicle_style_convertible  \\\n",
       "0                         0                    1                          0   \n",
       "1                         0                    0                          0   \n",
       "2                         0                    0                          0   \n",
       "3                         0                    0                          0   \n",
       "4                         0                    0                          0   \n",
       "...                     ...                  ...                        ...   \n",
       "7143                      0                    0                          0   \n",
       "7144                      0                    0                          0   \n",
       "7145                      0                    0                          1   \n",
       "7146                      0                    0                          0   \n",
       "7147                      0                    0                          0   \n",
       "\n",
       "      vehicle_style_4dr_hatchback  \n",
       "0                               0  \n",
       "1                               1  \n",
       "2                               1  \n",
       "3                               0  \n",
       "4                               0  \n",
       "...                           ...  \n",
       "7143                            0  \n",
       "7144                            0  \n",
       "7145                            0  \n",
       "7146                            0  \n",
       "7147                            0  \n",
       "\n",
       "[7148 rows x 52 columns]"
      ]
     },
     "execution_count": 73,
     "metadata": {},
     "output_type": "execute_result"
    }
   ],
   "source": [
    "X"
   ]
  },
  {
   "cell_type": "code",
   "execution_count": 74,
   "id": "ba299c45",
   "metadata": {
    "execution": {
     "iopub.execute_input": "2025-10-08T00:21:08.855629Z",
     "iopub.status.busy": "2025-10-08T00:21:08.855227Z",
     "iopub.status.idle": "2025-10-08T00:21:08.863572Z",
     "shell.execute_reply": "2025-10-08T00:21:08.862565Z"
    },
    "papermill": {
     "duration": 0.044272,
     "end_time": "2025-10-08T00:21:08.865061",
     "exception": false,
     "start_time": "2025-10-08T00:21:08.820789",
     "status": "completed"
    },
    "tags": []
   },
   "outputs": [],
   "source": [
    "def prepare_data(X):\n",
    "    X = X.copy()\n",
    "    # makes categorical encoding with\n",
    "    makes = list(X[\"make\"].value_counts().head().index)\n",
    "    for v in makes:\n",
    "        X[\"makes_%s\" % v] = (X[\"make\"]== v).astype(\"int\")\n",
    "    # some other categorical vars\n",
    "    object_col = list(X.dtypes[X.dtypes == object].index)\n",
    "    object_col = [col for col in object_col if col != 'make']\n",
    "    categories = {}\n",
    "    for c in object_col:\n",
    "        categories[c] = list(X[c].value_counts().head().index)\n",
    "    for col,categ in categories.items():\n",
    "        for c in categ:\n",
    "            X[\"%s_%s\" % (col,c)] = (X[col] == c).astype(\"int\")\n",
    "    \n",
    "    X = X[X.dtypes[X.dtypes != object].index].fillna(0)\n",
    "    # Year feature engineering\n",
    "    X[\"age\"] = 2017 - X.year\n",
    "    # number of doors categorical encoding\n",
    "    for v in [2,3,4]:\n",
    "        X[\"num_doors_%s\" % v] = (X[\"number_of_doors\"]==v).astype(\"int\")\n",
    "        \n",
    "    del X[\"number_of_doors\"]\n",
    "    del X[\"year\"]\n",
    "\n",
    "    X = X.values\n",
    "    return X"
   ]
  },
  {
   "cell_type": "code",
   "execution_count": 75,
   "id": "d14ae37f",
   "metadata": {
    "execution": {
     "iopub.execute_input": "2025-10-08T00:21:08.912464Z",
     "iopub.status.busy": "2025-10-08T00:21:08.912181Z",
     "iopub.status.idle": "2025-10-08T00:21:09.049910Z",
     "shell.execute_reply": "2025-10-08T00:21:09.049040Z"
    },
    "papermill": {
     "duration": 0.162996,
     "end_time": "2025-10-08T00:21:09.051464",
     "exception": false,
     "start_time": "2025-10-08T00:21:08.888468",
     "status": "completed"
    },
    "tags": []
   },
   "outputs": [
    {
     "data": {
      "text/plain": [
       "1773.468264702817"
      ]
     },
     "execution_count": 75,
     "metadata": {},
     "output_type": "execute_result"
    }
   ],
   "source": [
    "X_train = prepare_data(x_train)\n",
    "w0,w = train_linear_regression(X_train,y_train)\n",
    "X_val = prepare_data(x_val)\n",
    "y_pred = w0 + X_val.dot(w)\n",
    "rmse(y_val,y_pred)"
   ]
  },
  {
   "cell_type": "markdown",
   "id": "55e4baf9",
   "metadata": {
    "papermill": {
     "duration": 0.022042,
     "end_time": "2025-10-08T00:21:09.099409",
     "exception": false,
     "start_time": "2025-10-08T00:21:09.077367",
     "status": "completed"
    },
    "tags": []
   },
   "source": [
    "#### Regularization"
   ]
  },
  {
   "cell_type": "code",
   "execution_count": 76,
   "id": "0b87ac55",
   "metadata": {
    "execution": {
     "iopub.execute_input": "2025-10-08T00:21:09.145058Z",
     "iopub.status.busy": "2025-10-08T00:21:09.144696Z",
     "iopub.status.idle": "2025-10-08T00:21:09.149778Z",
     "shell.execute_reply": "2025-10-08T00:21:09.149023Z"
    },
    "papermill": {
     "duration": 0.029874,
     "end_time": "2025-10-08T00:21:09.151183",
     "exception": false,
     "start_time": "2025-10-08T00:21:09.121309",
     "status": "completed"
    },
    "tags": []
   },
   "outputs": [],
   "source": [
    "def train_linear_regression_regularized(X,y,r= 0.001):\n",
    "    X = np.column_stack((np.ones(X.shape[0], dtype=int), X))\n",
    "    XTX = X.T.dot(X)\n",
    "    XTX = XTX + r * np.eye(XTX.shape[0])\n",
    "    XTX_inv = np.linalg.inv(XTX)\n",
    "    w_full = XTX_inv.dot(X.T).dot(y)\n",
    "    return w_full[0],w_full[1:]"
   ]
  },
  {
   "cell_type": "code",
   "execution_count": 77,
   "id": "5d1defdf",
   "metadata": {
    "execution": {
     "iopub.execute_input": "2025-10-08T00:21:09.197013Z",
     "iopub.status.busy": "2025-10-08T00:21:09.196644Z",
     "iopub.status.idle": "2025-10-08T00:21:09.319607Z",
     "shell.execute_reply": "2025-10-08T00:21:09.318813Z"
    },
    "papermill": {
     "duration": 0.147483,
     "end_time": "2025-10-08T00:21:09.321136",
     "exception": false,
     "start_time": "2025-10-08T00:21:09.173653",
     "status": "completed"
    },
    "tags": []
   },
   "outputs": [
    {
     "data": {
      "text/plain": [
       "0.482282515750712"
      ]
     },
     "execution_count": 77,
     "metadata": {},
     "output_type": "execute_result"
    }
   ],
   "source": [
    "X_train = prepare_data(x_train)\n",
    "w0,w = train_linear_regression_regularized(X_train,y_train,0.0001)\n",
    "X_val = prepare_data(x_val)\n",
    "y_pred = w0 + X_val.dot(w)\n",
    "rmse(y_val,y_pred)"
   ]
  },
  {
   "cell_type": "markdown",
   "id": "b536e869",
   "metadata": {
    "papermill": {
     "duration": 0.022205,
     "end_time": "2025-10-08T00:21:09.367929",
     "exception": false,
     "start_time": "2025-10-08T00:21:09.345724",
     "status": "completed"
    },
    "tags": []
   },
   "source": [
    "#### FIne-tune the model with regularization"
   ]
  },
  {
   "cell_type": "code",
   "execution_count": 78,
   "id": "c3f3a957",
   "metadata": {
    "execution": {
     "iopub.execute_input": "2025-10-08T00:21:09.413291Z",
     "iopub.status.busy": "2025-10-08T00:21:09.413008Z",
     "iopub.status.idle": "2025-10-08T00:21:10.157702Z",
     "shell.execute_reply": "2025-10-08T00:21:10.156842Z"
    },
    "papermill": {
     "duration": 0.768969,
     "end_time": "2025-10-08T00:21:10.159052",
     "exception": false,
     "start_time": "2025-10-08T00:21:09.390083",
     "status": "completed"
    },
    "tags": []
   },
   "outputs": [
    {
     "name": "stdout",
     "output_type": "stream",
     "text": [
      "1e-05 -8.455753381709423 0.48228243024351\n",
      "0.0001 6.005747661419315 0.482282515750712\n",
      "0.001 6.318599769335066 0.48228347076578065\n",
      "0.01 6.307709701804973 0.48229307318260434\n",
      "0.1 6.221678352192999 0.48238899705662447\n",
      "1 5.6606642778125655 0.483379860733552\n",
      "10 4.294881011537192 0.49747137464261737\n"
     ]
    }
   ],
   "source": [
    "for r in [0.00001,0.0001,0.001,0.01,0.1,1,10]:\n",
    "    X_train = prepare_data(x_train)\n",
    "    w0,w = train_linear_regression_regularized(X_train,y_train,r)\n",
    "    X_val = prepare_data(x_val)\n",
    "    y_pred = w0 + X_val.dot(w)\n",
    "    print(r,w0,rmse(y_val,y_pred))"
   ]
  },
  {
   "cell_type": "markdown",
   "id": "a935c8ff",
   "metadata": {
    "papermill": {
     "duration": 0.0223,
     "end_time": "2025-10-08T00:21:10.204543",
     "exception": false,
     "start_time": "2025-10-08T00:21:10.182243",
     "status": "completed"
    },
    "tags": []
   },
   "source": [
    "#### Using the model"
   ]
  },
  {
   "cell_type": "code",
   "execution_count": 79,
   "id": "5a0127cb",
   "metadata": {
    "execution": {
     "iopub.execute_input": "2025-10-08T00:21:10.251322Z",
     "iopub.status.busy": "2025-10-08T00:21:10.251015Z",
     "iopub.status.idle": "2025-10-08T00:21:10.272091Z",
     "shell.execute_reply": "2025-10-08T00:21:10.271218Z"
    },
    "papermill": {
     "duration": 0.046553,
     "end_time": "2025-10-08T00:21:10.273487",
     "exception": false,
     "start_time": "2025-10-08T00:21:10.226934",
     "status": "completed"
    },
    "tags": []
   },
   "outputs": [
    {
     "data": {
      "text/html": [
       "<div>\n",
       "<style scoped>\n",
       "    .dataframe tbody tr th:only-of-type {\n",
       "        vertical-align: middle;\n",
       "    }\n",
       "\n",
       "    .dataframe tbody tr th {\n",
       "        vertical-align: top;\n",
       "    }\n",
       "\n",
       "    .dataframe thead th {\n",
       "        text-align: right;\n",
       "    }\n",
       "</style>\n",
       "<table border=\"1\" class=\"dataframe\">\n",
       "  <thead>\n",
       "    <tr style=\"text-align: right;\">\n",
       "      <th></th>\n",
       "      <th>make</th>\n",
       "      <th>model</th>\n",
       "      <th>year</th>\n",
       "      <th>engine_fuel_type</th>\n",
       "      <th>engine_hp</th>\n",
       "      <th>engine_cylinders</th>\n",
       "      <th>transmission_type</th>\n",
       "      <th>driven_wheels</th>\n",
       "      <th>number_of_doors</th>\n",
       "      <th>market_category</th>\n",
       "      <th>vehicle_size</th>\n",
       "      <th>vehicle_style</th>\n",
       "      <th>highway_mpg</th>\n",
       "      <th>city_mpg</th>\n",
       "      <th>popularity</th>\n",
       "    </tr>\n",
       "  </thead>\n",
       "  <tbody>\n",
       "    <tr>\n",
       "      <th>0</th>\n",
       "      <td>chevrolet</td>\n",
       "      <td>cobalt</td>\n",
       "      <td>2008</td>\n",
       "      <td>regular_unleaded</td>\n",
       "      <td>148.0</td>\n",
       "      <td>4.0</td>\n",
       "      <td>manual</td>\n",
       "      <td>front_wheel_drive</td>\n",
       "      <td>2.0</td>\n",
       "      <td>NaN</td>\n",
       "      <td>compact</td>\n",
       "      <td>coupe</td>\n",
       "      <td>33</td>\n",
       "      <td>24</td>\n",
       "      <td>1385</td>\n",
       "    </tr>\n",
       "    <tr>\n",
       "      <th>1</th>\n",
       "      <td>toyota</td>\n",
       "      <td>matrix</td>\n",
       "      <td>2012</td>\n",
       "      <td>regular_unleaded</td>\n",
       "      <td>132.0</td>\n",
       "      <td>4.0</td>\n",
       "      <td>automatic</td>\n",
       "      <td>front_wheel_drive</td>\n",
       "      <td>4.0</td>\n",
       "      <td>hatchback</td>\n",
       "      <td>compact</td>\n",
       "      <td>4dr_hatchback</td>\n",
       "      <td>32</td>\n",
       "      <td>25</td>\n",
       "      <td>2031</td>\n",
       "    </tr>\n",
       "    <tr>\n",
       "      <th>2</th>\n",
       "      <td>subaru</td>\n",
       "      <td>impreza</td>\n",
       "      <td>2016</td>\n",
       "      <td>regular_unleaded</td>\n",
       "      <td>148.0</td>\n",
       "      <td>4.0</td>\n",
       "      <td>automatic</td>\n",
       "      <td>all_wheel_drive</td>\n",
       "      <td>4.0</td>\n",
       "      <td>hatchback</td>\n",
       "      <td>compact</td>\n",
       "      <td>4dr_hatchback</td>\n",
       "      <td>37</td>\n",
       "      <td>28</td>\n",
       "      <td>640</td>\n",
       "    </tr>\n",
       "    <tr>\n",
       "      <th>3</th>\n",
       "      <td>volkswagen</td>\n",
       "      <td>vanagon</td>\n",
       "      <td>1991</td>\n",
       "      <td>regular_unleaded</td>\n",
       "      <td>90.0</td>\n",
       "      <td>4.0</td>\n",
       "      <td>manual</td>\n",
       "      <td>rear_wheel_drive</td>\n",
       "      <td>3.0</td>\n",
       "      <td>NaN</td>\n",
       "      <td>large</td>\n",
       "      <td>passenger_minivan</td>\n",
       "      <td>18</td>\n",
       "      <td>16</td>\n",
       "      <td>873</td>\n",
       "    </tr>\n",
       "    <tr>\n",
       "      <th>4</th>\n",
       "      <td>ford</td>\n",
       "      <td>f-150</td>\n",
       "      <td>2017</td>\n",
       "      <td>flex-fuel_(unleaded/e85)</td>\n",
       "      <td>385.0</td>\n",
       "      <td>8.0</td>\n",
       "      <td>automatic</td>\n",
       "      <td>four_wheel_drive</td>\n",
       "      <td>4.0</td>\n",
       "      <td>flex_fuel</td>\n",
       "      <td>large</td>\n",
       "      <td>crew_cab_pickup</td>\n",
       "      <td>21</td>\n",
       "      <td>15</td>\n",
       "      <td>5657</td>\n",
       "    </tr>\n",
       "    <tr>\n",
       "      <th>...</th>\n",
       "      <td>...</td>\n",
       "      <td>...</td>\n",
       "      <td>...</td>\n",
       "      <td>...</td>\n",
       "      <td>...</td>\n",
       "      <td>...</td>\n",
       "      <td>...</td>\n",
       "      <td>...</td>\n",
       "      <td>...</td>\n",
       "      <td>...</td>\n",
       "      <td>...</td>\n",
       "      <td>...</td>\n",
       "      <td>...</td>\n",
       "      <td>...</td>\n",
       "      <td>...</td>\n",
       "    </tr>\n",
       "    <tr>\n",
       "      <th>9525</th>\n",
       "      <td>bmw</td>\n",
       "      <td>7_series</td>\n",
       "      <td>2015</td>\n",
       "      <td>premium_unleaded_(required)</td>\n",
       "      <td>445.0</td>\n",
       "      <td>8.0</td>\n",
       "      <td>automatic</td>\n",
       "      <td>rear_wheel_drive</td>\n",
       "      <td>4.0</td>\n",
       "      <td>luxury,high-performance</td>\n",
       "      <td>large</td>\n",
       "      <td>sedan</td>\n",
       "      <td>25</td>\n",
       "      <td>17</td>\n",
       "      <td>3916</td>\n",
       "    </tr>\n",
       "    <tr>\n",
       "      <th>9526</th>\n",
       "      <td>volvo</td>\n",
       "      <td>xc90</td>\n",
       "      <td>2017</td>\n",
       "      <td>premium_unleaded_(recommended)</td>\n",
       "      <td>316.0</td>\n",
       "      <td>4.0</td>\n",
       "      <td>automatic</td>\n",
       "      <td>all_wheel_drive</td>\n",
       "      <td>4.0</td>\n",
       "      <td>crossover,luxury,performance</td>\n",
       "      <td>large</td>\n",
       "      <td>4dr_suv</td>\n",
       "      <td>25</td>\n",
       "      <td>20</td>\n",
       "      <td>870</td>\n",
       "    </tr>\n",
       "    <tr>\n",
       "      <th>9527</th>\n",
       "      <td>volvo</td>\n",
       "      <td>v60</td>\n",
       "      <td>2015</td>\n",
       "      <td>regular_unleaded</td>\n",
       "      <td>240.0</td>\n",
       "      <td>4.0</td>\n",
       "      <td>automatic</td>\n",
       "      <td>front_wheel_drive</td>\n",
       "      <td>4.0</td>\n",
       "      <td>luxury</td>\n",
       "      <td>midsize</td>\n",
       "      <td>wagon</td>\n",
       "      <td>37</td>\n",
       "      <td>25</td>\n",
       "      <td>870</td>\n",
       "    </tr>\n",
       "    <tr>\n",
       "      <th>9528</th>\n",
       "      <td>maserati</td>\n",
       "      <td>granturismo_convertible</td>\n",
       "      <td>2015</td>\n",
       "      <td>premium_unleaded_(required)</td>\n",
       "      <td>444.0</td>\n",
       "      <td>8.0</td>\n",
       "      <td>automatic</td>\n",
       "      <td>rear_wheel_drive</td>\n",
       "      <td>2.0</td>\n",
       "      <td>exotic,luxury,high-performance</td>\n",
       "      <td>midsize</td>\n",
       "      <td>convertible</td>\n",
       "      <td>20</td>\n",
       "      <td>13</td>\n",
       "      <td>238</td>\n",
       "    </tr>\n",
       "    <tr>\n",
       "      <th>9529</th>\n",
       "      <td>cadillac</td>\n",
       "      <td>escalade_hybrid</td>\n",
       "      <td>2013</td>\n",
       "      <td>regular_unleaded</td>\n",
       "      <td>332.0</td>\n",
       "      <td>8.0</td>\n",
       "      <td>automatic</td>\n",
       "      <td>rear_wheel_drive</td>\n",
       "      <td>4.0</td>\n",
       "      <td>luxury,hybrid</td>\n",
       "      <td>large</td>\n",
       "      <td>4dr_suv</td>\n",
       "      <td>23</td>\n",
       "      <td>20</td>\n",
       "      <td>1624</td>\n",
       "    </tr>\n",
       "  </tbody>\n",
       "</table>\n",
       "<p>9530 rows × 15 columns</p>\n",
       "</div>"
      ],
      "text/plain": [
       "            make                    model  year  \\\n",
       "0      chevrolet                   cobalt  2008   \n",
       "1         toyota                   matrix  2012   \n",
       "2         subaru                  impreza  2016   \n",
       "3     volkswagen                  vanagon  1991   \n",
       "4           ford                    f-150  2017   \n",
       "...          ...                      ...   ...   \n",
       "9525         bmw                 7_series  2015   \n",
       "9526       volvo                     xc90  2017   \n",
       "9527       volvo                      v60  2015   \n",
       "9528    maserati  granturismo_convertible  2015   \n",
       "9529    cadillac          escalade_hybrid  2013   \n",
       "\n",
       "                    engine_fuel_type  engine_hp  engine_cylinders  \\\n",
       "0                   regular_unleaded      148.0               4.0   \n",
       "1                   regular_unleaded      132.0               4.0   \n",
       "2                   regular_unleaded      148.0               4.0   \n",
       "3                   regular_unleaded       90.0               4.0   \n",
       "4           flex-fuel_(unleaded/e85)      385.0               8.0   \n",
       "...                              ...        ...               ...   \n",
       "9525     premium_unleaded_(required)      445.0               8.0   \n",
       "9526  premium_unleaded_(recommended)      316.0               4.0   \n",
       "9527                regular_unleaded      240.0               4.0   \n",
       "9528     premium_unleaded_(required)      444.0               8.0   \n",
       "9529                regular_unleaded      332.0               8.0   \n",
       "\n",
       "     transmission_type      driven_wheels  number_of_doors  \\\n",
       "0               manual  front_wheel_drive              2.0   \n",
       "1            automatic  front_wheel_drive              4.0   \n",
       "2            automatic    all_wheel_drive              4.0   \n",
       "3               manual   rear_wheel_drive              3.0   \n",
       "4            automatic   four_wheel_drive              4.0   \n",
       "...                ...                ...              ...   \n",
       "9525         automatic   rear_wheel_drive              4.0   \n",
       "9526         automatic    all_wheel_drive              4.0   \n",
       "9527         automatic  front_wheel_drive              4.0   \n",
       "9528         automatic   rear_wheel_drive              2.0   \n",
       "9529         automatic   rear_wheel_drive              4.0   \n",
       "\n",
       "                     market_category vehicle_size      vehicle_style  \\\n",
       "0                                NaN      compact              coupe   \n",
       "1                          hatchback      compact      4dr_hatchback   \n",
       "2                          hatchback      compact      4dr_hatchback   \n",
       "3                                NaN        large  passenger_minivan   \n",
       "4                          flex_fuel        large    crew_cab_pickup   \n",
       "...                              ...          ...                ...   \n",
       "9525         luxury,high-performance        large              sedan   \n",
       "9526    crossover,luxury,performance        large            4dr_suv   \n",
       "9527                          luxury      midsize              wagon   \n",
       "9528  exotic,luxury,high-performance      midsize        convertible   \n",
       "9529                   luxury,hybrid        large            4dr_suv   \n",
       "\n",
       "      highway_mpg  city_mpg  popularity  \n",
       "0              33        24        1385  \n",
       "1              32        25        2031  \n",
       "2              37        28         640  \n",
       "3              18        16         873  \n",
       "4              21        15        5657  \n",
       "...           ...       ...         ...  \n",
       "9525           25        17        3916  \n",
       "9526           25        20         870  \n",
       "9527           37        25         870  \n",
       "9528           20        13         238  \n",
       "9529           23        20        1624  \n",
       "\n",
       "[9530 rows x 15 columns]"
      ]
     },
     "execution_count": 79,
     "metadata": {},
     "output_type": "execute_result"
    }
   ],
   "source": [
    "full_train = pd.concat([x_train, x_val])\n",
    "full_train.reset_index(drop= True,inplace = True)\n",
    "full_train"
   ]
  },
  {
   "cell_type": "code",
   "execution_count": 80,
   "id": "42910605",
   "metadata": {
    "execution": {
     "iopub.execute_input": "2025-10-08T00:21:10.324196Z",
     "iopub.status.busy": "2025-10-08T00:21:10.323374Z",
     "iopub.status.idle": "2025-10-08T00:21:10.410238Z",
     "shell.execute_reply": "2025-10-08T00:21:10.409435Z"
    },
    "papermill": {
     "duration": 0.112735,
     "end_time": "2025-10-08T00:21:10.411571",
     "exception": false,
     "start_time": "2025-10-08T00:21:10.298836",
     "status": "completed"
    },
    "tags": []
   },
   "outputs": [
    {
     "data": {
      "text/plain": [
       "array([[148.,   4.,  33., ...,   1.,   0.,   0.],\n",
       "       [132.,   4.,  32., ...,   0.,   0.,   1.],\n",
       "       [148.,   4.,  37., ...,   0.,   0.,   1.],\n",
       "       ...,\n",
       "       [240.,   4.,  37., ...,   0.,   0.,   1.],\n",
       "       [444.,   8.,  20., ...,   1.,   0.,   0.],\n",
       "       [332.,   8.,  23., ...,   0.,   0.,   1.]])"
      ]
     },
     "execution_count": 80,
     "metadata": {},
     "output_type": "execute_result"
    }
   ],
   "source": [
    "X_full_train = prepare_data(full_train)\n",
    "X_full_train"
   ]
  },
  {
   "cell_type": "code",
   "execution_count": 81,
   "id": "226e68ed",
   "metadata": {
    "execution": {
     "iopub.execute_input": "2025-10-08T00:21:10.459758Z",
     "iopub.status.busy": "2025-10-08T00:21:10.459441Z",
     "iopub.status.idle": "2025-10-08T00:21:10.463678Z",
     "shell.execute_reply": "2025-10-08T00:21:10.462928Z"
    },
    "papermill": {
     "duration": 0.029851,
     "end_time": "2025-10-08T00:21:10.465078",
     "exception": false,
     "start_time": "2025-10-08T00:21:10.435227",
     "status": "completed"
    },
    "tags": []
   },
   "outputs": [],
   "source": [
    "y_full_train = np.concatenate([y_train,y_val])\n"
   ]
  },
  {
   "cell_type": "code",
   "execution_count": 82,
   "id": "1a48678b",
   "metadata": {
    "execution": {
     "iopub.execute_input": "2025-10-08T00:21:10.512686Z",
     "iopub.status.busy": "2025-10-08T00:21:10.512391Z",
     "iopub.status.idle": "2025-10-08T00:21:10.523309Z",
     "shell.execute_reply": "2025-10-08T00:21:10.522520Z"
    },
    "papermill": {
     "duration": 0.036292,
     "end_time": "2025-10-08T00:21:10.524727",
     "exception": false,
     "start_time": "2025-10-08T00:21:10.488435",
     "status": "completed"
    },
    "tags": []
   },
   "outputs": [
    {
     "data": {
      "text/plain": [
       "array([ 1.84600767e-03,  1.05193976e-01, -5.16327773e-03, -6.97944687e-03,\n",
       "       -5.22824197e-05, -4.63780206e-02,  1.83669731e-01,  2.12407254e-02,\n",
       "        4.81169661e-02, -1.41955353e-01, -2.80813070e-01, -6.95936116e-01,\n",
       "       -3.05700616e-01, -3.51865278e-01, -4.29949288e-01, -4.25860108e-01,\n",
       "        8.69184419e-02, -3.01447417e-01, -4.85324788e-01, -5.68300289e-02,\n",
       "        1.39067627e+01,  1.37360913e+01,  1.39695939e+01,  1.55466218e+01,\n",
       "        1.33091088e+01,  3.53970960e+00,  3.49139013e+00,  3.53919115e+00,\n",
       "        3.52140845e+00, -7.49034079e-02,  1.10675708e-01, -4.77893625e-02,\n",
       "        2.25359091e-02, -4.35764029e-02,  2.18005377e+00,  2.06680429e+00,\n",
       "        2.07094395e+00, -9.66110682e-02, -1.64917325e-02,  1.65653844e-01,\n",
       "        3.31412926e-01, -2.13417054e-01, -9.75872935e-02, -7.90386631e-01,\n",
       "       -9.44800318e-01, -5.87847565e-01])"
      ]
     },
     "execution_count": 82,
     "metadata": {},
     "output_type": "execute_result"
    }
   ],
   "source": [
    "w0,w = train_linear_regression_regularized(X_train,y_train,0.00001)\n",
    "w"
   ]
  },
  {
   "cell_type": "code",
   "execution_count": 83,
   "id": "86d7f584",
   "metadata": {
    "execution": {
     "iopub.execute_input": "2025-10-08T00:21:10.573883Z",
     "iopub.status.busy": "2025-10-08T00:21:10.573583Z",
     "iopub.status.idle": "2025-10-08T00:21:10.619480Z",
     "shell.execute_reply": "2025-10-08T00:21:10.618704Z"
    },
    "papermill": {
     "duration": 0.072037,
     "end_time": "2025-10-08T00:21:10.620866",
     "exception": false,
     "start_time": "2025-10-08T00:21:10.548829",
     "status": "completed"
    },
    "tags": []
   },
   "outputs": [
    {
     "name": "stdout",
     "output_type": "stream",
     "text": [
      "0.45744765214748656 (2384, 46)\n"
     ]
    }
   ],
   "source": [
    "X_test = prepare_data(x_test)\n",
    "y_pred = w0 + X_test.dot(w)\n",
    "print(rmse(y_test,y_pred),X_test.shape)\n"
   ]
  },
  {
   "cell_type": "markdown",
   "id": "f6380df9",
   "metadata": {
    "papermill": {
     "duration": 0.022774,
     "end_time": "2025-10-08T00:21:10.667124",
     "exception": false,
     "start_time": "2025-10-08T00:21:10.644350",
     "status": "completed"
    },
    "tags": []
   },
   "source": [
    "#### How your model is used in RW"
   ]
  },
  {
   "cell_type": "code",
   "execution_count": 84,
   "id": "82ab0cf0",
   "metadata": {
    "execution": {
     "iopub.execute_input": "2025-10-08T00:21:10.714436Z",
     "iopub.status.busy": "2025-10-08T00:21:10.713885Z",
     "iopub.status.idle": "2025-10-08T00:21:10.721627Z",
     "shell.execute_reply": "2025-10-08T00:21:10.720713Z"
    },
    "papermill": {
     "duration": 0.033254,
     "end_time": "2025-10-08T00:21:10.723345",
     "exception": false,
     "start_time": "2025-10-08T00:21:10.690091",
     "status": "completed"
    },
    "tags": []
   },
   "outputs": [],
   "source": [
    "def fit_prepare_data(X):\n",
    "    X = X.copy()\n",
    "    makes = list(X[\"make\"].value_counts().head().index)\n",
    "    object_col = [col for col in X.select_dtypes('object').columns if col != 'make']\n",
    "    categories = {c: list(X[c].value_counts().head().index) for c in object_col}\n",
    "    return {\"makes\": makes, \"categories\": categories}\n",
    "\n",
    "def transform_prepare_data(X, info):\n",
    "    X = X.copy()\n",
    "    # encode make\n",
    "    for v in info[\"makes\"]:\n",
    "        X[f\"makes_{v}\"] = (X[\"make\"] == v).astype(int)\n",
    "    # encode other categorical vars\n",
    "    for col, categs in info[\"categories\"].items():\n",
    "        for c in categs:\n",
    "            X[f\"{col}_{c}\"] = (X[col] == c).astype(int)\n",
    "    # year / doors\n",
    "    X[\"age\"] = 2017 - X[\"year\"]\n",
    "    for v in [2, 3, 4]:\n",
    "        X[f\"num_doors_{v}\"] = (X[\"number_of_doors\"] == v).astype(int)\n",
    "    # nettoyer\n",
    "    for col in [\"number_of_doors\", \"year\"]:\n",
    "        if col in X.columns:\n",
    "            del X[col]\n",
    "    # numerique uniquement\n",
    "    X = X.select_dtypes(exclude=\"object\").fillna(0)\n",
    "    return X"
   ]
  },
  {
   "cell_type": "code",
   "execution_count": 85,
   "id": "6ae0c5cc",
   "metadata": {
    "execution": {
     "iopub.execute_input": "2025-10-08T00:21:10.771708Z",
     "iopub.status.busy": "2025-10-08T00:21:10.771356Z",
     "iopub.status.idle": "2025-10-08T00:21:10.790430Z",
     "shell.execute_reply": "2025-10-08T00:21:10.789501Z"
    },
    "papermill": {
     "duration": 0.045012,
     "end_time": "2025-10-08T00:21:10.792148",
     "exception": false,
     "start_time": "2025-10-08T00:21:10.747136",
     "status": "completed"
    },
    "tags": []
   },
   "outputs": [],
   "source": [
    "info = fit_prepare_data(x_train)"
   ]
  },
  {
   "cell_type": "code",
   "execution_count": 86,
   "id": "2b2e51da",
   "metadata": {
    "execution": {
     "iopub.execute_input": "2025-10-08T00:21:10.839927Z",
     "iopub.status.busy": "2025-10-08T00:21:10.839628Z",
     "iopub.status.idle": "2025-10-08T00:21:10.844225Z",
     "shell.execute_reply": "2025-10-08T00:21:10.843246Z"
    },
    "papermill": {
     "duration": 0.030266,
     "end_time": "2025-10-08T00:21:10.845637",
     "exception": false,
     "start_time": "2025-10-08T00:21:10.815371",
     "status": "completed"
    },
    "tags": []
   },
   "outputs": [],
   "source": [
    "car = x_test.iloc[10].to_dict()"
   ]
  },
  {
   "cell_type": "code",
   "execution_count": 87,
   "id": "7d13d9e7",
   "metadata": {
    "execution": {
     "iopub.execute_input": "2025-10-08T00:21:10.894478Z",
     "iopub.status.busy": "2025-10-08T00:21:10.894183Z",
     "iopub.status.idle": "2025-10-08T00:21:10.909253Z",
     "shell.execute_reply": "2025-10-08T00:21:10.908385Z"
    },
    "papermill": {
     "duration": 0.04134,
     "end_time": "2025-10-08T00:21:10.910746",
     "exception": false,
     "start_time": "2025-10-08T00:21:10.869406",
     "status": "completed"
    },
    "tags": []
   },
   "outputs": [
    {
     "data": {
      "text/html": [
       "<div>\n",
       "<style scoped>\n",
       "    .dataframe tbody tr th:only-of-type {\n",
       "        vertical-align: middle;\n",
       "    }\n",
       "\n",
       "    .dataframe tbody tr th {\n",
       "        vertical-align: top;\n",
       "    }\n",
       "\n",
       "    .dataframe thead th {\n",
       "        text-align: right;\n",
       "    }\n",
       "</style>\n",
       "<table border=\"1\" class=\"dataframe\">\n",
       "  <thead>\n",
       "    <tr style=\"text-align: right;\">\n",
       "      <th></th>\n",
       "      <th>make</th>\n",
       "      <th>model</th>\n",
       "      <th>year</th>\n",
       "      <th>engine_fuel_type</th>\n",
       "      <th>engine_hp</th>\n",
       "      <th>engine_cylinders</th>\n",
       "      <th>transmission_type</th>\n",
       "      <th>driven_wheels</th>\n",
       "      <th>number_of_doors</th>\n",
       "      <th>market_category</th>\n",
       "      <th>vehicle_size</th>\n",
       "      <th>vehicle_style</th>\n",
       "      <th>highway_mpg</th>\n",
       "      <th>city_mpg</th>\n",
       "      <th>popularity</th>\n",
       "    </tr>\n",
       "  </thead>\n",
       "  <tbody>\n",
       "    <tr>\n",
       "      <th>0</th>\n",
       "      <td>chevrolet</td>\n",
       "      <td>corvette</td>\n",
       "      <td>2017</td>\n",
       "      <td>premium_unleaded_(recommended)</td>\n",
       "      <td>460.0</td>\n",
       "      <td>8.0</td>\n",
       "      <td>manual</td>\n",
       "      <td>rear_wheel_drive</td>\n",
       "      <td>2.0</td>\n",
       "      <td>high-performance</td>\n",
       "      <td>compact</td>\n",
       "      <td>convertible</td>\n",
       "      <td>25</td>\n",
       "      <td>16</td>\n",
       "      <td>1385</td>\n",
       "    </tr>\n",
       "  </tbody>\n",
       "</table>\n",
       "</div>"
      ],
      "text/plain": [
       "        make     model  year                engine_fuel_type  engine_hp  \\\n",
       "0  chevrolet  corvette  2017  premium_unleaded_(recommended)      460.0   \n",
       "\n",
       "   engine_cylinders transmission_type     driven_wheels  number_of_doors  \\\n",
       "0               8.0            manual  rear_wheel_drive              2.0   \n",
       "\n",
       "    market_category vehicle_size vehicle_style  highway_mpg  city_mpg  \\\n",
       "0  high-performance      compact   convertible           25        16   \n",
       "\n",
       "   popularity  \n",
       "0        1385  "
      ]
     },
     "execution_count": 87,
     "metadata": {},
     "output_type": "execute_result"
    }
   ],
   "source": [
    "df_car = pd.DataFrame([car])\n",
    "df_car"
   ]
  },
  {
   "cell_type": "code",
   "execution_count": 88,
   "id": "edd1cc54",
   "metadata": {
    "execution": {
     "iopub.execute_input": "2025-10-08T00:21:10.959082Z",
     "iopub.status.busy": "2025-10-08T00:21:10.958734Z",
     "iopub.status.idle": "2025-10-08T00:21:10.993592Z",
     "shell.execute_reply": "2025-10-08T00:21:10.992490Z"
    },
    "papermill": {
     "duration": 0.060646,
     "end_time": "2025-10-08T00:21:10.995174",
     "exception": false,
     "start_time": "2025-10-08T00:21:10.934528",
     "status": "completed"
    },
    "tags": []
   },
   "outputs": [
    {
     "data": {
      "text/html": [
       "<div>\n",
       "<style scoped>\n",
       "    .dataframe tbody tr th:only-of-type {\n",
       "        vertical-align: middle;\n",
       "    }\n",
       "\n",
       "    .dataframe tbody tr th {\n",
       "        vertical-align: top;\n",
       "    }\n",
       "\n",
       "    .dataframe thead th {\n",
       "        text-align: right;\n",
       "    }\n",
       "</style>\n",
       "<table border=\"1\" class=\"dataframe\">\n",
       "  <thead>\n",
       "    <tr style=\"text-align: right;\">\n",
       "      <th></th>\n",
       "      <th>engine_hp</th>\n",
       "      <th>engine_cylinders</th>\n",
       "      <th>highway_mpg</th>\n",
       "      <th>city_mpg</th>\n",
       "      <th>popularity</th>\n",
       "      <th>makes_chevrolet</th>\n",
       "      <th>makes_ford</th>\n",
       "      <th>makes_volkswagen</th>\n",
       "      <th>makes_toyota</th>\n",
       "      <th>makes_dodge</th>\n",
       "      <th>...</th>\n",
       "      <th>vehicle_size_large</th>\n",
       "      <th>vehicle_style_sedan</th>\n",
       "      <th>vehicle_style_4dr_suv</th>\n",
       "      <th>vehicle_style_coupe</th>\n",
       "      <th>vehicle_style_convertible</th>\n",
       "      <th>vehicle_style_4dr_hatchback</th>\n",
       "      <th>age</th>\n",
       "      <th>num_doors_2</th>\n",
       "      <th>num_doors_3</th>\n",
       "      <th>num_doors_4</th>\n",
       "    </tr>\n",
       "  </thead>\n",
       "  <tbody>\n",
       "    <tr>\n",
       "      <th>0</th>\n",
       "      <td>460.0</td>\n",
       "      <td>8.0</td>\n",
       "      <td>25</td>\n",
       "      <td>16</td>\n",
       "      <td>1385</td>\n",
       "      <td>1</td>\n",
       "      <td>0</td>\n",
       "      <td>0</td>\n",
       "      <td>0</td>\n",
       "      <td>0</td>\n",
       "      <td>...</td>\n",
       "      <td>0</td>\n",
       "      <td>0</td>\n",
       "      <td>0</td>\n",
       "      <td>0</td>\n",
       "      <td>1</td>\n",
       "      <td>0</td>\n",
       "      <td>0</td>\n",
       "      <td>1</td>\n",
       "      <td>0</td>\n",
       "      <td>0</td>\n",
       "    </tr>\n",
       "  </tbody>\n",
       "</table>\n",
       "<p>1 rows × 46 columns</p>\n",
       "</div>"
      ],
      "text/plain": [
       "   engine_hp  engine_cylinders  highway_mpg  city_mpg  popularity  \\\n",
       "0      460.0               8.0           25        16        1385   \n",
       "\n",
       "   makes_chevrolet  makes_ford  makes_volkswagen  makes_toyota  makes_dodge  \\\n",
       "0                1           0                 0             0            0   \n",
       "\n",
       "   ...  vehicle_size_large  vehicle_style_sedan  vehicle_style_4dr_suv  \\\n",
       "0  ...                   0                    0                      0   \n",
       "\n",
       "   vehicle_style_coupe  vehicle_style_convertible  \\\n",
       "0                    0                          1   \n",
       "\n",
       "   vehicle_style_4dr_hatchback  age  num_doors_2  num_doors_3  num_doors_4  \n",
       "0                            0    0            1            0            0  \n",
       "\n",
       "[1 rows x 46 columns]"
      ]
     },
     "execution_count": 88,
     "metadata": {},
     "output_type": "execute_result"
    }
   ],
   "source": [
    "transform_prepare_data(df_car,info)"
   ]
  },
  {
   "cell_type": "markdown",
   "id": "239325d3",
   "metadata": {
    "papermill": {
     "duration": 0.023438,
     "end_time": "2025-10-08T00:21:11.042398",
     "exception": false,
     "start_time": "2025-10-08T00:21:11.018960",
     "status": "completed"
    },
    "tags": []
   },
   "source": [
    "You get a request from this form."
   ]
  },
  {
   "cell_type": "code",
   "execution_count": 89,
   "id": "3d80b643",
   "metadata": {
    "execution": {
     "iopub.execute_input": "2025-10-08T00:21:11.090603Z",
     "iopub.status.busy": "2025-10-08T00:21:11.090287Z",
     "iopub.status.idle": "2025-10-08T00:21:11.119337Z",
     "shell.execute_reply": "2025-10-08T00:21:11.118313Z"
    },
    "papermill": {
     "duration": 0.054993,
     "end_time": "2025-10-08T00:21:11.120860",
     "exception": false,
     "start_time": "2025-10-08T00:21:11.065867",
     "status": "completed"
    },
    "tags": []
   },
   "outputs": [],
   "source": [
    "X_car = transform_prepare_data(df_car,info)"
   ]
  },
  {
   "cell_type": "code",
   "execution_count": 90,
   "id": "0c1a29d0",
   "metadata": {
    "execution": {
     "iopub.execute_input": "2025-10-08T00:21:11.171699Z",
     "iopub.status.busy": "2025-10-08T00:21:11.171020Z",
     "iopub.status.idle": "2025-10-08T00:21:11.178051Z",
     "shell.execute_reply": "2025-10-08T00:21:11.176894Z"
    },
    "papermill": {
     "duration": 0.033396,
     "end_time": "2025-10-08T00:21:11.179518",
     "exception": false,
     "start_time": "2025-10-08T00:21:11.146122",
     "status": "completed"
    },
    "tags": []
   },
   "outputs": [
    {
     "data": {
      "text/plain": [
       "11.522533793874006"
      ]
     },
     "execution_count": 90,
     "metadata": {},
     "output_type": "execute_result"
    }
   ],
   "source": [
    "y_pred = w0 + X_car.dot(w)\n",
    "y_pred[0]"
   ]
  },
  {
   "cell_type": "code",
   "execution_count": 91,
   "id": "9994fb95",
   "metadata": {
    "execution": {
     "iopub.execute_input": "2025-10-08T00:21:11.230108Z",
     "iopub.status.busy": "2025-10-08T00:21:11.229773Z",
     "iopub.status.idle": "2025-10-08T00:21:11.235445Z",
     "shell.execute_reply": "2025-10-08T00:21:11.234740Z"
    },
    "papermill": {
     "duration": 0.033024,
     "end_time": "2025-10-08T00:21:11.236881",
     "exception": false,
     "start_time": "2025-10-08T00:21:11.203857",
     "status": "completed"
    },
    "tags": []
   },
   "outputs": [
    {
     "data": {
      "text/plain": [
       "100964.46370918755"
      ]
     },
     "execution_count": 91,
     "metadata": {},
     "output_type": "execute_result"
    }
   ],
   "source": [
    "np.expm1(y_pred[0])"
   ]
  },
  {
   "cell_type": "markdown",
   "id": "21af6520",
   "metadata": {
    "papermill": {
     "duration": 0.023866,
     "end_time": "2025-10-08T00:21:11.285635",
     "exception": false,
     "start_time": "2025-10-08T00:21:11.261769",
     "status": "completed"
    },
    "tags": []
   },
   "source": [
    "This is the price prediction for this car"
   ]
  },
  {
   "cell_type": "code",
   "execution_count": 92,
   "id": "adeab8c7",
   "metadata": {
    "execution": {
     "iopub.execute_input": "2025-10-08T00:21:11.337486Z",
     "iopub.status.busy": "2025-10-08T00:21:11.337190Z",
     "iopub.status.idle": "2025-10-08T00:21:11.343039Z",
     "shell.execute_reply": "2025-10-08T00:21:11.342154Z"
    },
    "papermill": {
     "duration": 0.032509,
     "end_time": "2025-10-08T00:21:11.344514",
     "exception": false,
     "start_time": "2025-10-08T00:21:11.312005",
     "status": "completed"
    },
    "tags": []
   },
   "outputs": [
    {
     "data": {
      "text/plain": [
       "69449.99999999999"
      ]
     },
     "execution_count": 92,
     "metadata": {},
     "output_type": "execute_result"
    }
   ],
   "source": [
    "np.expm1(y_test[10])"
   ]
  },
  {
   "cell_type": "code",
   "execution_count": null,
   "id": "9dbfc7cf",
   "metadata": {
    "papermill": {
     "duration": 0.024735,
     "end_time": "2025-10-08T00:21:11.393371",
     "exception": false,
     "start_time": "2025-10-08T00:21:11.368636",
     "status": "completed"
    },
    "tags": []
   },
   "outputs": [],
   "source": []
  }
 ],
 "metadata": {
  "kaggle": {
   "accelerator": "none",
   "dataSources": [
    {
     "datasetId": 575,
     "sourceId": 1100,
     "sourceType": "datasetVersion"
    }
   ],
   "dockerImageVersionId": 31089,
   "isGpuEnabled": false,
   "isInternetEnabled": false,
   "language": "python",
   "sourceType": "notebook"
  },
  "kernelspec": {
   "display_name": "Python 3",
   "language": "python",
   "name": "python3"
  },
  "language_info": {
   "codemirror_mode": {
    "name": "ipython",
    "version": 3
   },
   "file_extension": ".py",
   "mimetype": "text/x-python",
   "name": "python",
   "nbconvert_exporter": "python",
   "pygments_lexer": "ipython3",
   "version": "3.11.13"
  },
  "papermill": {
   "default_parameters": {},
   "duration": 19.550256,
   "end_time": "2025-10-08T00:21:12.137242",
   "environment_variables": {},
   "exception": null,
   "input_path": "__notebook__.ipynb",
   "output_path": "__notebook__.ipynb",
   "parameters": {},
   "start_time": "2025-10-08T00:20:52.586986",
   "version": "2.6.0"
  }
 },
 "nbformat": 4,
 "nbformat_minor": 5
}
